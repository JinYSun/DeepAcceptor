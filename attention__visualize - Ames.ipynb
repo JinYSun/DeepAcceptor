{
 "cells": [
  {
   "cell_type": "code",
   "execution_count": 1,
   "metadata": {},
   "outputs": [],
   "source": [
    "import  tensorflow as tf\n",
    "import numpy as np\n",
    "import pandas as pd\n",
    "import matplotlib.pyplot as plt\n",
    "from dataset import Graph_Classification_Dataset,Inference_Dataset\n",
    "from sklearn.metrics import r2_score,roc_auc_score\n",
    "\n",
    "import os\n",
    "from model import  PredictModel_test,BertModel_test\n"
   ]
  },
  {
   "cell_type": "code",
   "execution_count": 2,
   "metadata": {},
   "outputs": [],
   "source": [
    "medium = {'name':'Medium','num_layers': 6, 'num_heads': 8, 'd_model': 256,'path':'medium_weights','addH':True}"
   ]
  },
  {
   "cell_type": "code",
   "execution_count": 18,
   "metadata": {},
   "outputs": [],
   "source": [
    "arch = medium  ## small 3 4 128   medium: 6 6  256     large:  12 8 516\n",
    "trained_epoch = 10\n",
    "num_layers = arch['num_layers']\n",
    "num_heads = arch['num_heads']\n",
    "d_model = arch['d_model']\n",
    "addH = arch['addH']\n",
    "\n",
    "dff = d_model * 2\n",
    "vocab_size = 17\n",
    "dropout_rate = 0.1\n",
    "\n",
    "seed = 7\n",
    "np.random.seed(seed=seed)\n",
    "tf.random.set_seed(seed=seed)\n",
    "\n",
    "task = 'Ames'\n",
    "df = pd.read_csv('data/clf/Ames.txt',sep='\\t')\n",
    "sml_list = df['SMILES'].tolist()\n",
    "inference_dataset = Inference_Dataset(['Cc1ccc(C(=O)Cl)cc1',\n",
    "    'COC(=O)C(C)CN=[N+]=[N-]',\n",
    "    'COc1cc2c(cc1OC)CN(N=O)CC2',\n",
    "                'Cc1c2ccccc2c(CBr)c2ccccc12',\n",
    "                'Cc1ccc2nsc(NC(=O)C(Cl)Cl)c2c1',\n",
    "                'Cc1cc(S(=O)(=O)O)c(N)cc1Cl'\n",
    "],addH=addH).get_data()"
   ]
  },
  {
   "cell_type": "code",
   "execution_count": 19,
   "metadata": {},
   "outputs": [],
   "source": [
    "x, adjoin_matrix, smiles ,atom_list = next(iter(inference_dataset.take(1)))\n",
    "seq = tf.cast(tf.math.equal(x, 0), tf.float32)\n",
    "\n",
    "mask = seq[:, tf.newaxis, tf.newaxis, :]\n",
    "model = PredictModel_test(num_layers=num_layers, d_model=d_model, dff=dff, num_heads=num_heads, vocab_size=vocab_size,\n",
    "                     dense_dropout=0.5)\n",
    "pred = model(x,mask=mask,training=True,adjoin_matrix=adjoin_matrix)\n",
    "model.load_weights('classification_weights/Ames_7.h5')"
   ]
  },
  {
   "cell_type": "code",
   "execution_count": 20,
   "metadata": {},
   "outputs": [],
   "source": [
    "x, adjoin_matrix, smiles ,atom_list = next(iter(inference_dataset.take(1)))\n",
    "seq = tf.cast(tf.math.equal(x, 0), tf.float32)\n",
    "mask = seq[:, tf.newaxis, tf.newaxis, :]\n",
    "x,atts,xs= model(x,mask=mask,training=True,adjoin_matrix=adjoin_matrix)"
   ]
  },
  {
   "cell_type": "code",
   "execution_count": 21,
   "metadata": {},
   "outputs": [],
   "source": [
    "from rdkit import Chem\n",
    "from rdkit.Chem.Draw import IPythonConsole\n",
    "from IPython.display import SVG,display\n",
    "from rdkit.Chem import rdDepictor\n",
    "from rdkit.Chem.Draw import rdMolDraw2D\n",
    "from rdkit.Chem.Draw.MolDrawing import DrawingOptions"
   ]
  },
  {
   "cell_type": "code",
   "execution_count": 22,
   "metadata": {},
   "outputs": [],
   "source": [
    "\n",
    "def plot_weights(smiles,attention_plot,max=5):\n",
    "    mol = Chem.MolFromSmiles(smiles_plot)\n",
    "    mol = Chem.RemoveHs(mol)\n",
    "    num_atoms = mol.GetNumAtoms()\n",
    "    atoms = []\n",
    "\n",
    "    for i in range(num_atoms):\n",
    "        atom = mol.GetAtomWithIdx(i)\n",
    "        atoms.append(atom.GetSymbol()+str(i))\n",
    "\n",
    "\n",
    "    att = tf.reduce_mean(tf.reduce_mean(attentions_plot[:,:,0,:],axis=0),axis=0)[1:].numpy()\n",
    "\n",
    "    \n",
    "    indices = (-att).argsort()\n",
    "    highlight = indices.tolist()\n",
    "    print([[atoms[indices[i]],('%.2f'%att[indices[i]])] for i in range(len(indices))])\n",
    "\n",
    "\n",
    "    drawer = rdMolDraw2D.MolDraw2DSVG(400,200)\n",
    "    opts = drawer.drawOptions()\n",
    "    drawer.drawOptions().updateAtomPalette({k: (0, 0, 0) for k in DrawingOptions.elemDict.keys()})\n",
    "\n",
    "\n",
    "#     for i in range(mol.GetNumAtoms()):\n",
    "#         opts.atomLabels[i] = mol.GetAtomWithIdx(i).GetSymbol()\n",
    "       \n",
    "    colors = {}\n",
    "    for i,h in enumerate(highlight):\n",
    "        colors[h] = (1-0.0*(att[h]-att[highlight[-1]])/(att[highlight[0]]-att[highlight[-1]]),\n",
    "                     0.9-0.9*(att[h]-att[highlight[-1]])/(att[highlight[0]]-att[highlight[-1]]),\n",
    "                     0.9-0.9*(att[h]-att[highlight[-1]])/(att[highlight[0]]-att[highlight[-1]]))\n",
    "    drawer.DrawMolecule(mol,\n",
    "                        highlightAtoms = highlight,\n",
    "                        highlightAtomColors=colors,\n",
    "                        highlightBonds=[])\n",
    "    drawer.FinishDrawing()\n",
    "    svg = drawer.GetDrawingText().replace('svg:','')\n",
    "    display(SVG(svg))"
   ]
  },
  {
   "cell_type": "code",
   "execution_count": 23,
   "metadata": {
    "scrolled": true
   },
   "outputs": [
    {
     "name": "stdout",
     "output_type": "stream",
     "text": [
      "[['C5', '0.18'], ['Cl7', '0.11'], ['C0', '0.09'], ['O6', '0.09'], ['C3', '0.05'], ['C1', '0.05'], ['C8', '0.04'], ['C4', '0.03'], ['C2', '0.03'], ['C9', '0.03']]\n"
     ]
    },
    {
     "data": {
      "image/svg+xml": [
       "<svg baseProfile=\"full\" height=\"200px\" version=\"1.1\" viewBox=\"0 0 400 200\" width=\"400px\" xml:space=\"preserve\" xmlns=\"http://www.w3.org/2000/svg\" xmlns:rdkit=\"http://www.rdkit.org/xml\" xmlns:xlink=\"http://www.w3.org/1999/xlink\">\n",
       "<!-- END OF HEADER -->\n",
       "<rect height=\"200\" style=\"opacity:1.0;fill:#FFFFFF;stroke:none\" width=\"400\" x=\"0\" y=\"0\"> </rect>\n",
       "<ellipse cx=\"367.176\" cy=\"100\" rx=\"14.6418\" ry=\"14.6418\" style=\"fill:#FF8A8A;fill-rule:evenodd;stroke:#FF8A8A;stroke-width:2px;stroke-linecap:butt;stroke-linejoin:miter;stroke-opacity:1\"/>\n",
       "<ellipse cx=\"293.968\" cy=\"100\" rx=\"14.6418\" ry=\"14.6418\" style=\"fill:#FFCECE;fill-rule:evenodd;stroke:#FFCECE;stroke-width:2px;stroke-linecap:butt;stroke-linejoin:miter;stroke-opacity:1\"/>\n",
       "<ellipse cx=\"257.363\" cy=\"163.401\" rx=\"14.6418\" ry=\"14.6418\" style=\"fill:#FFE4E4;fill-rule:evenodd;stroke:#FFE4E4;stroke-width:2px;stroke-linecap:butt;stroke-linejoin:miter;stroke-opacity:1\"/>\n",
       "<ellipse cx=\"184.154\" cy=\"163.401\" rx=\"14.6418\" ry=\"14.6418\" style=\"fill:#FFCDCD;fill-rule:evenodd;stroke:#FFCDCD;stroke-width:2px;stroke-linecap:butt;stroke-linejoin:miter;stroke-opacity:1\"/>\n",
       "<ellipse cx=\"147.55\" cy=\"100\" rx=\"14.6418\" ry=\"14.6418\" style=\"fill:#FFE1E1;fill-rule:evenodd;stroke:#FFE1E1;stroke-width:2px;stroke-linecap:butt;stroke-linejoin:miter;stroke-opacity:1\"/>\n",
       "<ellipse cx=\"74.3411\" cy=\"100\" rx=\"14.6418\" ry=\"14.6418\" style=\"fill:#FF0000;fill-rule:evenodd;stroke:#FF0000;stroke-width:2px;stroke-linecap:butt;stroke-linejoin:miter;stroke-opacity:1\"/>\n",
       "<ellipse cx=\"37.7367\" cy=\"36.5993\" rx=\"16.1162\" ry=\"17.2555\" style=\"fill:#FF8E8E;fill-rule:evenodd;stroke:#FF8E8E;stroke-width:2px;stroke-linecap:butt;stroke-linejoin:miter;stroke-opacity:1\"/>\n",
       "<ellipse cx=\"37.7367\" cy=\"163.401\" rx=\"19.5548\" ry=\"17.2555\" style=\"fill:#FF6C6C;fill-rule:evenodd;stroke:#FF6C6C;stroke-width:2px;stroke-linecap:butt;stroke-linejoin:miter;stroke-opacity:1\"/>\n",
       "<ellipse cx=\"184.154\" cy=\"36.5993\" rx=\"14.6418\" ry=\"14.6418\" style=\"fill:#FFDDDD;fill-rule:evenodd;stroke:#FFDDDD;stroke-width:2px;stroke-linecap:butt;stroke-linejoin:miter;stroke-opacity:1\"/>\n",
       "<ellipse cx=\"257.363\" cy=\"36.5993\" rx=\"14.6418\" ry=\"14.6418\" style=\"fill:#FFE5E5;fill-rule:evenodd;stroke:#FFE5E5;stroke-width:2px;stroke-linecap:butt;stroke-linejoin:miter;stroke-opacity:1\"/>\n",
       "<path class=\"bond-0\" d=\"M 367.176,100 L 293.968,100\" style=\"fill:none;fill-rule:evenodd;stroke:#000000;stroke-width:2px;stroke-linecap:butt;stroke-linejoin:miter;stroke-opacity:1\"/>\n",
       "<path class=\"bond-1\" d=\"M 293.968,100 L 257.363,163.401\" style=\"fill:none;fill-rule:evenodd;stroke:#000000;stroke-width:2px;stroke-linecap:butt;stroke-linejoin:miter;stroke-opacity:1\"/>\n",
       "<path class=\"bond-1\" d=\"M 275.797,102.189 L 250.174,146.57\" style=\"fill:none;fill-rule:evenodd;stroke:#000000;stroke-width:2px;stroke-linecap:butt;stroke-linejoin:miter;stroke-opacity:1\"/>\n",
       "<path class=\"bond-9\" d=\"M 293.968,100 L 257.363,36.5993\" style=\"fill:none;fill-rule:evenodd;stroke:#000000;stroke-width:2px;stroke-linecap:butt;stroke-linejoin:miter;stroke-opacity:1\"/>\n",
       "<path class=\"bond-2\" d=\"M 257.363,163.401 L 184.154,163.401\" style=\"fill:none;fill-rule:evenodd;stroke:#000000;stroke-width:2px;stroke-linecap:butt;stroke-linejoin:miter;stroke-opacity:1\"/>\n",
       "<path class=\"bond-3\" d=\"M 184.154,163.401 L 147.55,100\" style=\"fill:none;fill-rule:evenodd;stroke:#000000;stroke-width:2px;stroke-linecap:butt;stroke-linejoin:miter;stroke-opacity:1\"/>\n",
       "<path class=\"bond-3\" d=\"M 191.344,146.57 L 165.721,102.189\" style=\"fill:none;fill-rule:evenodd;stroke:#000000;stroke-width:2px;stroke-linecap:butt;stroke-linejoin:miter;stroke-opacity:1\"/>\n",
       "<path class=\"bond-4\" d=\"M 147.55,100 L 74.3411,100\" style=\"fill:none;fill-rule:evenodd;stroke:#000000;stroke-width:2px;stroke-linecap:butt;stroke-linejoin:miter;stroke-opacity:1\"/>\n",
       "<path class=\"bond-7\" d=\"M 147.55,100 L 184.154,36.5993\" style=\"fill:none;fill-rule:evenodd;stroke:#000000;stroke-width:2px;stroke-linecap:butt;stroke-linejoin:miter;stroke-opacity:1\"/>\n",
       "<path class=\"bond-5\" d=\"M 80.6811,96.3396 L 51.1213,45.1403\" style=\"fill:none;fill-rule:evenodd;stroke:#000000;stroke-width:2px;stroke-linecap:butt;stroke-linejoin:miter;stroke-opacity:1\"/>\n",
       "<path class=\"bond-5\" d=\"M 68.001,103.66 L 38.4411,52.4612\" style=\"fill:none;fill-rule:evenodd;stroke:#000000;stroke-width:2px;stroke-linecap:butt;stroke-linejoin:miter;stroke-opacity:1\"/>\n",
       "<path class=\"bond-6\" d=\"M 74.3411,100 L 44.7812,151.199\" style=\"fill:none;fill-rule:evenodd;stroke:#000000;stroke-width:2px;stroke-linecap:butt;stroke-linejoin:miter;stroke-opacity:1\"/>\n",
       "<path class=\"bond-8\" d=\"M 184.154,36.5993 L 257.363,36.5993\" style=\"fill:none;fill-rule:evenodd;stroke:#000000;stroke-width:2px;stroke-linecap:butt;stroke-linejoin:miter;stroke-opacity:1\"/>\n",
       "<path class=\"bond-8\" d=\"M 195.136,51.2411 L 246.382,51.2411\" style=\"fill:none;fill-rule:evenodd;stroke:#000000;stroke-width:2px;stroke-linecap:butt;stroke-linejoin:miter;stroke-opacity:1\"/>\n",
       "<text dominant-baseline=\"central\" style=\"font-size:24px;font-style:normal;font-weight:normal;fill-opacity:1;stroke:none;font-family:sans-serif;fill:#000000\" text-anchor=\"end\" x=\"46.6922\" y=\"40.2597\"><tspan>O</tspan></text>\n",
       "<text dominant-baseline=\"central\" style=\"font-size:24px;font-style:normal;font-weight:normal;fill-opacity:1;stroke:none;font-family:sans-serif;fill:#000000\" text-anchor=\"end\" x=\"49.1237\" y=\"167.061\"><tspan>Cl</tspan></text>\n",
       "</svg>"
      ],
      "text/plain": [
       "<IPython.core.display.SVG object>"
      ]
     },
     "metadata": {},
     "output_type": "display_data"
    },
    {
     "name": "stdout",
     "output_type": "stream",
     "text": [
      "tf.Tensor(\n",
      "[[ 4.372683 ]\n",
      " [ 2.9014668]\n",
      " [ 2.0431519]\n",
      " [ 0.6779646]\n",
      " [ 2.174057 ]\n",
      " [-3.0374727]], shape=(6, 1), dtype=float32)\n"
     ]
    }
   ],
   "source": [
    "\n",
    "\n",
    "i = 0\n",
    "smiles_plot = smiles[i].numpy().tolist()[0].decode()\n",
    "mol = Chem.MolFromSmiles(smiles_plot)\n",
    "num_atoms = mol.GetNumAtoms()\n",
    "attentions_plot = tf.concat([att[i:(i+1),:,:num_atoms+1,:num_atoms+1] for att in atts],axis=0)\n",
    "plot_weights(smiles_plot,attentions_plot)\n",
    "smiles_plot\n",
    "print(x)"
   ]
  },
  {
   "cell_type": "code",
   "execution_count": 24,
   "metadata": {},
   "outputs": [
    {
     "name": "stdout",
     "output_type": "stream",
     "text": [
      "[['N8', '0.12'], ['C2', '0.11'], ['N7', '0.11'], ['N9', '0.10'], ['C0', '0.06'], ['C5', '0.06'], ['O3', '0.05'], ['C4', '0.04'], ['C6', '0.03'], ['O1', '0.03']]\n"
     ]
    },
    {
     "data": {
      "image/svg+xml": [
       "<svg baseProfile=\"full\" height=\"200px\" version=\"1.1\" viewBox=\"0 0 400 200\" width=\"400px\" xml:space=\"preserve\" xmlns=\"http://www.w3.org/2000/svg\" xmlns:rdkit=\"http://www.rdkit.org/xml\" xmlns:xlink=\"http://www.w3.org/1999/xlink\">\n",
       "<!-- END OF HEADER -->\n",
       "<rect height=\"200\" style=\"opacity:1.0;fill:#FFFFFF;stroke:none\" width=\"400\" x=\"0\" y=\"0\"> </rect>\n",
       "<ellipse cx=\"50.9177\" cy=\"20.253\" rx=\"11.1621\" ry=\"11.1621\" style=\"fill:#FF9595;fill-rule:evenodd;stroke:#FF9595;stroke-width:2px;stroke-linecap:butt;stroke-linejoin:miter;stroke-opacity:1\"/>\n",
       "<ellipse cx=\"101.256\" cy=\"44.3549\" rx=\"12.2861\" ry=\"13.1547\" style=\"fill:#FFE5E5;fill-rule:evenodd;stroke:#FFE5E5;stroke-width:2px;stroke-linecap:butt;stroke-linejoin:miter;stroke-opacity:1\"/>\n",
       "<ellipse cx=\"105.552\" cy=\"100\" rx=\"11.1621\" ry=\"11.1621\" style=\"fill:#FF1212;fill-rule:evenodd;stroke:#FF1212;stroke-width:2px;stroke-linecap:butt;stroke-linejoin:miter;stroke-opacity:1\"/>\n",
       "<ellipse cx=\"59.5101\" cy=\"131.543\" rx=\"12.2861\" ry=\"13.1547\" style=\"fill:#FFBBBB;fill-rule:evenodd;stroke:#FFBBBB;stroke-width:2px;stroke-linecap:butt;stroke-linejoin:miter;stroke-opacity:1\"/>\n",
       "<ellipse cx=\"155.89\" cy=\"124.102\" rx=\"11.1621\" ry=\"11.1621\" style=\"fill:#FFCDCD;fill-rule:evenodd;stroke:#FFCDCD;stroke-width:2px;stroke-linecap:butt;stroke-linejoin:miter;stroke-opacity:1\"/>\n",
       "<ellipse cx=\"160.186\" cy=\"179.747\" rx=\"11.1621\" ry=\"11.1621\" style=\"fill:#FF9797;fill-rule:evenodd;stroke:#FF9797;stroke-width:2px;stroke-linecap:butt;stroke-linejoin:miter;stroke-opacity:1\"/>\n",
       "<ellipse cx=\"201.932\" cy=\"92.5587\" rx=\"11.1621\" ry=\"11.1621\" style=\"fill:#FFDDDD;fill-rule:evenodd;stroke:#FFDDDD;stroke-width:2px;stroke-linecap:butt;stroke-linejoin:miter;stroke-opacity:1\"/>\n",
       "<ellipse cx=\"252.27\" cy=\"116.661\" rx=\"11.4018\" ry=\"13.1547\" style=\"fill:#FF2525;fill-rule:evenodd;stroke:#FF2525;stroke-width:2px;stroke-linecap:butt;stroke-linejoin:miter;stroke-opacity:1\"/>\n",
       "<ellipse cx=\"298.312\" cy=\"85.1175\" rx=\"16.013\" ry=\"14.4702\" style=\"fill:#FF0000;fill-rule:evenodd;stroke:#FF0000;stroke-width:2px;stroke-linecap:butt;stroke-linejoin:miter;stroke-opacity:1\"/>\n",
       "<ellipse cx=\"346.213\" cy=\"53.5743\" rx=\"14.0312\" ry=\"14.4702\" style=\"fill:#FF3B3B;fill-rule:evenodd;stroke:#FF3B3B;stroke-width:2px;stroke-linecap:butt;stroke-linejoin:miter;stroke-opacity:1\"/>\n",
       "<path class=\"bond-0\" d=\"M 50.9177,20.253 L 92.5682,40.1953\" style=\"fill:none;fill-rule:evenodd;stroke:#000000;stroke-width:2px;stroke-linecap:butt;stroke-linejoin:miter;stroke-opacity:1\"/>\n",
       "<path class=\"bond-1\" d=\"M 101.974,53.6567 L 105.552,100\" style=\"fill:none;fill-rule:evenodd;stroke:#000000;stroke-width:2px;stroke-linecap:butt;stroke-linejoin:miter;stroke-opacity:1\"/>\n",
       "<path class=\"bond-2\" d=\"M 102.398,95.3958 L 65.0434,120.987\" style=\"fill:none;fill-rule:evenodd;stroke:#000000;stroke-width:2px;stroke-linecap:butt;stroke-linejoin:miter;stroke-opacity:1\"/>\n",
       "<path class=\"bond-2\" d=\"M 108.706,104.604 L 71.352,130.195\" style=\"fill:none;fill-rule:evenodd;stroke:#000000;stroke-width:2px;stroke-linecap:butt;stroke-linejoin:miter;stroke-opacity:1\"/>\n",
       "<path class=\"bond-3\" d=\"M 105.552,100 L 155.89,124.102\" style=\"fill:none;fill-rule:evenodd;stroke:#000000;stroke-width:2px;stroke-linecap:butt;stroke-linejoin:miter;stroke-opacity:1\"/>\n",
       "<path class=\"bond-4\" d=\"M 155.89,124.102 L 160.186,179.747\" style=\"fill:none;fill-rule:evenodd;stroke:#000000;stroke-width:2px;stroke-linecap:butt;stroke-linejoin:miter;stroke-opacity:1\"/>\n",
       "<path class=\"bond-5\" d=\"M 155.89,124.102 L 201.932,92.5587\" style=\"fill:none;fill-rule:evenodd;stroke:#000000;stroke-width:2px;stroke-linecap:butt;stroke-linejoin:miter;stroke-opacity:1\"/>\n",
       "<path class=\"bond-6\" d=\"M 201.932,92.5587 L 244.208,112.8\" style=\"fill:none;fill-rule:evenodd;stroke:#000000;stroke-width:2px;stroke-linecap:butt;stroke-linejoin:miter;stroke-opacity:1\"/>\n",
       "<path class=\"bond-7\" d=\"M 263.487,115.741 L 290.144,97.479\" style=\"fill:none;fill-rule:evenodd;stroke:#000000;stroke-width:2px;stroke-linecap:butt;stroke-linejoin:miter;stroke-opacity:1\"/>\n",
       "<path class=\"bond-7\" d=\"M 257.178,106.533 L 283.835,88.2706\" style=\"fill:none;fill-rule:evenodd;stroke:#000000;stroke-width:2px;stroke-linecap:butt;stroke-linejoin:miter;stroke-opacity:1\"/>\n",
       "<path class=\"bond-8\" d=\"M 312.789,81.9644 L 339.446,63.702\" style=\"fill:none;fill-rule:evenodd;stroke:#000000;stroke-width:2px;stroke-linecap:butt;stroke-linejoin:miter;stroke-opacity:1\"/>\n",
       "<path class=\"bond-8\" d=\"M 306.481,72.756 L 333.137,54.4936\" style=\"fill:none;fill-rule:evenodd;stroke:#000000;stroke-width:2px;stroke-linecap:butt;stroke-linejoin:miter;stroke-opacity:1\"/>\n",
       "<text dominant-baseline=\"central\" style=\"font-size:18px;font-style:normal;font-weight:normal;fill-opacity:1;stroke:none;font-family:sans-serif;fill:#000000\" text-anchor=\"start\" x=\"94.4285\" y=\"47.1455\"><tspan>O</tspan></text>\n",
       "<text dominant-baseline=\"central\" style=\"font-size:18px;font-style:normal;font-weight:normal;fill-opacity:1;stroke:none;font-family:sans-serif;fill:#000000\" text-anchor=\"end\" x=\"66.3373\" y=\"134.334\"><tspan>O</tspan></text>\n",
       "<text dominant-baseline=\"central\" style=\"font-size:18px;font-style:normal;font-weight:normal;fill-opacity:1;stroke:none;font-family:sans-serif;fill:#000000\" text-anchor=\"middle\" x=\"252.27\" y=\"119.451\"><tspan>N</tspan></text>\n",
       "<text dominant-baseline=\"central\" style=\"font-size:18px;font-style:normal;font-weight:normal;fill-opacity:1;stroke:none;font-family:sans-serif;fill:#000000\" text-anchor=\"middle\" x=\"298.312\" y=\"88.1871\"><tspan>N</tspan><tspan style=\"baseline-shift:super;font-size:13.5px;\">+</tspan><tspan/></text>\n",
       "<text dominant-baseline=\"central\" style=\"font-size:18px;font-style:normal;font-weight:normal;fill-opacity:1;stroke:none;font-family:sans-serif;fill:#000000\" text-anchor=\"start\" x=\"338.338\" y=\"56.6439\"><tspan>N</tspan><tspan style=\"baseline-shift:super;font-size:13.5px;\">-</tspan><tspan/></text>\n",
       "</svg>"
      ],
      "text/plain": [
       "<IPython.core.display.SVG object>"
      ]
     },
     "metadata": {},
     "output_type": "display_data"
    }
   ],
   "source": [
    "i = 1\n",
    "smiles_plot = smiles[i].numpy().tolist()[0].decode()\n",
    "mol = Chem.MolFromSmiles(smiles_plot)\n",
    "num_atoms = mol.GetNumAtoms()\n",
    "attentions_plot = tf.concat([att[i:(i+1),:,:num_atoms+1,:num_atoms+1] for att in atts],axis=0)\n",
    "plot_weights(smiles_plot,attentions_plot)"
   ]
  },
  {
   "cell_type": "code",
   "execution_count": 25,
   "metadata": {},
   "outputs": [
    {
     "name": "stdout",
     "output_type": "stream",
     "text": [
      "[['N12', '0.10'], ['N11', '0.10'], ['C10', '0.05'], ['O13', '0.05'], ['C0', '0.05'], ['C7', '0.04'], ['C9', '0.04'], ['C2', '0.04'], ['C4', '0.04'], ['C3', '0.04'], ['C6', '0.03'], ['C14', '0.03'], ['C5', '0.02'], ['O1', '0.02'], ['C15', '0.02'], ['O8', '0.02']]\n"
     ]
    },
    {
     "data": {
      "image/svg+xml": [
       "<svg baseProfile=\"full\" height=\"200px\" version=\"1.1\" viewBox=\"0 0 400 200\" width=\"400px\" xml:space=\"preserve\" xmlns=\"http://www.w3.org/2000/svg\" xmlns:rdkit=\"http://www.rdkit.org/xml\" xmlns:xlink=\"http://www.w3.org/1999/xlink\">\n",
       "<!-- END OF HEADER -->\n",
       "<rect height=\"200\" style=\"opacity:1.0;fill:#FFFFFF;stroke:none\" width=\"400\" x=\"0\" y=\"0\"> </rect>\n",
       "<ellipse cx=\"72.428\" cy=\"17.5743\" rx=\"8.48341\" ry=\"8.48341\" style=\"fill:#FFA0A0;fill-rule:evenodd;stroke:#FFA0A0;stroke-width:2px;stroke-linecap:butt;stroke-linejoin:miter;stroke-opacity:1\"/>\n",
       "<ellipse cx=\"82.4634\" cy=\"58.7872\" rx=\"9.33768\" ry=\"9.9978\" style=\"fill:#FFDEDE;fill-rule:evenodd;stroke:#FFDEDE;stroke-width:2px;stroke-linecap:butt;stroke-linejoin:miter;stroke-opacity:1\"/>\n",
       "<ellipse cx=\"123.172\" cy=\"70.7027\" rx=\"8.48341\" ry=\"8.48341\" style=\"fill:#FFB1B1;fill-rule:evenodd;stroke:#FFB1B1;stroke-width:2px;stroke-linecap:butt;stroke-linejoin:miter;stroke-opacity:1\"/>\n",
       "<ellipse cx=\"153.846\" cy=\"41.4054\" rx=\"8.48341\" ry=\"8.48341\" style=\"fill:#FFBCBC;fill-rule:evenodd;stroke:#FFBCBC;stroke-width:2px;stroke-linecap:butt;stroke-linejoin:miter;stroke-opacity:1\"/>\n",
       "<ellipse cx=\"194.555\" cy=\"53.3209\" rx=\"8.48341\" ry=\"8.48341\" style=\"fill:#FFB8B8;fill-rule:evenodd;stroke:#FFB8B8;stroke-width:2px;stroke-linecap:butt;stroke-linejoin:miter;stroke-opacity:1\"/>\n",
       "<ellipse cx=\"204.591\" cy=\"94.5338\" rx=\"8.48341\" ry=\"8.48341\" style=\"fill:#FFD9D9;fill-rule:evenodd;stroke:#FFD9D9;stroke-width:2px;stroke-linecap:butt;stroke-linejoin:miter;stroke-opacity:1\"/>\n",
       "<ellipse cx=\"173.917\" cy=\"123.831\" rx=\"8.48341\" ry=\"8.48341\" style=\"fill:#FFBDBD;fill-rule:evenodd;stroke:#FFBDBD;stroke-width:2px;stroke-linecap:butt;stroke-linejoin:miter;stroke-opacity:1\"/>\n",
       "<ellipse cx=\"133.208\" cy=\"111.916\" rx=\"8.48341\" ry=\"8.48341\" style=\"fill:#FFA2A2;fill-rule:evenodd;stroke:#FFA2A2;stroke-width:2px;stroke-linecap:butt;stroke-linejoin:miter;stroke-opacity:1\"/>\n",
       "<ellipse cx=\"102.534\" cy=\"141.213\" rx=\"9.33768\" ry=\"9.9978\" style=\"fill:#FFE5E5;fill-rule:evenodd;stroke:#FFE5E5;stroke-width:2px;stroke-linecap:butt;stroke-linejoin:miter;stroke-opacity:1\"/>\n",
       "<ellipse cx=\"112.57\" cy=\"182.426\" rx=\"8.48341\" ry=\"8.48341\" style=\"fill:#FFA9A9;fill-rule:evenodd;stroke:#FFA9A9;stroke-width:2px;stroke-linecap:butt;stroke-linejoin:miter;stroke-opacity:1\"/>\n",
       "<ellipse cx=\"245.3\" cy=\"106.449\" rx=\"8.48341\" ry=\"8.48341\" style=\"fill:#FF9393;fill-rule:evenodd;stroke:#FF9393;stroke-width:2px;stroke-linecap:butt;stroke-linejoin:miter;stroke-opacity:1\"/>\n",
       "<ellipse cx=\"275.973\" cy=\"77.152\" rx=\"8.66556\" ry=\"9.9978\" style=\"fill:#FF0505;fill-rule:evenodd;stroke:#FF0505;stroke-width:2px;stroke-linecap:butt;stroke-linejoin:miter;stroke-opacity:1\"/>\n",
       "<ellipse cx=\"316.682\" cy=\"89.0675\" rx=\"8.66556\" ry=\"9.9978\" style=\"fill:#FF0000;fill-rule:evenodd;stroke:#FF0000;stroke-width:2px;stroke-linecap:butt;stroke-linejoin:miter;stroke-opacity:1\"/>\n",
       "<ellipse cx=\"326.718\" cy=\"130.28\" rx=\"9.33768\" ry=\"9.9978\" style=\"fill:#FF9393;fill-rule:evenodd;stroke:#FF9393;stroke-width:2px;stroke-linecap:butt;stroke-linejoin:miter;stroke-opacity:1\"/>\n",
       "<ellipse cx=\"265.938\" cy=\"35.9392\" rx=\"8.48341\" ry=\"8.48341\" style=\"fill:#FFC8C8;fill-rule:evenodd;stroke:#FFC8C8;stroke-width:2px;stroke-linecap:butt;stroke-linejoin:miter;stroke-opacity:1\"/>\n",
       "<ellipse cx=\"225.229\" cy=\"24.0236\" rx=\"8.48341\" ry=\"8.48341\" style=\"fill:#FFE0E0;fill-rule:evenodd;stroke:#FFE0E0;stroke-width:2px;stroke-linecap:butt;stroke-linejoin:miter;stroke-opacity:1\"/>\n",
       "<path class=\"bond-0\" d=\"M 72.428,17.5743 L 80.742,51.7177\" style=\"fill:none;fill-rule:evenodd;stroke:#000000;stroke-width:2px;stroke-linecap:butt;stroke-linejoin:miter;stroke-opacity:1\"/>\n",
       "<path class=\"bond-1\" d=\"M 89.0661,60.7198 L 123.172,70.7027\" style=\"fill:none;fill-rule:evenodd;stroke:#000000;stroke-width:2px;stroke-linecap:butt;stroke-linejoin:miter;stroke-opacity:1\"/>\n",
       "<path class=\"bond-2\" d=\"M 123.172,70.7027 L 153.846,41.4054\" style=\"fill:none;fill-rule:evenodd;stroke:#000000;stroke-width:2px;stroke-linecap:butt;stroke-linejoin:miter;stroke-opacity:1\"/>\n",
       "<path class=\"bond-2\" d=\"M 133.633,72.4428 L 155.105,51.9347\" style=\"fill:none;fill-rule:evenodd;stroke:#000000;stroke-width:2px;stroke-linecap:butt;stroke-linejoin:miter;stroke-opacity:1\"/>\n",
       "<path class=\"bond-15\" d=\"M 123.172,70.7027 L 133.208,111.916\" style=\"fill:none;fill-rule:evenodd;stroke:#000000;stroke-width:2px;stroke-linecap:butt;stroke-linejoin:miter;stroke-opacity:1\"/>\n",
       "<path class=\"bond-3\" d=\"M 153.846,41.4054 L 194.555,53.3209\" style=\"fill:none;fill-rule:evenodd;stroke:#000000;stroke-width:2px;stroke-linecap:butt;stroke-linejoin:miter;stroke-opacity:1\"/>\n",
       "<path class=\"bond-4\" d=\"M 194.555,53.3209 L 204.591,94.5338\" style=\"fill:none;fill-rule:evenodd;stroke:#000000;stroke-width:2px;stroke-linecap:butt;stroke-linejoin:miter;stroke-opacity:1\"/>\n",
       "<path class=\"bond-4\" d=\"M 187.818,61.5099 L 194.843,90.3589\" style=\"fill:none;fill-rule:evenodd;stroke:#000000;stroke-width:2px;stroke-linecap:butt;stroke-linejoin:miter;stroke-opacity:1\"/>\n",
       "<path class=\"bond-16\" d=\"M 194.555,53.3209 L 225.229,24.0236\" style=\"fill:none;fill-rule:evenodd;stroke:#000000;stroke-width:2px;stroke-linecap:butt;stroke-linejoin:miter;stroke-opacity:1\"/>\n",
       "<path class=\"bond-5\" d=\"M 204.591,94.5338 L 173.917,123.831\" style=\"fill:none;fill-rule:evenodd;stroke:#000000;stroke-width:2px;stroke-linecap:butt;stroke-linejoin:miter;stroke-opacity:1\"/>\n",
       "<path class=\"bond-9\" d=\"M 204.591,94.5338 L 245.3,106.449\" style=\"fill:none;fill-rule:evenodd;stroke:#000000;stroke-width:2px;stroke-linecap:butt;stroke-linejoin:miter;stroke-opacity:1\"/>\n",
       "<path class=\"bond-6\" d=\"M 173.917,123.831 L 133.208,111.916\" style=\"fill:none;fill-rule:evenodd;stroke:#000000;stroke-width:2px;stroke-linecap:butt;stroke-linejoin:miter;stroke-opacity:1\"/>\n",
       "<path class=\"bond-6\" d=\"M 170.194,113.902 L 141.697,105.561\" style=\"fill:none;fill-rule:evenodd;stroke:#000000;stroke-width:2px;stroke-linecap:butt;stroke-linejoin:miter;stroke-opacity:1\"/>\n",
       "<path class=\"bond-7\" d=\"M 133.208,111.916 L 109.137,134.906\" style=\"fill:none;fill-rule:evenodd;stroke:#000000;stroke-width:2px;stroke-linecap:butt;stroke-linejoin:miter;stroke-opacity:1\"/>\n",
       "<path class=\"bond-8\" d=\"M 104.256,148.282 L 112.57,182.426\" style=\"fill:none;fill-rule:evenodd;stroke:#000000;stroke-width:2px;stroke-linecap:butt;stroke-linejoin:miter;stroke-opacity:1\"/>\n",
       "<path class=\"bond-10\" d=\"M 245.3,106.449 L 269.846,83.0045\" style=\"fill:none;fill-rule:evenodd;stroke:#000000;stroke-width:2px;stroke-linecap:butt;stroke-linejoin:miter;stroke-opacity:1\"/>\n",
       "<path class=\"bond-11\" d=\"M 282.101,78.9455 L 310.555,87.274\" style=\"fill:none;fill-rule:evenodd;stroke:#000000;stroke-width:2px;stroke-linecap:butt;stroke-linejoin:miter;stroke-opacity:1\"/>\n",
       "<path class=\"bond-13\" d=\"M 274.252,70.0825 L 265.938,35.9392\" style=\"fill:none;fill-rule:evenodd;stroke:#000000;stroke-width:2px;stroke-linecap:butt;stroke-linejoin:miter;stroke-opacity:1\"/>\n",
       "<path class=\"bond-12\" d=\"M 314.282,97.1406 L 320.875,124.214\" style=\"fill:none;fill-rule:evenodd;stroke:#000000;stroke-width:2px;stroke-linecap:butt;stroke-linejoin:miter;stroke-opacity:1\"/>\n",
       "<path class=\"bond-12\" d=\"M 322.525,95.1335 L 329.118,122.207\" style=\"fill:none;fill-rule:evenodd;stroke:#000000;stroke-width:2px;stroke-linecap:butt;stroke-linejoin:miter;stroke-opacity:1\"/>\n",
       "<path class=\"bond-14\" d=\"M 265.938,35.9392 L 225.229,24.0236\" style=\"fill:none;fill-rule:evenodd;stroke:#000000;stroke-width:2px;stroke-linecap:butt;stroke-linejoin:miter;stroke-opacity:1\"/>\n",
       "<text dominant-baseline=\"central\" style=\"font-size:14px;font-style:normal;font-weight:normal;fill-opacity:1;stroke:none;font-family:sans-serif;fill:#000000\" text-anchor=\"end\" x=\"87.6522\" y=\"60.908\"><tspan>O</tspan></text>\n",
       "<text dominant-baseline=\"central\" style=\"font-size:14px;font-style:normal;font-weight:normal;fill-opacity:1;stroke:none;font-family:sans-serif;fill:#000000\" text-anchor=\"end\" x=\"107.723\" y=\"143.334\"><tspan>O</tspan></text>\n",
       "<text dominant-baseline=\"central\" style=\"font-size:14px;font-style:normal;font-weight:normal;fill-opacity:1;stroke:none;font-family:sans-serif;fill:#000000\" text-anchor=\"middle\" x=\"275.973\" y=\"79.2728\"><tspan>N</tspan></text>\n",
       "<text dominant-baseline=\"central\" style=\"font-size:14px;font-style:normal;font-weight:normal;fill-opacity:1;stroke:none;font-family:sans-serif;fill:#000000\" text-anchor=\"start\" x=\"311.969\" y=\"91.1884\"><tspan>N</tspan></text>\n",
       "<text dominant-baseline=\"central\" style=\"font-size:14px;font-style:normal;font-weight:normal;fill-opacity:1;stroke:none;font-family:sans-serif;fill:#000000\" text-anchor=\"start\" x=\"321.529\" y=\"132.401\"><tspan>O</tspan></text>\n",
       "</svg>"
      ],
      "text/plain": [
       "<IPython.core.display.SVG object>"
      ]
     },
     "metadata": {},
     "output_type": "display_data"
    }
   ],
   "source": [
    "i = 2\n",
    "smiles_plot = smiles[i].numpy().tolist()[0].decode()\n",
    "mol = Chem.MolFromSmiles(smiles_plot)\n",
    "num_atoms = mol.GetNumAtoms()\n",
    "attentions_plot = tf.concat([att[i:(i+1),:,:num_atoms+1,:num_atoms+1] for att in atts],axis=0)\n",
    "plot_weights(smiles_plot,attentions_plot)"
   ]
  },
  {
   "cell_type": "code",
   "execution_count": 16,
   "metadata": {},
   "outputs": [
    {
     "name": "stdout",
     "output_type": "stream",
     "text": [
      "[['Br10', '0.12'], ['C0', '0.07'], ['C1', '0.06'], ['C8', '0.05'], ['C13', '0.04'], ['C9', '0.04'], ['C5', '0.04'], ['C14', '0.04'], ['C4', '0.03'], ['C11', '0.03'], ['C7', '0.02'], ['C12', '0.02'], ['C15', '0.02'], ['C2', '0.02'], ['C16', '0.02'], ['C6', '0.02'], ['C3', '0.02']]\n"
     ]
    },
    {
     "data": {
      "image/svg+xml": [
       "<svg baseProfile=\"full\" height=\"200px\" version=\"1.1\" viewBox=\"0 0 400 200\" width=\"400px\" xml:space=\"preserve\" xmlns=\"http://www.w3.org/2000/svg\" xmlns:rdkit=\"http://www.rdkit.org/xml\" xmlns:xlink=\"http://www.w3.org/1999/xlink\">\n",
       "<!-- END OF HEADER -->\n",
       "<rect height=\"200\" style=\"opacity:1.0;fill:#FFFFFF;stroke:none\" width=\"400\" x=\"0\" y=\"0\"> </rect>\n",
       "<ellipse cx=\"192.738\" cy=\"183.382\" rx=\"7.52691\" ry=\"7.52691\" style=\"fill:#FF6C6C;fill-rule:evenodd;stroke:#FF6C6C;stroke-width:2px;stroke-linecap:butt;stroke-linejoin:miter;stroke-opacity:1\"/>\n",
       "<ellipse cx=\"196.369\" cy=\"145.923\" rx=\"7.52691\" ry=\"7.52691\" style=\"fill:#FF9898;fill-rule:evenodd;stroke:#FF9898;stroke-width:2px;stroke-linecap:butt;stroke-linejoin:miter;stroke-opacity:1\"/>\n",
       "<ellipse cx=\"230.625\" cy=\"130.338\" rx=\"7.52691\" ry=\"7.52691\" style=\"fill:#FFE4E4;fill-rule:evenodd;stroke:#FFE4E4;stroke-width:2px;stroke-linecap:butt;stroke-linejoin:miter;stroke-opacity:1\"/>\n",
       "<ellipse cx=\"261.25\" cy=\"152.213\" rx=\"7.52691\" ry=\"7.52691\" style=\"fill:#FFE5E5;fill-rule:evenodd;stroke:#FFE5E5;stroke-width:2px;stroke-linecap:butt;stroke-linejoin:miter;stroke-opacity:1\"/>\n",
       "<ellipse cx=\"295.506\" cy=\"136.628\" rx=\"7.52691\" ry=\"7.52691\" style=\"fill:#FFC9C9;fill-rule:evenodd;stroke:#FFC9C9;stroke-width:2px;stroke-linecap:butt;stroke-linejoin:miter;stroke-opacity:1\"/>\n",
       "<ellipse cx=\"299.137\" cy=\"99.1687\" rx=\"7.52691\" ry=\"7.52691\" style=\"fill:#FFC3C3;fill-rule:evenodd;stroke:#FFC3C3;stroke-width:2px;stroke-linecap:butt;stroke-linejoin:miter;stroke-opacity:1\"/>\n",
       "<ellipse cx=\"268.512\" cy=\"77.2946\" rx=\"7.52691\" ry=\"7.52691\" style=\"fill:#FFE4E4;fill-rule:evenodd;stroke:#FFE4E4;stroke-width:2px;stroke-linecap:butt;stroke-linejoin:miter;stroke-opacity:1\"/>\n",
       "<ellipse cx=\"234.256\" cy=\"92.8794\" rx=\"7.52691\" ry=\"7.52691\" style=\"fill:#FFE1E1;fill-rule:evenodd;stroke:#FFE1E1;stroke-width:2px;stroke-linecap:butt;stroke-linejoin:miter;stroke-opacity:1\"/>\n",
       "<ellipse cx=\"203.631\" cy=\"71.0053\" rx=\"7.52691\" ry=\"7.52691\" style=\"fill:#FFABAB;fill-rule:evenodd;stroke:#FFABAB;stroke-width:2px;stroke-linecap:butt;stroke-linejoin:miter;stroke-opacity:1\"/>\n",
       "<ellipse cx=\"207.262\" cy=\"33.5463\" rx=\"7.52691\" ry=\"7.52691\" style=\"fill:#FFB9B9;fill-rule:evenodd;stroke:#FFB9B9;stroke-width:2px;stroke-linecap:butt;stroke-linejoin:miter;stroke-opacity:1\"/>\n",
       "<ellipse cx=\"241.518\" cy=\"17.9615\" rx=\"10.6489\" ry=\"8.87055\" style=\"fill:#FF0000;fill-rule:evenodd;stroke:#FF0000;stroke-width:2px;stroke-linecap:butt;stroke-linejoin:miter;stroke-opacity:1\"/>\n",
       "<ellipse cx=\"169.375\" cy=\"86.5901\" rx=\"7.52691\" ry=\"7.52691\" style=\"fill:#FFD5D5;fill-rule:evenodd;stroke:#FFD5D5;stroke-width:2px;stroke-linecap:butt;stroke-linejoin:miter;stroke-opacity:1\"/>\n",
       "<ellipse cx=\"138.75\" cy=\"64.7159\" rx=\"7.52691\" ry=\"7.52691\" style=\"fill:#FFE4E4;fill-rule:evenodd;stroke:#FFE4E4;stroke-width:2px;stroke-linecap:butt;stroke-linejoin:miter;stroke-opacity:1\"/>\n",
       "<ellipse cx=\"104.494\" cy=\"80.3008\" rx=\"7.52691\" ry=\"7.52691\" style=\"fill:#FFB6B6;fill-rule:evenodd;stroke:#FFB6B6;stroke-width:2px;stroke-linecap:butt;stroke-linejoin:miter;stroke-opacity:1\"/>\n",
       "<ellipse cx=\"100.863\" cy=\"117.76\" rx=\"7.52691\" ry=\"7.52691\" style=\"fill:#FFC4C4;fill-rule:evenodd;stroke:#FFC4C4;stroke-width:2px;stroke-linecap:butt;stroke-linejoin:miter;stroke-opacity:1\"/>\n",
       "<ellipse cx=\"131.488\" cy=\"139.634\" rx=\"7.52691\" ry=\"7.52691\" style=\"fill:#FFE4E4;fill-rule:evenodd;stroke:#FFE4E4;stroke-width:2px;stroke-linecap:butt;stroke-linejoin:miter;stroke-opacity:1\"/>\n",
       "<ellipse cx=\"165.744\" cy=\"124.049\" rx=\"7.52691\" ry=\"7.52691\" style=\"fill:#FFE4E4;fill-rule:evenodd;stroke:#FFE4E4;stroke-width:2px;stroke-linecap:butt;stroke-linejoin:miter;stroke-opacity:1\"/>\n",
       "<path class=\"bond-0\" d=\"M 192.738,183.382 L 196.369,145.923\" style=\"fill:none;fill-rule:evenodd;stroke:#000000;stroke-width:2px;stroke-linecap:butt;stroke-linejoin:miter;stroke-opacity:1\"/>\n",
       "<path class=\"bond-1\" d=\"M 196.369,145.923 L 230.625,130.338\" style=\"fill:none;fill-rule:evenodd;stroke:#000000;stroke-width:2px;stroke-linecap:butt;stroke-linejoin:miter;stroke-opacity:1\"/>\n",
       "<path class=\"bond-1\" d=\"M 198.39,136.734 L 222.369,125.825\" style=\"fill:none;fill-rule:evenodd;stroke:#000000;stroke-width:2px;stroke-linecap:butt;stroke-linejoin:miter;stroke-opacity:1\"/>\n",
       "<path class=\"bond-16\" d=\"M 196.369,145.923 L 165.744,124.049\" style=\"fill:none;fill-rule:evenodd;stroke:#000000;stroke-width:2px;stroke-linecap:butt;stroke-linejoin:miter;stroke-opacity:1\"/>\n",
       "<path class=\"bond-2\" d=\"M 230.625,130.338 L 261.25,152.213\" style=\"fill:none;fill-rule:evenodd;stroke:#000000;stroke-width:2px;stroke-linecap:butt;stroke-linejoin:miter;stroke-opacity:1\"/>\n",
       "<path class=\"bond-17\" d=\"M 230.625,130.338 L 234.256,92.8794\" style=\"fill:none;fill-rule:evenodd;stroke:#000000;stroke-width:2px;stroke-linecap:butt;stroke-linejoin:miter;stroke-opacity:1\"/>\n",
       "<path class=\"bond-3\" d=\"M 261.25,152.213 L 295.506,136.628\" style=\"fill:none;fill-rule:evenodd;stroke:#000000;stroke-width:2px;stroke-linecap:butt;stroke-linejoin:miter;stroke-opacity:1\"/>\n",
       "<path class=\"bond-3\" d=\"M 263.271,143.024 L 287.25,132.114\" style=\"fill:none;fill-rule:evenodd;stroke:#000000;stroke-width:2px;stroke-linecap:butt;stroke-linejoin:miter;stroke-opacity:1\"/>\n",
       "<path class=\"bond-4\" d=\"M 295.506,136.628 L 299.137,99.1687\" style=\"fill:none;fill-rule:evenodd;stroke:#000000;stroke-width:2px;stroke-linecap:butt;stroke-linejoin:miter;stroke-opacity:1\"/>\n",
       "<path class=\"bond-5\" d=\"M 299.137,99.1687 L 268.512,77.2946\" style=\"fill:none;fill-rule:evenodd;stroke:#000000;stroke-width:2px;stroke-linecap:butt;stroke-linejoin:miter;stroke-opacity:1\"/>\n",
       "<path class=\"bond-5\" d=\"M 290.168,102.013 L 268.731,86.7007\" style=\"fill:none;fill-rule:evenodd;stroke:#000000;stroke-width:2px;stroke-linecap:butt;stroke-linejoin:miter;stroke-opacity:1\"/>\n",
       "<path class=\"bond-6\" d=\"M 268.512,77.2946 L 234.256,92.8794\" style=\"fill:none;fill-rule:evenodd;stroke:#000000;stroke-width:2px;stroke-linecap:butt;stroke-linejoin:miter;stroke-opacity:1\"/>\n",
       "<path class=\"bond-7\" d=\"M 234.256,92.8794 L 203.631,71.0053\" style=\"fill:none;fill-rule:evenodd;stroke:#000000;stroke-width:2px;stroke-linecap:butt;stroke-linejoin:miter;stroke-opacity:1\"/>\n",
       "<path class=\"bond-7\" d=\"M 225.287,95.7233 L 203.85,80.4114\" style=\"fill:none;fill-rule:evenodd;stroke:#000000;stroke-width:2px;stroke-linecap:butt;stroke-linejoin:miter;stroke-opacity:1\"/>\n",
       "<path class=\"bond-8\" d=\"M 203.631,71.0053 L 207.262,33.5463\" style=\"fill:none;fill-rule:evenodd;stroke:#000000;stroke-width:2px;stroke-linecap:butt;stroke-linejoin:miter;stroke-opacity:1\"/>\n",
       "<path class=\"bond-10\" d=\"M 203.631,71.0053 L 169.375,86.5901\" style=\"fill:none;fill-rule:evenodd;stroke:#000000;stroke-width:2px;stroke-linecap:butt;stroke-linejoin:miter;stroke-opacity:1\"/>\n",
       "<path class=\"bond-9\" d=\"M 207.262,33.5463 L 233.988,21.3872\" style=\"fill:none;fill-rule:evenodd;stroke:#000000;stroke-width:2px;stroke-linecap:butt;stroke-linejoin:miter;stroke-opacity:1\"/>\n",
       "<path class=\"bond-11\" d=\"M 169.375,86.5901 L 138.75,64.7159\" style=\"fill:none;fill-rule:evenodd;stroke:#000000;stroke-width:2px;stroke-linecap:butt;stroke-linejoin:miter;stroke-opacity:1\"/>\n",
       "<path class=\"bond-11\" d=\"M 160.407,89.4339 L 138.969,74.122\" style=\"fill:none;fill-rule:evenodd;stroke:#000000;stroke-width:2px;stroke-linecap:butt;stroke-linejoin:miter;stroke-opacity:1\"/>\n",
       "<path class=\"bond-18\" d=\"M 169.375,86.5901 L 165.744,124.049\" style=\"fill:none;fill-rule:evenodd;stroke:#000000;stroke-width:2px;stroke-linecap:butt;stroke-linejoin:miter;stroke-opacity:1\"/>\n",
       "<path class=\"bond-12\" d=\"M 138.75,64.7159 L 104.494,80.3008\" style=\"fill:none;fill-rule:evenodd;stroke:#000000;stroke-width:2px;stroke-linecap:butt;stroke-linejoin:miter;stroke-opacity:1\"/>\n",
       "<path class=\"bond-13\" d=\"M 104.494,80.3008 L 100.863,117.76\" style=\"fill:none;fill-rule:evenodd;stroke:#000000;stroke-width:2px;stroke-linecap:butt;stroke-linejoin:miter;stroke-opacity:1\"/>\n",
       "<path class=\"bond-13\" d=\"M 111.441,86.6458 L 108.9,112.867\" style=\"fill:none;fill-rule:evenodd;stroke:#000000;stroke-width:2px;stroke-linecap:butt;stroke-linejoin:miter;stroke-opacity:1\"/>\n",
       "<path class=\"bond-14\" d=\"M 100.863,117.76 L 131.488,139.634\" style=\"fill:none;fill-rule:evenodd;stroke:#000000;stroke-width:2px;stroke-linecap:butt;stroke-linejoin:miter;stroke-opacity:1\"/>\n",
       "<path class=\"bond-15\" d=\"M 131.488,139.634 L 165.744,124.049\" style=\"fill:none;fill-rule:evenodd;stroke:#000000;stroke-width:2px;stroke-linecap:butt;stroke-linejoin:miter;stroke-opacity:1\"/>\n",
       "<path class=\"bond-15\" d=\"M 133.509,130.445 L 157.489,119.536\" style=\"fill:none;fill-rule:evenodd;stroke:#000000;stroke-width:2px;stroke-linecap:butt;stroke-linejoin:miter;stroke-opacity:1\"/>\n",
       "<text dominant-baseline=\"central\" style=\"font-size:12px;font-style:normal;font-weight:normal;fill-opacity:1;stroke:none;font-family:sans-serif;fill:#000000\" text-anchor=\"start\" x=\"235.243\" y=\"19.8432\"><tspan>Br</tspan></text>\n",
       "</svg>"
      ],
      "text/plain": [
       "<IPython.core.display.SVG object>"
      ]
     },
     "metadata": {},
     "output_type": "display_data"
    }
   ],
   "source": [
    "i = 3\n",
    "smiles_plot = smiles[i].numpy().tolist()[0].decode()\n",
    "mol = Chem.MolFromSmiles(smiles_plot)\n",
    "num_atoms = mol.GetNumAtoms()\n",
    "attentions_plot = tf.concat([att[i:(i+1),:,:num_atoms+1,:num_atoms+1] for att in atts],axis=0)\n",
    "plot_weights(smiles_plot,attentions_plot)"
   ]
  },
  {
   "cell_type": "code",
   "execution_count": 17,
   "metadata": {},
   "outputs": [
    {
     "data": {
      "image/svg+xml": [
       "<svg baseProfile=\"full\" height=\"200px\" version=\"1.1\" viewBox=\"0 0 400 200\" width=\"400px\" xml:space=\"preserve\" xmlns=\"http://www.w3.org/2000/svg\" xmlns:rdkit=\"http://www.rdkit.org/xml\" xmlns:xlink=\"http://www.w3.org/1999/xlink\">\n",
       "<!-- END OF HEADER -->\n",
       "<rect height=\"200\" style=\"opacity:1.0;fill:#FFFFFF;stroke:none\" width=\"400\" x=\"0\" y=\"0\"> </rect>\n",
       "<path class=\"bond-0\" d=\"M 48.8725,105.735 L 76.1494,98.4265\" style=\"fill:none;fill-rule:evenodd;stroke:#000000;stroke-width:2px;stroke-linecap:butt;stroke-linejoin:miter;stroke-opacity:1\"/>\n",
       "<path class=\"bond-1\" d=\"M 99.9716,85.8659 L 105.058,66.8842\" style=\"fill:none;fill-rule:evenodd;stroke:#000000;stroke-width:2px;stroke-linecap:butt;stroke-linejoin:miter;stroke-opacity:1\"/>\n",
       "<path class=\"bond-1\" d=\"M 105.058,66.8842 L 110.144,47.9025\" style=\"fill:none;fill-rule:evenodd;stroke:#FF0000;stroke-width:2px;stroke-linecap:butt;stroke-linejoin:miter;stroke-opacity:1\"/>\n",
       "<path class=\"bond-1\" d=\"M 88.378,82.7594 L 93.4642,63.7777\" style=\"fill:none;fill-rule:evenodd;stroke:#000000;stroke-width:2px;stroke-linecap:butt;stroke-linejoin:miter;stroke-opacity:1\"/>\n",
       "<path class=\"bond-1\" d=\"M 93.4642,63.7777 L 98.5503,44.796\" style=\"fill:none;fill-rule:evenodd;stroke:#FF0000;stroke-width:2px;stroke-linecap:butt;stroke-linejoin:miter;stroke-opacity:1\"/>\n",
       "<path class=\"bond-2\" d=\"M 101.497,104.317 L 112.712,115.532\" style=\"fill:none;fill-rule:evenodd;stroke:#000000;stroke-width:2px;stroke-linecap:butt;stroke-linejoin:miter;stroke-opacity:1\"/>\n",
       "<path class=\"bond-2\" d=\"M 112.712,115.532 L 123.928,126.748\" style=\"fill:none;fill-rule:evenodd;stroke:#0000FF;stroke-width:2px;stroke-linecap:butt;stroke-linejoin:miter;stroke-opacity:1\"/>\n",
       "<path class=\"bond-3\" d=\"M 149.275,132.638 L 162.914,128.984\" style=\"fill:none;fill-rule:evenodd;stroke:#0000FF;stroke-width:2px;stroke-linecap:butt;stroke-linejoin:miter;stroke-opacity:1\"/>\n",
       "<path class=\"bond-3\" d=\"M 162.914,128.984 L 176.552,125.329\" style=\"fill:none;fill-rule:evenodd;stroke:#000000;stroke-width:2px;stroke-linecap:butt;stroke-linejoin:miter;stroke-opacity:1\"/>\n",
       "<path class=\"bond-4\" d=\"M 194.578,111.216 L 204.75,73.2521\" style=\"fill:none;fill-rule:evenodd;stroke:#000000;stroke-width:2px;stroke-linecap:butt;stroke-linejoin:miter;stroke-opacity:1\"/>\n",
       "<path class=\"bond-4\" d=\"M 207.697,108.627 L 214.818,82.0531\" style=\"fill:none;fill-rule:evenodd;stroke:#000000;stroke-width:2px;stroke-linecap:butt;stroke-linejoin:miter;stroke-opacity:1\"/>\n",
       "<path class=\"bond-10\" d=\"M 201.9,131.22 L 224.331,153.651\" style=\"fill:none;fill-rule:evenodd;stroke:#000000;stroke-width:2px;stroke-linecap:butt;stroke-linejoin:miter;stroke-opacity:1\"/>\n",
       "<path class=\"bond-5\" d=\"M 222.775,59.1382 L 250.052,51.8294\" style=\"fill:none;fill-rule:evenodd;stroke:#000000;stroke-width:2px;stroke-linecap:butt;stroke-linejoin:miter;stroke-opacity:1\"/>\n",
       "<path class=\"bond-6\" d=\"M 275.4,57.7197 L 297.831,80.1508\" style=\"fill:none;fill-rule:evenodd;stroke:#000000;stroke-width:2px;stroke-linecap:butt;stroke-linejoin:miter;stroke-opacity:1\"/>\n",
       "<path class=\"bond-6\" d=\"M 270.277,69.5714 L 285.979,85.2732\" style=\"fill:none;fill-rule:evenodd;stroke:#000000;stroke-width:2px;stroke-linecap:butt;stroke-linejoin:miter;stroke-opacity:1\"/>\n",
       "<path class=\"bond-7\" d=\"M 323.178,86.0411 L 336.48,82.4768\" style=\"fill:none;fill-rule:evenodd;stroke:#000000;stroke-width:2px;stroke-linecap:butt;stroke-linejoin:miter;stroke-opacity:1\"/>\n",
       "<path class=\"bond-7\" d=\"M 336.48,82.4768 L 349.783,78.9124\" style=\"fill:none;fill-rule:evenodd;stroke:#FF0000;stroke-width:2px;stroke-linecap:butt;stroke-linejoin:miter;stroke-opacity:1\"/>\n",
       "<path class=\"bond-8\" d=\"M 305.153,100.155 L 294.981,138.118\" style=\"fill:none;fill-rule:evenodd;stroke:#000000;stroke-width:2px;stroke-linecap:butt;stroke-linejoin:miter;stroke-opacity:1\"/>\n",
       "<path class=\"bond-9\" d=\"M 276.955,152.232 L 256.354,157.752\" style=\"fill:none;fill-rule:evenodd;stroke:#000000;stroke-width:2px;stroke-linecap:butt;stroke-linejoin:miter;stroke-opacity:1\"/>\n",
       "<path class=\"bond-9\" d=\"M 270.759,141.467 L 256.338,145.331\" style=\"fill:none;fill-rule:evenodd;stroke:#000000;stroke-width:2px;stroke-linecap:butt;stroke-linejoin:miter;stroke-opacity:1\"/>\n",
       "<text dominant-baseline=\"central\" style=\"font-size:20px;font-style:normal;font-weight:normal;fill-opacity:1;stroke:none;font-family:sans-serif;fill:#000000\" text-anchor=\"end\" x=\"46.8721\" y=\"112.848\"><tspan>C0</tspan></text>\n",
       "<text dominant-baseline=\"central\" style=\"font-size:20px;font-style:normal;font-weight:normal;fill-opacity:1;stroke:none;font-family:sans-serif;fill:#000000\" text-anchor=\"middle\" x=\"91.4948\" y=\"97.3154\"><tspan>C1</tspan></text>\n",
       "<text dominant-baseline=\"central\" style=\"font-size:20px;font-style:normal;font-weight:normal;fill-opacity:1;stroke:none;font-family:sans-serif;fill:#FF0000\" text-anchor=\"start\" x=\"93.0098\" y=\"39.3478\"><tspan>O2</tspan></text>\n",
       "<text dominant-baseline=\"central\" style=\"font-size:20px;font-style:normal;font-weight:normal;fill-opacity:1;stroke:none;font-family:sans-serif;fill:#0000FF\" text-anchor=\"middle\" x=\"133.93\" y=\"139.751\"><tspan>N3</tspan></text>\n",
       "<text dominant-baseline=\"central\" style=\"font-size:20px;font-style:normal;font-weight:normal;fill-opacity:1;stroke:none;font-family:sans-serif;fill:#000000\" text-anchor=\"middle\" x=\"191.898\" y=\"124.218\"><tspan>C4</tspan></text>\n",
       "<text dominant-baseline=\"central\" style=\"font-size:20px;font-style:normal;font-weight:normal;fill-opacity:1;stroke:none;font-family:sans-serif;fill:#000000\" text-anchor=\"end\" x=\"220.775\" y=\"66.2506\"><tspan>C5</tspan></text>\n",
       "<text dominant-baseline=\"central\" style=\"font-size:20px;font-style:normal;font-weight:normal;fill-opacity:1;stroke:none;font-family:sans-serif;fill:#000000\" text-anchor=\"middle\" x=\"265.398\" y=\"50.7183\"><tspan>C6</tspan></text>\n",
       "<text dominant-baseline=\"central\" style=\"font-size:20px;font-style:normal;font-weight:normal;fill-opacity:1;stroke:none;font-family:sans-serif;fill:#000000\" text-anchor=\"middle\" x=\"307.833\" y=\"93.1535\"><tspan>C7</tspan></text>\n",
       "<text dominant-baseline=\"central\" style=\"font-size:20px;font-style:normal;font-weight:normal;fill-opacity:1;stroke:none;font-family:sans-serif;fill:#FF0000\" text-anchor=\"start\" x=\"351.783\" y=\"77.6211\"><tspan>O8</tspan></text>\n",
       "<text dominant-baseline=\"central\" style=\"font-size:20px;font-style:normal;font-weight:normal;fill-opacity:1;stroke:none;font-family:sans-serif;fill:#000000\" text-anchor=\"start\" x=\"278.956\" y=\"151.121\"><tspan>C9</tspan></text>\n",
       "<text dominant-baseline=\"central\" style=\"font-size:20px;font-style:normal;font-weight:normal;fill-opacity:1;stroke:none;font-family:sans-serif;fill:#000000\" text-anchor=\"middle\" x=\"234.333\" y=\"166.653\"><tspan>C10</tspan></text>\n",
       "</svg>"
      ],
      "text/plain": [
       "<IPython.core.display.SVG object>"
      ]
     },
     "metadata": {},
     "output_type": "display_data"
    }
   ],
   "source": [
    "drawer = rdMolDraw2D.MolDraw2DSVG(400,200)\n",
    "opts = drawer.drawOptions()\n",
    "mol = Chem.MolFromSmiles( 'CC(=O)Nc1ccc(O)cc1')\n",
    "for i in range(mol.GetNumAtoms()):\n",
    "    opts.atomLabels[i] = mol.GetAtomWithIdx(i).GetSymbol()+str(i)\n",
    "\n",
    "drawer.DrawMolecule(mol)\n",
    "drawer.FinishDrawing()\n",
    "svg = drawer.GetDrawingText().replace('svg:','')\n",
    "display(SVG(svg))\n",
    "##2"
   ]
  },
  {
   "cell_type": "code",
   "execution_count": 13,
   "metadata": {},
   "outputs": [
    {
     "data": {
      "image/svg+xml": [
       "<svg baseProfile=\"full\" height=\"200px\" version=\"1.1\" viewBox=\"0 0 400 200\" width=\"400px\" xml:space=\"preserve\" xmlns=\"http://www.w3.org/2000/svg\" xmlns:rdkit=\"http://www.rdkit.org/xml\" xmlns:xlink=\"http://www.w3.org/1999/xlink\">\n",
       "<!-- END OF HEADER -->\n",
       "<rect height=\"200\" style=\"opacity:1.0;fill:#FFFFFF;stroke:none\" width=\"400\" x=\"0\" y=\"0\"> </rect>\n",
       "<path class=\"bond-0\" d=\"M 163.163,18.8405 L 166.706,37.8443\" style=\"fill:none;fill-rule:evenodd;stroke:#000000;stroke-width:2px;stroke-linecap:butt;stroke-linejoin:miter;stroke-opacity:1\"/>\n",
       "<path class=\"bond-1\" d=\"M 160.017,45.3717 L 154.602,50.0061\" style=\"fill:none;fill-rule:evenodd;stroke:#000000;stroke-width:2px;stroke-linecap:butt;stroke-linejoin:miter;stroke-opacity:1\"/>\n",
       "<path class=\"bond-1\" d=\"M 154.602,50.0061 L 149.187,54.6405\" style=\"fill:none;fill-rule:evenodd;stroke:#FF0000;stroke-width:2px;stroke-linecap:butt;stroke-linejoin:miter;stroke-opacity:1\"/>\n",
       "<path class=\"bond-1\" d=\"M 163.82,49.816 L 158.405,54.4504\" style=\"fill:none;fill-rule:evenodd;stroke:#000000;stroke-width:2px;stroke-linecap:butt;stroke-linejoin:miter;stroke-opacity:1\"/>\n",
       "<path class=\"bond-1\" d=\"M 158.405,54.4504 L 152.991,59.0848\" style=\"fill:none;fill-rule:evenodd;stroke:#FF0000;stroke-width:2px;stroke-linecap:butt;stroke-linejoin:miter;stroke-opacity:1\"/>\n",
       "<path class=\"bond-2\" d=\"M 175.093,45.3588 L 187.716,49.8143\" style=\"fill:none;fill-rule:evenodd;stroke:#000000;stroke-width:2px;stroke-linecap:butt;stroke-linejoin:miter;stroke-opacity:1\"/>\n",
       "<path class=\"bond-3\" d=\"M 196.104,57.3289 L 199.646,76.3327\" style=\"fill:none;fill-rule:evenodd;stroke:#000000;stroke-width:2px;stroke-linecap:butt;stroke-linejoin:miter;stroke-opacity:1\"/>\n",
       "<path class=\"bond-4\" d=\"M 194.859,86.0823 L 184.029,95.3511\" style=\"fill:none;fill-rule:evenodd;stroke:#000000;stroke-width:2px;stroke-linecap:butt;stroke-linejoin:miter;stroke-opacity:1\"/>\n",
       "<path class=\"bond-13\" d=\"M 208.034,83.8473 L 217.403,87.1543\" style=\"fill:none;fill-rule:evenodd;stroke:#000000;stroke-width:2px;stroke-linecap:butt;stroke-linejoin:miter;stroke-opacity:1\"/>\n",
       "<path class=\"bond-5\" d=\"M 170.855,97.5861 L 158.232,93.1306\" style=\"fill:none;fill-rule:evenodd;stroke:#000000;stroke-width:2px;stroke-linecap:butt;stroke-linejoin:miter;stroke-opacity:1\"/>\n",
       "<path class=\"bond-5\" d=\"M 167.014,102.434 L 158.178,99.3151\" style=\"fill:none;fill-rule:evenodd;stroke:#000000;stroke-width:2px;stroke-linecap:butt;stroke-linejoin:miter;stroke-opacity:1\"/>\n",
       "<path class=\"bond-25\" d=\"M 179.242,105.101 L 182.785,124.104\" style=\"fill:none;fill-rule:evenodd;stroke:#000000;stroke-width:2px;stroke-linecap:butt;stroke-linejoin:miter;stroke-opacity:1\"/>\n",
       "<path class=\"bond-6\" d=\"M 145.057,95.3656 L 134.227,104.634\" style=\"fill:none;fill-rule:evenodd;stroke:#000000;stroke-width:2px;stroke-linecap:butt;stroke-linejoin:miter;stroke-opacity:1\"/>\n",
       "<path class=\"bond-7\" d=\"M 129.44,114.384 L 132.982,133.388\" style=\"fill:none;fill-rule:evenodd;stroke:#000000;stroke-width:2px;stroke-linecap:butt;stroke-linejoin:miter;stroke-opacity:1\"/>\n",
       "<path class=\"bond-7\" d=\"M 135.722,116.163 L 138.202,129.465\" style=\"fill:none;fill-rule:evenodd;stroke:#000000;stroke-width:2px;stroke-linecap:butt;stroke-linejoin:miter;stroke-opacity:1\"/>\n",
       "<path class=\"bond-8\" d=\"M 128.195,143.137 L 122.781,147.772\" style=\"fill:none;fill-rule:evenodd;stroke:#000000;stroke-width:2px;stroke-linecap:butt;stroke-linejoin:miter;stroke-opacity:1\"/>\n",
       "<path class=\"bond-8\" d=\"M 122.781,147.772 L 117.366,152.406\" style=\"fill:none;fill-rule:evenodd;stroke:#0000FF;stroke-width:2px;stroke-linecap:butt;stroke-linejoin:miter;stroke-opacity:1\"/>\n",
       "<path class=\"bond-11\" d=\"M 141.37,140.902 L 150.739,144.209\" style=\"fill:none;fill-rule:evenodd;stroke:#000000;stroke-width:2px;stroke-linecap:butt;stroke-linejoin:miter;stroke-opacity:1\"/>\n",
       "<path class=\"bond-9\" d=\"M 109.703,162.692 L 111.474,172.194\" style=\"fill:none;fill-rule:evenodd;stroke:#0000FF;stroke-width:2px;stroke-linecap:butt;stroke-linejoin:miter;stroke-opacity:1\"/>\n",
       "<path class=\"bond-9\" d=\"M 111.474,172.194 L 113.246,181.696\" style=\"fill:none;fill-rule:evenodd;stroke:#FF0000;stroke-width:2px;stroke-linecap:butt;stroke-linejoin:miter;stroke-opacity:1\"/>\n",
       "<path class=\"bond-9\" d=\"M 115.454,161.62 L 117.225,171.122\" style=\"fill:none;fill-rule:evenodd;stroke:#0000FF;stroke-width:2px;stroke-linecap:butt;stroke-linejoin:miter;stroke-opacity:1\"/>\n",
       "<path class=\"bond-9\" d=\"M 117.225,171.122 L 118.996,180.624\" style=\"fill:none;fill-rule:evenodd;stroke:#FF0000;stroke-width:2px;stroke-linecap:butt;stroke-linejoin:miter;stroke-opacity:1\"/>\n",
       "<path class=\"bond-10\" d=\"M 104.191,154.641 L 99.6701,153.045\" style=\"fill:none;fill-rule:evenodd;stroke:#0000FF;stroke-width:2px;stroke-linecap:butt;stroke-linejoin:miter;stroke-opacity:1\"/>\n",
       "<path class=\"bond-10\" d=\"M 99.6701,153.045 L 95.1492,151.45\" style=\"fill:none;fill-rule:evenodd;stroke:#FF0000;stroke-width:2px;stroke-linecap:butt;stroke-linejoin:miter;stroke-opacity:1\"/>\n",
       "<path class=\"bond-12\" d=\"M 167.168,143.123 L 177.998,133.854\" style=\"fill:none;fill-rule:evenodd;stroke:#000000;stroke-width:2px;stroke-linecap:butt;stroke-linejoin:miter;stroke-opacity:1\"/>\n",
       "<path class=\"bond-12\" d=\"M 164.989,137.288 L 172.57,130.8\" style=\"fill:none;fill-rule:evenodd;stroke:#000000;stroke-width:2px;stroke-linecap:butt;stroke-linejoin:miter;stroke-opacity:1\"/>\n",
       "<path class=\"bond-14\" d=\"M 229.045,95.8173 L 232.587,114.821\" style=\"fill:none;fill-rule:evenodd;stroke:#000000;stroke-width:2px;stroke-linecap:butt;stroke-linejoin:miter;stroke-opacity:1\"/>\n",
       "<path class=\"bond-14\" d=\"M 235.327,97.5959 L 237.806,110.899\" style=\"fill:none;fill-rule:evenodd;stroke:#000000;stroke-width:2px;stroke-linecap:butt;stroke-linejoin:miter;stroke-opacity:1\"/>\n",
       "<path class=\"bond-26\" d=\"M 233.832,86.0677 L 244.662,76.7989\" style=\"fill:none;fill-rule:evenodd;stroke:#000000;stroke-width:2px;stroke-linecap:butt;stroke-linejoin:miter;stroke-opacity:1\"/>\n",
       "<path class=\"bond-15\" d=\"M 227.8,124.571 L 222.385,129.205\" style=\"fill:none;fill-rule:evenodd;stroke:#000000;stroke-width:2px;stroke-linecap:butt;stroke-linejoin:miter;stroke-opacity:1\"/>\n",
       "<path class=\"bond-15\" d=\"M 222.385,129.205 L 216.97,133.839\" style=\"fill:none;fill-rule:evenodd;stroke:#FF0000;stroke-width:2px;stroke-linecap:butt;stroke-linejoin:miter;stroke-opacity:1\"/>\n",
       "<path class=\"bond-16\" d=\"M 244.228,123.484 L 250.344,125.643\" style=\"fill:none;fill-rule:evenodd;stroke:#000000;stroke-width:2px;stroke-linecap:butt;stroke-linejoin:miter;stroke-opacity:1\"/>\n",
       "<path class=\"bond-17\" d=\"M 261.986,134.306 L 265.528,153.31\" style=\"fill:none;fill-rule:evenodd;stroke:#000000;stroke-width:2px;stroke-linecap:butt;stroke-linejoin:miter;stroke-opacity:1\"/>\n",
       "<path class=\"bond-17\" d=\"M 268.268,136.084 L 270.747,149.387\" style=\"fill:none;fill-rule:evenodd;stroke:#000000;stroke-width:2px;stroke-linecap:butt;stroke-linejoin:miter;stroke-opacity:1\"/>\n",
       "<path class=\"bond-27\" d=\"M 266.773,124.556 L 277.602,115.287\" style=\"fill:none;fill-rule:evenodd;stroke:#000000;stroke-width:2px;stroke-linecap:butt;stroke-linejoin:miter;stroke-opacity:1\"/>\n",
       "<path class=\"bond-18\" d=\"M 277.169,161.973 L 283.285,164.131\" style=\"fill:none;fill-rule:evenodd;stroke:#000000;stroke-width:2px;stroke-linecap:butt;stroke-linejoin:miter;stroke-opacity:1\"/>\n",
       "<path class=\"bond-19\" d=\"M 299.713,163.045 L 310.543,153.776\" style=\"fill:none;fill-rule:evenodd;stroke:#000000;stroke-width:2px;stroke-linecap:butt;stroke-linejoin:miter;stroke-opacity:1\"/>\n",
       "<path class=\"bond-19\" d=\"M 297.534,157.21 L 305.115,150.722\" style=\"fill:none;fill-rule:evenodd;stroke:#000000;stroke-width:2px;stroke-linecap:butt;stroke-linejoin:miter;stroke-opacity:1\"/>\n",
       "<path class=\"bond-20\" d=\"M 315.33,144.026 L 311.788,125.022\" style=\"fill:none;fill-rule:evenodd;stroke:#000000;stroke-width:2px;stroke-linecap:butt;stroke-linejoin:miter;stroke-opacity:1\"/>\n",
       "<path class=\"bond-21\" d=\"M 300.146,116.359 L 294.031,114.201\" style=\"fill:none;fill-rule:evenodd;stroke:#000000;stroke-width:2px;stroke-linecap:butt;stroke-linejoin:miter;stroke-opacity:1\"/>\n",
       "<path class=\"bond-21\" d=\"M 297.282,121.552 L 293.001,120.041\" style=\"fill:none;fill-rule:evenodd;stroke:#000000;stroke-width:2px;stroke-linecap:butt;stroke-linejoin:miter;stroke-opacity:1\"/>\n",
       "<path class=\"bond-22\" d=\"M 282.389,105.538 L 280.618,96.0359\" style=\"fill:none;fill-rule:evenodd;stroke:#000000;stroke-width:2px;stroke-linecap:butt;stroke-linejoin:miter;stroke-opacity:1\"/>\n",
       "<path class=\"bond-22\" d=\"M 280.618,96.0359 L 278.847,86.5339\" style=\"fill:none;fill-rule:evenodd;stroke:#FF0000;stroke-width:2px;stroke-linecap:butt;stroke-linejoin:miter;stroke-opacity:1\"/>\n",
       "<path class=\"bond-23\" d=\"M 266.878,77.7553 L 263.984,76.7338\" style=\"fill:none;fill-rule:evenodd;stroke:#FF0000;stroke-width:2px;stroke-linecap:butt;stroke-linejoin:miter;stroke-opacity:1\"/>\n",
       "<path class=\"bond-23\" d=\"M 263.984,76.7338 L 261.09,75.7124\" style=\"fill:none;fill-rule:evenodd;stroke:#000000;stroke-width:2px;stroke-linecap:butt;stroke-linejoin:miter;stroke-opacity:1\"/>\n",
       "<path class=\"bond-24\" d=\"M 252.324,66.5134 L 250.553,57.0115\" style=\"fill:none;fill-rule:evenodd;stroke:#000000;stroke-width:2px;stroke-linecap:butt;stroke-linejoin:miter;stroke-opacity:1\"/>\n",
       "<path class=\"bond-24\" d=\"M 250.553,57.0115 L 248.782,47.5096\" style=\"fill:none;fill-rule:evenodd;stroke:#FF0000;stroke-width:2px;stroke-linecap:butt;stroke-linejoin:miter;stroke-opacity:1\"/>\n",
       "<path class=\"bond-24\" d=\"M 246.573,67.5853 L 244.802,58.0834\" style=\"fill:none;fill-rule:evenodd;stroke:#000000;stroke-width:2px;stroke-linecap:butt;stroke-linejoin:miter;stroke-opacity:1\"/>\n",
       "<path class=\"bond-24\" d=\"M 244.802,58.0834 L 243.031,48.5815\" style=\"fill:none;fill-rule:evenodd;stroke:#FF0000;stroke-width:2px;stroke-linecap:butt;stroke-linejoin:miter;stroke-opacity:1\"/>\n",
       "<text dominant-baseline=\"central\" style=\"font-size:9px;font-style:normal;font-weight:normal;fill-opacity:1;stroke:none;font-family:sans-serif;fill:#000000\" text-anchor=\"start\" x=\"155.751\" y=\"15.4281\"><tspan>C0</tspan></text>\n",
       "<text dominant-baseline=\"central\" style=\"font-size:9px;font-style:normal;font-weight:normal;fill-opacity:1;stroke:none;font-family:sans-serif;fill:#000000\" text-anchor=\"middle\" x=\"167.614\" y=\"44.1815\"><tspan>C1</tspan></text>\n",
       "<text dominant-baseline=\"central\" style=\"font-size:9px;font-style:normal;font-weight:normal;fill-opacity:1;stroke:none;font-family:sans-serif;fill:#FF0000\" text-anchor=\"end\" x=\"152.225\" y=\"63.1999\"><tspan>O2</tspan></text>\n",
       "<text dominant-baseline=\"central\" style=\"font-size:9px;font-style:normal;font-weight:normal;fill-opacity:1;stroke:none;font-family:sans-serif;fill:#000000\" text-anchor=\"start\" x=\"188.691\" y=\"53.9165\"><tspan>C3</tspan></text>\n",
       "<text dominant-baseline=\"central\" style=\"font-size:9px;font-style:normal;font-weight:normal;fill-opacity:1;stroke:none;font-family:sans-serif;fill:#000000\" text-anchor=\"middle\" x=\"200.555\" y=\"82.6699\"><tspan>C4</tspan></text>\n",
       "<text dominant-baseline=\"central\" style=\"font-size:9px;font-style:normal;font-weight:normal;fill-opacity:1;stroke:none;font-family:sans-serif;fill:#000000\" text-anchor=\"middle\" x=\"178.334\" y=\"101.688\"><tspan>C5</tspan></text>\n",
       "<text dominant-baseline=\"central\" style=\"font-size:9px;font-style:normal;font-weight:normal;fill-opacity:1;stroke:none;font-family:sans-serif;fill:#000000\" text-anchor=\"middle\" x=\"150.753\" y=\"91.9533\"><tspan>C6</tspan></text>\n",
       "<text dominant-baseline=\"central\" style=\"font-size:9px;font-style:normal;font-weight:normal;fill-opacity:1;stroke:none;font-family:sans-serif;fill:#000000\" text-anchor=\"end\" x=\"135.035\" y=\"110.972\"><tspan>C7</tspan></text>\n",
       "<text dominant-baseline=\"central\" style=\"font-size:9px;font-style:normal;font-weight:normal;fill-opacity:1;stroke:none;font-family:sans-serif;fill:#000000\" text-anchor=\"middle\" x=\"133.891\" y=\"139.725\"><tspan>C8</tspan></text>\n",
       "<text dominant-baseline=\"central\" style=\"font-size:9px;font-style:normal;font-weight:normal;fill-opacity:1;stroke:none;font-family:sans-serif;fill:#0000FF\" text-anchor=\"middle\" x=\"111.67\" y=\"158.743\"><tspan>N9</tspan></text>\n",
       "<text dominant-baseline=\"central\" style=\"font-size:9px;font-style:normal;font-weight:normal;fill-opacity:1;stroke:none;font-family:sans-serif;fill:#FF0000\" text-anchor=\"start\" x=\"106.944\" y=\"187.497\"><tspan>O10</tspan></text>\n",
       "<text dominant-baseline=\"central\" style=\"font-size:9px;font-style:normal;font-weight:normal;fill-opacity:1;stroke:none;font-family:sans-serif;fill:#FF0000\" text-anchor=\"end\" x=\"94.1743\" y=\"149.008\"><tspan>O11</tspan></text>\n",
       "<text dominant-baseline=\"central\" style=\"font-size:9px;font-style:normal;font-weight:normal;fill-opacity:1;stroke:none;font-family:sans-serif;fill:#000000\" text-anchor=\"middle\" x=\"161.472\" y=\"149.46\"><tspan>C12</tspan></text>\n",
       "<text dominant-baseline=\"central\" style=\"font-size:9px;font-style:normal;font-weight:normal;fill-opacity:1;stroke:none;font-family:sans-serif;fill:#000000\" text-anchor=\"start\" x=\"173.936\" y=\"130.442\"><tspan>C13</tspan></text>\n",
       "<text dominant-baseline=\"central\" style=\"font-size:9px;font-style:normal;font-weight:normal;fill-opacity:1;stroke:none;font-family:sans-serif;fill:#000000\" text-anchor=\"middle\" x=\"228.136\" y=\"92.4049\"><tspan>C14</tspan></text>\n",
       "<text dominant-baseline=\"central\" style=\"font-size:9px;font-style:normal;font-weight:normal;fill-opacity:1;stroke:none;font-family:sans-serif;fill:#000000\" text-anchor=\"middle\" x=\"233.496\" y=\"121.158\"><tspan>C15</tspan></text>\n",
       "<text dominant-baseline=\"central\" style=\"font-size:9px;font-style:normal;font-weight:normal;fill-opacity:1;stroke:none;font-family:sans-serif;fill:#FF0000\" text-anchor=\"end\" x=\"221.36\" y=\"140.177\"><tspan>O16</tspan></text>\n",
       "<text dominant-baseline=\"central\" style=\"font-size:9px;font-style:normal;font-weight:normal;fill-opacity:1;stroke:none;font-family:sans-serif;fill:#000000\" text-anchor=\"middle\" x=\"261.077\" y=\"130.893\"><tspan>C17</tspan></text>\n",
       "<text dominant-baseline=\"central\" style=\"font-size:9px;font-style:normal;font-weight:normal;fill-opacity:1;stroke:none;font-family:sans-serif;fill:#000000\" text-anchor=\"end\" x=\"276.194\" y=\"159.647\"><tspan>C18</tspan></text>\n",
       "<text dominant-baseline=\"central\" style=\"font-size:9px;font-style:normal;font-weight:normal;fill-opacity:1;stroke:none;font-family:sans-serif;fill:#000000\" text-anchor=\"middle\" x=\"294.018\" y=\"169.382\"><tspan>C19</tspan></text>\n",
       "<text dominant-baseline=\"central\" style=\"font-size:9px;font-style:normal;font-weight:normal;fill-opacity:1;stroke:none;font-family:sans-serif;fill:#000000\" text-anchor=\"start\" x=\"306.481\" y=\"150.363\"><tspan>C20</tspan></text>\n",
       "<text dominant-baseline=\"central\" style=\"font-size:9px;font-style:normal;font-weight:normal;fill-opacity:1;stroke:none;font-family:sans-serif;fill:#000000\" text-anchor=\"start\" x=\"301.121\" y=\"121.61\"><tspan>C21</tspan></text>\n",
       "<text dominant-baseline=\"central\" style=\"font-size:9px;font-style:normal;font-weight:normal;fill-opacity:1;stroke:none;font-family:sans-serif;fill:#000000\" text-anchor=\"middle\" x=\"283.298\" y=\"111.875\"><tspan>C22</tspan></text>\n",
       "<text dominant-baseline=\"central\" style=\"font-size:9px;font-style:normal;font-weight:normal;fill-opacity:1;stroke:none;font-family:sans-serif;fill:#FF0000\" text-anchor=\"start\" x=\"267.853\" y=\"83.1216\"><tspan>O23</tspan></text>\n",
       "<text dominant-baseline=\"central\" style=\"font-size:9px;font-style:normal;font-weight:normal;fill-opacity:1;stroke:none;font-family:sans-serif;fill:#000000\" text-anchor=\"middle\" x=\"250.357\" y=\"73.3866\"><tspan>C24</tspan></text>\n",
       "<text dominant-baseline=\"central\" style=\"font-size:9px;font-style:normal;font-weight:normal;fill-opacity:1;stroke:none;font-family:sans-serif;fill:#FF0000\" text-anchor=\"start\" x=\"234.912\" y=\"44.6332\"><tspan>O25</tspan></text>\n",
       "</svg>"
      ],
      "text/plain": [
       "<IPython.core.display.SVG object>"
      ]
     },
     "metadata": {},
     "output_type": "display_data"
    }
   ],
   "source": [
    "drawer = rdMolDraw2D.MolDraw2DSVG(400,200)\n",
    "opts = drawer.drawOptions()\n",
    "mol = Chem.MolFromSmiles( 'CC(=O)CC(c1ccc([N+](=O)[O-])cc1)c1c(O)c2ccccc2oc1=O')\n",
    "for i in range(mol.GetNumAtoms()):\n",
    "    opts.atomLabels[i] = mol.GetAtomWithIdx(i).GetSymbol()+str(i)\n",
    "\n",
    "drawer.DrawMolecule(mol)\n",
    "drawer.FinishDrawing()\n",
    "svg = drawer.GetDrawingText().replace('svg:','')\n",
    "display(SVG(svg))\n",
    "##1"
   ]
  },
  {
   "cell_type": "code",
   "execution_count": 14,
   "metadata": {},
   "outputs": [
    {
     "data": {
      "image/svg+xml": [
       "<svg baseProfile=\"full\" height=\"200px\" version=\"1.1\" viewBox=\"0 0 400 200\" width=\"400px\" xml:space=\"preserve\" xmlns=\"http://www.w3.org/2000/svg\" xmlns:rdkit=\"http://www.rdkit.org/xml\" xmlns:xlink=\"http://www.w3.org/1999/xlink\">\n",
       "<!-- END OF HEADER -->\n",
       "<rect height=\"200\" style=\"opacity:1.0;fill:#FFFFFF;stroke:none\" width=\"400\" x=\"0\" y=\"0\"> </rect>\n",
       "<path class=\"bond-0\" d=\"M 277.387,113.974 L 236.377,93.2351\" style=\"fill:none;fill-rule:evenodd;stroke:#000000;stroke-width:2px;stroke-linecap:butt;stroke-linejoin:miter;stroke-opacity:1\"/>\n",
       "<path class=\"bond-4\" d=\"M 297.021,123.904 L 338.03,144.643\" style=\"fill:none;fill-rule:evenodd;stroke:#000000;stroke-width:2px;stroke-linecap:butt;stroke-linejoin:miter;stroke-opacity:1\"/>\n",
       "<path class=\"bond-5\" d=\"M 281.476,130.265 L 262.263,168.257\" style=\"fill:none;fill-rule:evenodd;stroke:#000000;stroke-width:2px;stroke-linecap:butt;stroke-linejoin:miter;stroke-opacity:1\"/>\n",
       "<path class=\"bond-6\" d=\"M 292.931,107.613 L 312.144,69.6215\" style=\"fill:none;fill-rule:evenodd;stroke:#000000;stroke-width:2px;stroke-linecap:butt;stroke-linejoin:miter;stroke-opacity:1\"/>\n",
       "<path class=\"bond-1\" d=\"M 232.717,76.568 L 230.211,31.3672\" style=\"fill:none;fill-rule:evenodd;stroke:#000000;stroke-width:2px;stroke-linecap:butt;stroke-linejoin:miter;stroke-opacity:1\"/>\n",
       "<path class=\"bond-1\" d=\"M 219.146,77.3205 L 216.64,32.1196\" style=\"fill:none;fill-rule:evenodd;stroke:#000000;stroke-width:2px;stroke-linecap:butt;stroke-linejoin:miter;stroke-opacity:1\"/>\n",
       "<path class=\"bond-2\" d=\"M 216.743,94.6881 L 180.257,118.54\" style=\"fill:none;fill-rule:evenodd;stroke:#000000;stroke-width:2px;stroke-linecap:butt;stroke-linejoin:miter;stroke-opacity:1\"/>\n",
       "<path class=\"bond-3\" d=\"M 159.1,120.106 L 119.613,100.136\" style=\"fill:none;fill-rule:evenodd;stroke:#000000;stroke-width:2px;stroke-linecap:butt;stroke-linejoin:miter;stroke-opacity:1\"/>\n",
       "<path class=\"bond-7\" d=\"M 98.4559,101.702 L 61.9697,125.554\" style=\"fill:none;fill-rule:evenodd;stroke:#000000;stroke-width:2px;stroke-linecap:butt;stroke-linejoin:miter;stroke-opacity:1\"/>\n",
       "<text dominant-baseline=\"central\" style=\"font-size:22px;font-style:normal;font-weight:normal;fill-opacity:1;stroke:none;font-family:sans-serif;fill:#000000\" text-anchor=\"middle\" x=\"287.204\" y=\"122.337\"><tspan>C</tspan></text>\n",
       "<text dominant-baseline=\"central\" style=\"font-size:22px;font-style:normal;font-weight:normal;fill-opacity:1;stroke:none;font-family:sans-serif;fill:#000000\" text-anchor=\"middle\" x=\"226.56\" y=\"91.6684\"><tspan>C</tspan></text>\n",
       "<text dominant-baseline=\"central\" style=\"font-size:22px;font-style:normal;font-weight:normal;fill-opacity:1;stroke:none;font-family:sans-serif;fill:#000000\" text-anchor=\"start\" x=\"214.484\" y=\"23.815\"><tspan>O</tspan></text>\n",
       "<text dominant-baseline=\"central\" style=\"font-size:22px;font-style:normal;font-weight:normal;fill-opacity:1;stroke:none;font-family:sans-serif;fill:#000000\" text-anchor=\"middle\" x=\"169.678\" y=\"128.853\"><tspan>O</tspan></text>\n",
       "<text dominant-baseline=\"central\" style=\"font-size:22px;font-style:normal;font-weight:normal;fill-opacity:1;stroke:none;font-family:sans-serif;fill:#000000\" text-anchor=\"middle\" x=\"109.034\" y=\"98.1846\"><tspan>O</tspan></text>\n",
       "<text dominant-baseline=\"central\" style=\"font-size:22px;font-style:normal;font-weight:normal;fill-opacity:1;stroke:none;font-family:sans-serif;fill:#000000\" text-anchor=\"start\" x=\"340.296\" y=\"153.005\"><tspan>H</tspan></text>\n",
       "<text dominant-baseline=\"central\" style=\"font-size:22px;font-style:normal;font-weight:normal;fill-opacity:1;stroke:none;font-family:sans-serif;fill:#000000\" text-anchor=\"end\" x=\"264.087\" y=\"182.981\"><tspan>H</tspan></text>\n",
       "<text dominant-baseline=\"central\" style=\"font-size:22px;font-style:normal;font-weight:normal;fill-opacity:1;stroke:none;font-family:sans-serif;fill:#000000\" text-anchor=\"start\" x=\"310.32\" y=\"61.6931\"><tspan>H</tspan></text>\n",
       "<text dominant-baseline=\"central\" style=\"font-size:22px;font-style:normal;font-weight:normal;fill-opacity:1;stroke:none;font-family:sans-serif;fill:#000000\" text-anchor=\"end\" x=\"59.7044\" y=\"135.369\"><tspan>H</tspan></text>\n",
       "</svg>"
      ],
      "text/plain": [
       "<IPython.core.display.SVG object>"
      ]
     },
     "metadata": {},
     "output_type": "display_data"
    }
   ],
   "source": [
    "drawer = rdMolDraw2D.MolDraw2DSVG(400,200)\n",
    "opts = drawer.drawOptions()\n",
    "drawer.drawOptions().updateAtomPalette({k: (0, 0, 0) for k in DrawingOptions.elemDict.keys()})\n",
    "mol = Chem.MolFromSmiles( 'CC(=O)OO')#CC(=O)c1ccc(S(=O)(=O)NC(=O)NC2CCCCC2)cc1\n",
    "mol = Chem.AddHs(mol)\n",
    "for i in range(mol.GetNumAtoms()):\n",
    "    opts.atomLabels[i] = mol.GetAtomWithIdx(i).GetSymbol()\n",
    "drawer.DrawMolecule(mol)\n",
    "drawer.FinishDrawing()\n",
    "svg = drawer.GetDrawingText().replace('svg:','')\n",
    "display(SVG(svg))\n",
    "\n",
    "##5"
   ]
  },
  {
   "cell_type": "code",
   "execution_count": 10,
   "metadata": {},
   "outputs": [
    {
     "data": {
      "image/svg+xml": [
       "<svg baseProfile=\"full\" height=\"200px\" version=\"1.1\" viewBox=\"0 0 400 200\" width=\"400px\" xml:space=\"preserve\" xmlns=\"http://www.w3.org/2000/svg\" xmlns:rdkit=\"http://www.rdkit.org/xml\" xmlns:xlink=\"http://www.w3.org/1999/xlink\">\n",
       "<!-- END OF HEADER -->\n",
       "<rect height=\"200\" style=\"opacity:1.0;fill:#FFFFFF;stroke:none\" width=\"400\" x=\"0\" y=\"0\"> </rect>\n",
       "<path class=\"bond-0\" d=\"M 95.9731,159.739 L 131.142,139.434\" style=\"fill:none;fill-rule:evenodd;stroke:#000000;stroke-width:2px;stroke-linecap:butt;stroke-linejoin:miter;stroke-opacity:1\"/>\n",
       "<path class=\"bond-1\" d=\"M 166.418,108.264 L 166.418,75.2066\" style=\"fill:none;fill-rule:evenodd;stroke:#000000;stroke-width:2px;stroke-linecap:butt;stroke-linejoin:miter;stroke-opacity:1\"/>\n",
       "<path class=\"bond-1\" d=\"M 166.418,75.2066 L 166.418,42.1488\" style=\"fill:none;fill-rule:evenodd;stroke:#FF0000;stroke-width:2px;stroke-linecap:butt;stroke-linejoin:miter;stroke-opacity:1\"/>\n",
       "<path class=\"bond-1\" d=\"M 146.584,108.264 L 146.584,75.2066\" style=\"fill:none;fill-rule:evenodd;stroke:#000000;stroke-width:2px;stroke-linecap:butt;stroke-linejoin:miter;stroke-opacity:1\"/>\n",
       "<path class=\"bond-1\" d=\"M 146.584,75.2066 L 146.584,42.1488\" style=\"fill:none;fill-rule:evenodd;stroke:#FF0000;stroke-width:2px;stroke-linecap:butt;stroke-linejoin:miter;stroke-opacity:1\"/>\n",
       "<path class=\"bond-2\" d=\"M 181.86,139.434 L 199.444,149.587\" style=\"fill:none;fill-rule:evenodd;stroke:#000000;stroke-width:2px;stroke-linecap:butt;stroke-linejoin:miter;stroke-opacity:1\"/>\n",
       "<path class=\"bond-2\" d=\"M 199.444,149.587 L 217.029,159.739\" style=\"fill:none;fill-rule:evenodd;stroke:#0000FF;stroke-width:2px;stroke-linecap:butt;stroke-linejoin:miter;stroke-opacity:1\"/>\n",
       "<path class=\"bond-3\" d=\"M 267.747,159.739 L 284.776,149.908\" style=\"fill:none;fill-rule:evenodd;stroke:#0000FF;stroke-width:2px;stroke-linecap:butt;stroke-linejoin:miter;stroke-opacity:1\"/>\n",
       "<path class=\"bond-3\" d=\"M 284.776,149.908 L 301.805,140.076\" style=\"fill:none;fill-rule:evenodd;stroke:#FF0000;stroke-width:2px;stroke-linecap:butt;stroke-linejoin:miter;stroke-opacity:1\"/>\n",
       "<text dominant-baseline=\"central\" style=\"font-size:33px;font-style:normal;font-weight:normal;fill-opacity:1;stroke:none;font-family:sans-serif;fill:#000000\" text-anchor=\"end\" x=\"92.6673\" y=\"179.339\"><tspan>C0</tspan></text>\n",
       "<text dominant-baseline=\"central\" style=\"font-size:33px;font-style:normal;font-weight:normal;fill-opacity:1;stroke:none;font-family:sans-serif;fill:#000000\" text-anchor=\"middle\" x=\"156.501\" y=\"129.752\"><tspan>C1</tspan></text>\n",
       "<text dominant-baseline=\"central\" style=\"font-size:33px;font-style:normal;font-weight:normal;fill-opacity:1;stroke:none;font-family:sans-serif;fill:#FF0000\" text-anchor=\"start\" x=\"133.337\" y=\"30.5785\"><tspan>O2</tspan></text>\n",
       "<text dominant-baseline=\"central\" style=\"font-size:33px;font-style:normal;font-weight:normal;fill-opacity:1;stroke:none;font-family:sans-serif;fill:#0000FF\" text-anchor=\"middle\" x=\"242.388\" y=\"179.339\"><tspan>N3</tspan></text>\n",
       "<text dominant-baseline=\"central\" style=\"font-size:33px;font-style:normal;font-weight:normal;fill-opacity:1;stroke:none;font-family:sans-serif;fill:#FF0000\" text-anchor=\"start\" x=\"305.11\" y=\"129.752\"><tspan>O4</tspan></text>\n",
       "</svg>"
      ],
      "text/plain": [
       "<IPython.core.display.SVG object>"
      ]
     },
     "metadata": {},
     "output_type": "display_data"
    }
   ],
   "source": [
    "drawer = rdMolDraw2D.MolDraw2DSVG(400,200)\n",
    "opts = drawer.drawOptions()\n",
    "mol = Chem.MolFromSmiles('CC(=O)NO')\n",
    "for i in range(mol.GetNumAtoms()):\n",
    "    opts.atomLabels[i] = mol.GetAtomWithIdx(i).GetSymbol()+str(i)\n",
    "\n",
    "drawer.DrawMolecule(mol)\n",
    "drawer.FinishDrawing()\n",
    "svg = drawer.GetDrawingText().replace('svg:','')\n",
    "display(SVG(svg))\n",
    "\n",
    "##6"
   ]
  },
  {
   "cell_type": "code",
   "execution_count": 11,
   "metadata": {},
   "outputs": [
    {
     "data": {
      "image/svg+xml": [
       "<svg baseProfile=\"full\" height=\"200px\" version=\"1.1\" viewBox=\"0 0 400 200\" width=\"400px\" xml:space=\"preserve\" xmlns=\"http://www.w3.org/2000/svg\" xmlns:rdkit=\"http://www.rdkit.org/xml\" xmlns:xlink=\"http://www.w3.org/1999/xlink\">\n",
       "<!-- END OF HEADER -->\n",
       "<rect height=\"200\" style=\"opacity:1.0;fill:#FFFFFF;stroke:none\" width=\"400\" x=\"0\" y=\"0\"> </rect>\n",
       "<path class=\"bond-0\" d=\"M 55.0287,117.202 L 86.263,106.382\" style=\"fill:none;fill-rule:evenodd;stroke:#000000;stroke-width:2px;stroke-linecap:butt;stroke-linejoin:miter;stroke-opacity:1\"/>\n",
       "<path class=\"bond-1\" d=\"M 114.073,89.3532 L 118.57,65.9856\" style=\"fill:none;fill-rule:evenodd;stroke:#000000;stroke-width:2px;stroke-linecap:butt;stroke-linejoin:miter;stroke-opacity:1\"/>\n",
       "<path class=\"bond-1\" d=\"M 118.57,65.9856 L 123.067,42.618\" style=\"fill:none;fill-rule:evenodd;stroke:#FF0000;stroke-width:2px;stroke-linecap:butt;stroke-linejoin:miter;stroke-opacity:1\"/>\n",
       "<path class=\"bond-1\" d=\"M 99.9222,86.63 L 104.419,63.2624\" style=\"fill:none;fill-rule:evenodd;stroke:#000000;stroke-width:2px;stroke-linecap:butt;stroke-linejoin:miter;stroke-opacity:1\"/>\n",
       "<path class=\"bond-1\" d=\"M 104.419,63.2624 L 108.916,39.8948\" style=\"fill:none;fill-rule:evenodd;stroke:#FF0000;stroke-width:2px;stroke-linecap:butt;stroke-linejoin:miter;stroke-opacity:1\"/>\n",
       "<path class=\"bond-2\" d=\"M 118.552,112.008 L 131.919,123.584\" style=\"fill:none;fill-rule:evenodd;stroke:#000000;stroke-width:2px;stroke-linecap:butt;stroke-linejoin:miter;stroke-opacity:1\"/>\n",
       "<path class=\"bond-2\" d=\"M 131.919,123.584 L 145.285,135.16\" style=\"fill:none;fill-rule:evenodd;stroke:#0000FF;stroke-width:2px;stroke-linecap:butt;stroke-linejoin:miter;stroke-opacity:1\"/>\n",
       "<path class=\"bond-3\" d=\"M 177.575,140.786 L 193.192,135.376\" style=\"fill:none;fill-rule:evenodd;stroke:#0000FF;stroke-width:2px;stroke-linecap:butt;stroke-linejoin:miter;stroke-opacity:1\"/>\n",
       "<path class=\"bond-3\" d=\"M 193.192,135.376 L 208.809,129.966\" style=\"fill:none;fill-rule:evenodd;stroke:#000000;stroke-width:2px;stroke-linecap:butt;stroke-linejoin:miter;stroke-opacity:1\"/>\n",
       "<path class=\"bond-4\" d=\"M 229.543,111.576 L 238.538,64.8404\" style=\"fill:none;fill-rule:evenodd;stroke:#000000;stroke-width:2px;stroke-linecap:butt;stroke-linejoin:miter;stroke-opacity:1\"/>\n",
       "<path class=\"bond-4\" d=\"M 245.043,107.289 L 251.339,74.5739\" style=\"fill:none;fill-rule:evenodd;stroke:#000000;stroke-width:2px;stroke-linecap:butt;stroke-linejoin:miter;stroke-opacity:1\"/>\n",
       "<path class=\"bond-9\" d=\"M 241.099,135.592 L 267.831,158.744\" style=\"fill:none;fill-rule:evenodd;stroke:#000000;stroke-width:2px;stroke-linecap:butt;stroke-linejoin:miter;stroke-opacity:1\"/>\n",
       "<path class=\"bond-5\" d=\"M 259.272,46.4499 L 290.506,35.6301\" style=\"fill:none;fill-rule:evenodd;stroke:#000000;stroke-width:2px;stroke-linecap:butt;stroke-linejoin:miter;stroke-opacity:1\"/>\n",
       "<path class=\"bond-6\" d=\"M 322.796,41.2564 L 349.529,64.4076\" style=\"fill:none;fill-rule:evenodd;stroke:#000000;stroke-width:2px;stroke-linecap:butt;stroke-linejoin:miter;stroke-opacity:1\"/>\n",
       "<path class=\"bond-6\" d=\"M 317.372,55.6221 L 336.085,71.8279\" style=\"fill:none;fill-rule:evenodd;stroke:#000000;stroke-width:2px;stroke-linecap:butt;stroke-linejoin:miter;stroke-opacity:1\"/>\n",
       "<path class=\"bond-7\" d=\"M 361.084,88.4244 L 352.09,135.16\" style=\"fill:none;fill-rule:evenodd;stroke:#000000;stroke-width:2px;stroke-linecap:butt;stroke-linejoin:miter;stroke-opacity:1\"/>\n",
       "<path class=\"bond-8\" d=\"M 331.355,153.55 L 300.121,164.37\" style=\"fill:none;fill-rule:evenodd;stroke:#000000;stroke-width:2px;stroke-linecap:butt;stroke-linejoin:miter;stroke-opacity:1\"/>\n",
       "<path class=\"bond-8\" d=\"M 321.953,141.557 L 300.089,149.131\" style=\"fill:none;fill-rule:evenodd;stroke:#000000;stroke-width:2px;stroke-linecap:butt;stroke-linejoin:miter;stroke-opacity:1\"/>\n",
       "<text dominant-baseline=\"central\" style=\"font-size:24px;font-style:normal;font-weight:normal;fill-opacity:1;stroke:none;font-family:sans-serif;fill:#000000\" text-anchor=\"end\" x=\"52.627\" y=\"127.187\"><tspan>C0</tspan></text>\n",
       "<text dominant-baseline=\"central\" style=\"font-size:24px;font-style:normal;font-weight:normal;fill-opacity:1;stroke:none;font-family:sans-serif;fill:#000000\" text-anchor=\"middle\" x=\"104.686\" y=\"103.603\"><tspan>C1</tspan></text>\n",
       "<text dominant-baseline=\"central\" style=\"font-size:24px;font-style:normal;font-weight:normal;fill-opacity:1;stroke:none;font-family:sans-serif;fill:#FF0000\" text-anchor=\"start\" x=\"101.474\" y=\"32.8505\"><tspan>O2</tspan></text>\n",
       "<text dominant-baseline=\"central\" style=\"font-size:24px;font-style:normal;font-weight:normal;fill-opacity:1;stroke:none;font-family:sans-serif;fill:#0000FF\" text-anchor=\"middle\" x=\"159.151\" y=\"150.771\"><tspan>N3</tspan></text>\n",
       "<text dominant-baseline=\"central\" style=\"font-size:24px;font-style:normal;font-weight:normal;fill-opacity:1;stroke:none;font-family:sans-serif;fill:#000000\" text-anchor=\"middle\" x=\"227.232\" y=\"127.187\"><tspan>C4</tspan></text>\n",
       "<text dominant-baseline=\"central\" style=\"font-size:24px;font-style:normal;font-weight:normal;fill-opacity:1;stroke:none;font-family:sans-serif;fill:#000000\" text-anchor=\"end\" x=\"256.87\" y=\"56.4345\"><tspan>C5</tspan></text>\n",
       "<text dominant-baseline=\"central\" style=\"font-size:24px;font-style:normal;font-weight:normal;fill-opacity:1;stroke:none;font-family:sans-serif;fill:#000000\" text-anchor=\"middle\" x=\"308.93\" y=\"32.8505\"><tspan>C6</tspan></text>\n",
       "<text dominant-baseline=\"central\" style=\"font-size:24px;font-style:normal;font-weight:normal;fill-opacity:1;stroke:none;font-family:sans-serif;fill:#000000\" text-anchor=\"start\" x=\"347.373\" y=\"80.0185\"><tspan>C7</tspan></text>\n",
       "<text dominant-baseline=\"central\" style=\"font-size:24px;font-style:normal;font-weight:normal;fill-opacity:1;stroke:none;font-family:sans-serif;fill:#000000\" text-anchor=\"start\" x=\"333.757\" y=\"150.771\"><tspan>C8</tspan></text>\n",
       "<text dominant-baseline=\"central\" style=\"font-size:24px;font-style:normal;font-weight:normal;fill-opacity:1;stroke:none;font-family:sans-serif;fill:#000000\" text-anchor=\"middle\" x=\"281.697\" y=\"174.355\"><tspan>C9</tspan></text>\n",
       "</svg>"
      ],
      "text/plain": [
       "<IPython.core.display.SVG object>"
      ]
     },
     "metadata": {},
     "output_type": "display_data"
    }
   ],
   "source": [
    "drawer = rdMolDraw2D.MolDraw2DSVG(400,200)\n",
    "opts = drawer.drawOptions()\n",
    "mol = Chem.MolFromSmiles('CC(=O)Nc1ccccc1')\n",
    "for i in range(mol.GetNumAtoms()):\n",
    "    opts.atomLabels[i] = mol.GetAtomWithIdx(i).GetSymbol()+str(i)\n",
    "\n",
    "drawer.DrawMolecule(mol)\n",
    "drawer.FinishDrawing()\n",
    "svg = drawer.GetDrawingText().replace('svg:','')\n",
    "display(SVG(svg))\n",
    "\n",
    "##3"
   ]
  },
  {
   "cell_type": "code",
   "execution_count": 12,
   "metadata": {},
   "outputs": [
    {
     "data": {
      "image/svg+xml": [
       "<svg baseProfile=\"full\" height=\"200px\" version=\"1.1\" viewBox=\"0 0 400 200\" width=\"400px\" xml:space=\"preserve\" xmlns=\"http://www.w3.org/2000/svg\" xmlns:rdkit=\"http://www.rdkit.org/xml\" xmlns:xlink=\"http://www.w3.org/1999/xlink\">\n",
       "<!-- END OF HEADER -->\n",
       "<rect height=\"200\" style=\"opacity:1.0;fill:#FFFFFF;stroke:none\" width=\"400\" x=\"0\" y=\"0\"> </rect>\n",
       "<path class=\"bond-0\" d=\"M 351.821,128.083 L 323.224,126.768\" style=\"fill:none;fill-rule:evenodd;stroke:#000000;stroke-width:2px;stroke-linecap:butt;stroke-linejoin:miter;stroke-opacity:1\"/>\n",
       "<path class=\"bond-1\" d=\"M 297.026,132.692 L 287.471,147.614\" style=\"fill:none;fill-rule:evenodd;stroke:#000000;stroke-width:2px;stroke-linecap:butt;stroke-linejoin:miter;stroke-opacity:1\"/>\n",
       "<path class=\"bond-1\" d=\"M 287.471,147.614 L 277.916,162.537\" style=\"fill:none;fill-rule:evenodd;stroke:#FF0000;stroke-width:2px;stroke-linecap:butt;stroke-linejoin:miter;stroke-opacity:1\"/>\n",
       "<path class=\"bond-1\" d=\"M 306.906,139.018 L 297.35,153.94\" style=\"fill:none;fill-rule:evenodd;stroke:#000000;stroke-width:2px;stroke-linecap:butt;stroke-linejoin:miter;stroke-opacity:1\"/>\n",
       "<path class=\"bond-1\" d=\"M 297.35,153.94 L 287.795,168.863\" style=\"fill:none;fill-rule:evenodd;stroke:#FF0000;stroke-width:2px;stroke-linecap:butt;stroke-linejoin:miter;stroke-opacity:1\"/>\n",
       "<path class=\"bond-2\" d=\"M 303.165,116.303 L 294.744,100.033\" style=\"fill:none;fill-rule:evenodd;stroke:#000000;stroke-width:2px;stroke-linecap:butt;stroke-linejoin:miter;stroke-opacity:1\"/>\n",
       "<path class=\"bond-2\" d=\"M 294.744,100.033 L 286.322,83.7639\" style=\"fill:none;fill-rule:evenodd;stroke:#0000FF;stroke-width:2px;stroke-linecap:butt;stroke-linejoin:miter;stroke-opacity:1\"/>\n",
       "<path class=\"bond-3\" d=\"M 266.264,73.2983 L 251.965,72.6409\" style=\"fill:none;fill-rule:evenodd;stroke:#0000FF;stroke-width:2px;stroke-linecap:butt;stroke-linejoin:miter;stroke-opacity:1\"/>\n",
       "<path class=\"bond-3\" d=\"M 251.965,72.6409 L 237.667,71.9834\" style=\"fill:none;fill-rule:evenodd;stroke:#000000;stroke-width:2px;stroke-linecap:butt;stroke-linejoin:miter;stroke-opacity:1\"/>\n",
       "<path class=\"bond-4\" d=\"M 216.23,61.5179 L 206.538,46.8003\" style=\"fill:none;fill-rule:evenodd;stroke:#000000;stroke-width:2px;stroke-linecap:butt;stroke-linejoin:miter;stroke-opacity:1\"/>\n",
       "<path class=\"bond-4\" d=\"M 206.538,46.8003 L 196.845,32.0828\" style=\"fill:none;fill-rule:evenodd;stroke:#0000FF;stroke-width:2px;stroke-linecap:butt;stroke-linejoin:miter;stroke-opacity:1\"/>\n",
       "<path class=\"bond-4\" d=\"M 203.525,63.5548 L 196.74,53.2526\" style=\"fill:none;fill-rule:evenodd;stroke:#000000;stroke-width:2px;stroke-linecap:butt;stroke-linejoin:miter;stroke-opacity:1\"/>\n",
       "<path class=\"bond-4\" d=\"M 196.74,53.2526 L 189.955,42.9503\" style=\"fill:none;fill-rule:evenodd;stroke:#0000FF;stroke-width:2px;stroke-linecap:butt;stroke-linejoin:miter;stroke-opacity:1\"/>\n",
       "<path class=\"bond-12\" d=\"M 214.855,81.0698 L 204.358,94.2038\" style=\"fill:none;fill-rule:evenodd;stroke:#000000;stroke-width:2px;stroke-linecap:butt;stroke-linejoin:miter;stroke-opacity:1\"/>\n",
       "<path class=\"bond-12\" d=\"M 204.358,94.2038 L 193.861,107.338\" style=\"fill:none;fill-rule:evenodd;stroke:#CCCC00;stroke-width:2px;stroke-linecap:butt;stroke-linejoin:miter;stroke-opacity:1\"/>\n",
       "<path class=\"bond-5\" d=\"M 175.409,26.4289 L 148.847,33.729\" style=\"fill:none;fill-rule:evenodd;stroke:#0000FF;stroke-width:2px;stroke-linecap:butt;stroke-linejoin:miter;stroke-opacity:1\"/>\n",
       "<path class=\"bond-6\" d=\"M 133.399,47.6271 L 132.501,67.1481\" style=\"fill:none;fill-rule:evenodd;stroke:#0000FF;stroke-width:2px;stroke-linecap:butt;stroke-linejoin:miter;stroke-opacity:1\"/>\n",
       "<path class=\"bond-6\" d=\"M 132.501,67.1481 L 131.604,86.6691\" style=\"fill:none;fill-rule:evenodd;stroke:#000000;stroke-width:2px;stroke-linecap:butt;stroke-linejoin:miter;stroke-opacity:1\"/>\n",
       "<path class=\"bond-6\" d=\"M 144.848,54.0222 L 144.22,67.6869\" style=\"fill:none;fill-rule:evenodd;stroke:#0000FF;stroke-width:2px;stroke-linecap:butt;stroke-linejoin:miter;stroke-opacity:1\"/>\n",
       "<path class=\"bond-6\" d=\"M 144.22,67.6869 L 143.592,81.3516\" style=\"fill:none;fill-rule:evenodd;stroke:#000000;stroke-width:2px;stroke-linecap:butt;stroke-linejoin:miter;stroke-opacity:1\"/>\n",
       "<path class=\"bond-7\" d=\"M 116.31,106.221 L 106.415,112.737\" style=\"fill:none;fill-rule:evenodd;stroke:#000000;stroke-width:2px;stroke-linecap:butt;stroke-linejoin:miter;stroke-opacity:1\"/>\n",
       "<path class=\"bond-7\" d=\"M 106.415,112.737 L 96.5202,119.254\" style=\"fill:none;fill-rule:evenodd;stroke:#CCCC00;stroke-width:2px;stroke-linecap:butt;stroke-linejoin:miter;stroke-opacity:1\"/>\n",
       "<path class=\"bond-11\" d=\"M 146.153,102.092 L 155.661,105.673\" style=\"fill:none;fill-rule:evenodd;stroke:#000000;stroke-width:2px;stroke-linecap:butt;stroke-linejoin:miter;stroke-opacity:1\"/>\n",
       "<path class=\"bond-11\" d=\"M 155.661,105.673 L 165.17,109.253\" style=\"fill:none;fill-rule:evenodd;stroke:#CCCC00;stroke-width:2px;stroke-linecap:butt;stroke-linejoin:miter;stroke-opacity:1\"/>\n",
       "<path class=\"bond-8\" d=\"M 67.8143,138.159 L 57.9195,144.675\" style=\"fill:none;fill-rule:evenodd;stroke:#CCCC00;stroke-width:2px;stroke-linecap:butt;stroke-linejoin:miter;stroke-opacity:1\"/>\n",
       "<path class=\"bond-8\" d=\"M 57.9195,144.675 L 48.0246,151.191\" style=\"fill:none;fill-rule:evenodd;stroke:#0000FF;stroke-width:2px;stroke-linecap:butt;stroke-linejoin:miter;stroke-opacity:1\"/>\n",
       "<path class=\"bond-9\" d=\"M 80.6279,115.704 L 70.9354,100.987\" style=\"fill:none;fill-rule:evenodd;stroke:#CCCC00;stroke-width:2px;stroke-linecap:butt;stroke-linejoin:miter;stroke-opacity:1\"/>\n",
       "<path class=\"bond-9\" d=\"M 70.9354,100.987 L 61.243,86.269\" style=\"fill:none;fill-rule:evenodd;stroke:#FF0000;stroke-width:2px;stroke-linecap:butt;stroke-linejoin:miter;stroke-opacity:1\"/>\n",
       "<path class=\"bond-9\" d=\"M 70.8304,122.156 L 61.138,107.439\" style=\"fill:none;fill-rule:evenodd;stroke:#CCCC00;stroke-width:2px;stroke-linecap:butt;stroke-linejoin:miter;stroke-opacity:1\"/>\n",
       "<path class=\"bond-9\" d=\"M 61.138,107.439 L 51.4456,92.7212\" style=\"fill:none;fill-rule:evenodd;stroke:#FF0000;stroke-width:2px;stroke-linecap:butt;stroke-linejoin:miter;stroke-opacity:1\"/>\n",
       "<path class=\"bond-10\" d=\"M 83.7067,141.708 L 93.3991,156.426\" style=\"fill:none;fill-rule:evenodd;stroke:#CCCC00;stroke-width:2px;stroke-linecap:butt;stroke-linejoin:miter;stroke-opacity:1\"/>\n",
       "<path class=\"bond-10\" d=\"M 93.3991,156.426 L 103.092,171.143\" style=\"fill:none;fill-rule:evenodd;stroke:#FF0000;stroke-width:2px;stroke-linecap:butt;stroke-linejoin:miter;stroke-opacity:1\"/>\n",
       "<path class=\"bond-10\" d=\"M 93.5041,135.256 L 103.197,149.974\" style=\"fill:none;fill-rule:evenodd;stroke:#CCCC00;stroke-width:2px;stroke-linecap:butt;stroke-linejoin:miter;stroke-opacity:1\"/>\n",
       "<path class=\"bond-10\" d=\"M 103.197,149.974 L 112.889,164.691\" style=\"fill:none;fill-rule:evenodd;stroke:#FF0000;stroke-width:2px;stroke-linecap:butt;stroke-linejoin:miter;stroke-opacity:1\"/>\n",
       "<text dominant-baseline=\"central\" style=\"font-size:19px;font-style:normal;font-weight:normal;fill-opacity:1;stroke:none;font-family:sans-serif;fill:#000000\" text-anchor=\"start\" x=\"353.777\" y=\"131.706\"><tspan>C0</tspan></text>\n",
       "<text dominant-baseline=\"central\" style=\"font-size:19px;font-style:normal;font-weight:normal;fill-opacity:1;stroke:none;font-family:sans-serif;fill:#000000\" text-anchor=\"middle\" x=\"308.226\" y=\"129.012\"><tspan>C1</tspan></text>\n",
       "<text dominant-baseline=\"central\" style=\"font-size:19px;font-style:normal;font-weight:normal;fill-opacity:1;stroke:none;font-family:sans-serif;fill:#FF0000\" text-anchor=\"end\" x=\"290.296\" y=\"178.408\"><tspan>O2</tspan></text>\n",
       "<text dominant-baseline=\"central\" style=\"font-size:19px;font-style:normal;font-weight:normal;fill-opacity:1;stroke:none;font-family:sans-serif;fill:#0000FF\" text-anchor=\"start\" x=\"268.219\" y=\"76.9207\"><tspan>N3</tspan></text>\n",
       "<text dominant-baseline=\"central\" style=\"font-size:19px;font-style:normal;font-weight:normal;fill-opacity:1;stroke:none;font-family:sans-serif;fill:#000000\" text-anchor=\"start\" x=\"209.625\" y=\"74.2266\"><tspan>C4</tspan></text>\n",
       "<text dominant-baseline=\"central\" style=\"font-size:19px;font-style:normal;font-weight:normal;fill-opacity:1;stroke:none;font-family:sans-serif;fill:#0000FF\" text-anchor=\"start\" x=\"177.364\" y=\"25.2396\"><tspan>N5</tspan></text>\n",
       "<text dominant-baseline=\"central\" style=\"font-size:19px;font-style:normal;font-weight:normal;fill-opacity:1;stroke:none;font-family:sans-serif;fill:#0000FF\" text-anchor=\"end\" x=\"146.892\" y=\"40.7839\"><tspan>N6</tspan></text>\n",
       "<text dominant-baseline=\"central\" style=\"font-size:19px;font-style:normal;font-weight:normal;fill-opacity:1;stroke:none;font-family:sans-serif;fill:#000000\" text-anchor=\"end\" x=\"144.198\" y=\"99.3779\"><tspan>C7</tspan></text>\n",
       "<text dominant-baseline=\"central\" style=\"font-size:19px;font-style:normal;font-weight:normal;fill-opacity:1;stroke:none;font-family:sans-serif;fill:#CCCC00\" text-anchor=\"middle\" x=\"82.1673\" y=\"131.639\"><tspan>S8</tspan></text>\n",
       "<text dominant-baseline=\"central\" style=\"font-size:19px;font-style:normal;font-weight:normal;fill-opacity:1;stroke:none;font-family:sans-serif;fill:#0000FF\" text-anchor=\"end\" x=\"46.2235\" y=\"163.9\"><tspan>N9</tspan></text>\n",
       "<text dominant-baseline=\"central\" style=\"font-size:19px;font-style:normal;font-weight:normal;fill-opacity:1;stroke:none;font-family:sans-serif;fill:#FF0000\" text-anchor=\"end\" x=\"70.1317\" y=\"82.6519\"><tspan>O10</tspan></text>\n",
       "<text dominant-baseline=\"central\" style=\"font-size:19px;font-style:normal;font-weight:normal;fill-opacity:1;stroke:none;font-family:sans-serif;fill:#FF0000\" text-anchor=\"start\" x=\"94.2028\" y=\"180.626\"><tspan>O11</tspan></text>\n",
       "<text dominant-baseline=\"central\" style=\"font-size:19px;font-style:normal;font-weight:normal;fill-opacity:1;stroke:none;font-family:sans-serif;fill:#CCCC00\" text-anchor=\"middle\" x=\"186.048\" y=\"120.047\"><tspan>S12</tspan></text>\n",
       "</svg>"
      ],
      "text/plain": [
       "<IPython.core.display.SVG object>"
      ]
     },
     "metadata": {},
     "output_type": "display_data"
    }
   ],
   "source": [
    "drawer = rdMolDraw2D.MolDraw2DSVG(400,200)\n",
    "opts = drawer.drawOptions()\n",
    "mol = Chem.MolFromSmiles('CC(=O)Nc1nnc(S(N)(=O)=O)s1')\n",
    "for i in range(mol.GetNumAtoms()):\n",
    "    opts.atomLabels[i] = mol.GetAtomWithIdx(i).GetSymbol()+str(i)\n",
    "\n",
    "drawer.DrawMolecule(mol)\n",
    "drawer.FinishDrawing()\n",
    "svg = drawer.GetDrawingText().replace('svg:','')\n",
    "display(SVG(svg))\n",
    "\n",
    "##4"
   ]
  },
  {
   "cell_type": "code",
   "execution_count": null,
   "metadata": {},
   "outputs": [],
   "source": []
  }
 ],
 "metadata": {
  "kernelspec": {
   "display_name": "Python 3",
   "language": "python",
   "name": "python3"
  },
  "language_info": {
   "codemirror_mode": {
    "name": "ipython",
    "version": 3
   },
   "file_extension": ".py",
   "mimetype": "text/x-python",
   "name": "python",
   "nbconvert_exporter": "python",
   "pygments_lexer": "ipython3",
   "version": "3.7.7"
  }
 },
 "nbformat": 4,
 "nbformat_minor": 4
}
