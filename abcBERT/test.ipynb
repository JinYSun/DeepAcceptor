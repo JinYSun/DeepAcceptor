{
 "cells": [
  {
   "cell_type": "markdown",
   "id": "3bc9c84b",
   "metadata": {},
   "source": [
    "# DeepAcceptor：Deep learning-based design and screening of non-fullerene acceptor materials for organic solar cells"
   ]
  },
  {
   "cell_type": "markdown",
   "id": "fdcf8b2d",
   "metadata": {},
   "source": [
    "It is a time-consuming and costly process to develop affordable and high-performance organic photovoltaic materials. Developing reliable computational methods to predict the power conversion efficiency (PCE) is crucial to triage unpromising molecules in large-scale databases and accelerate the material discovery process. In this study, a deep learning-based framework (DeepAcceptor) has been built to design and discover high-efficient small molecule acceptor materials. Specifically, an experimental dataset was constructed by collecting data from publications. Then, a BERT-based model was customized to predict PCEs by taking fully advantages of the atom, bond, connection information in molecular structures of acceptors, and this customized architecture is termed as abcBERT. The computation molecules and experimental molecules were used to pre-train and fine-tune the model, respectively.The molecular graph was used as the input and the computation molecules and experimental molecules were used to pretrain and finetune the model, respectively. DeepAcceptor is a promising method to predict the PCE and speed up the discovery of high-performance acceptor materials."
   ]
  },
  {
   "cell_type": "markdown",
   "id": "ed5fa729",
   "metadata": {},
   "source": [
    "## Here, we have shown how to use the model to predict the PCE based on NFAs."
   ]
  },
  {
   "cell_type": "markdown",
   "id": "80abc44b",
   "metadata": {},
   "source": [
    "### 1. Download the pretrained and finetuned model "
   ]
  },
  {
   "cell_type": "code",
   "execution_count": 19,
   "id": "1c6658dc",
   "metadata": {},
   "outputs": [
    {
     "name": "stdout",
     "output_type": "stream",
     "text": [
      "Looking in indexes: https://pypi.org/simple, https://pypi.ngc.nvidia.com\n",
      "Collecting wget\n",
      "  Downloading wget-3.2.zip (10 kB)\n",
      "Building wheels for collected packages: wget\n",
      "  Building wheel for wget (setup.py): started\n",
      "  Building wheel for wget (setup.py): finished with status 'done'\n",
      "  Created wheel for wget: filename=wget-3.2-py3-none-any.whl size=9657 sha256=bbe0bf5cb9300b74075403b78b87a86314ebb304aff57056f38fc4dcb6bd6fca\n",
      "  Stored in directory: C:\\Users\\BM109X32G-10GPU-02\\AppData\\Local\\Temp\\pip-ephem-wheel-cache-v97hsxon\\wheels\\bd\\a8\\c3\\3cf2c14a1837a4e04bd98631724e81f33f462d86a1d895fae0\n",
      "Successfully built wget\n",
      "Installing collected packages: wget\n",
      "Successfully installed wget-3.2\n",
      "Note: you may need to restart the kernel to use updated packages.\n"
     ]
    }
   ],
   "source": [
    "pip install wget"
   ]
  },
  {
   "cell_type": "markdown",
   "id": "003e8fee",
   "metadata": {},
   "source": [
    "#### download the prediction model"
   ]
  },
  {
   "cell_type": "code",
   "execution_count": 20,
   "id": "d4c2aba0",
   "metadata": {},
   "outputs": [],
   "source": [
    "import wget\n",
    "url = r\"https://github.com/JinYSun/DeepAcceptor/releases/download/v1.0.0/data.h5\""
   ]
  },
  {
   "cell_type": "code",
   "execution_count": 21,
   "id": "d925e01d",
   "metadata": {},
   "outputs": [
    {
     "name": "stdout",
     "output_type": "stream",
     "text": [
      "\r",
      "  0% [                                                                        ]            0B / 16M\r",
      "  0% [                                                                        ]            8K / 16M\r",
      "  0% [                                                                        ]           16K / 16M\r",
      "  0% [                                                                        ]           24K / 16M\r",
      "  0% [                                                                        ]           32K / 16M\r",
      "  0% [                                                                        ]           40K / 16M\r",
      "  0% [                                                                        ]           48K / 16M\r",
      "  0% [                                                                        ]           56K / 16M\r",
      "  0% [                                                                        ]           64K / 16M\r",
      "  0% [                                                                        ]           72K / 16M\r",
      "  0% [                                                                        ]           80K / 16M\r",
      "  0% [                                                                        ]           88K / 16M\r",
      "  0% [                                                                        ]           96K / 16M\r",
      "  0% [                                                                        ]          104K / 16M\r",
      "  0% [                                                                        ]          112K / 16M\r",
      "  0% [                                                                        ]          120K / 16M\r",
      "  0% [                                                                        ]          128K / 16M\r",
      "  0% [                                                                        ]          136K / 16M\r",
      "  0% [                                                                        ]          144K / 16M\r",
      "  0% [                                                                        ]          152K / 16M\r",
      "  0% [                                                                        ]          160K / 16M\r",
      "  0% [                                                                        ]          168K / 16M\r",
      "  1% [                                                                        ]          176K / 16M\r",
      "  1% [                                                                        ]          184K / 16M\r",
      "  1% [                                                                        ]          192K / 16M\r",
      "  1% [                                                                        ]          200K / 16M\r",
      "  1% [                                                                        ]          208K / 16M\r",
      "  1% [                                                                        ]          216K / 16M\r",
      "  1% [                                                                        ]          224K / 16M\r",
      "  1% [                                                                        ]          232K / 16M\r",
      "  1% [#                                                                       ]          240K / 16M\r",
      "  1% [#                                                                       ]          248K / 16M\r",
      "  1% [#                                                                       ]          256K / 16M\r",
      "  1% [#                                                                       ]          264K / 16M\r",
      "  1% [#                                                                       ]          272K / 16M\r",
      "  1% [#                                                                       ]          280K / 16M\r",
      "  1% [#                                                                       ]          288K / 16M\r",
      "  1% [#                                                                       ]          296K / 16M\r",
      "  1% [#                                                                       ]          304K / 16M\r",
      "  1% [#                                                                       ]          312K / 16M\r",
      "  1% [#                                                                       ]          320K / 16M\r",
      "  1% [#                                                                       ]          328K / 16M\r",
      "  1% [#                                                                       ]          336K / 16M\r",
      "  2% [#                                                                       ]          344K / 16M\r",
      "  2% [#                                                                       ]          352K / 16M\r",
      "  2% [#                                                                       ]          360K / 16M\r",
      "  2% [#                                                                       ]          368K / 16M\r",
      "  2% [#                                                                       ]          376K / 16M\r",
      "  2% [#                                                                       ]          384K / 16M\r",
      "  2% [#                                                                       ]          392K / 16M\r",
      "  2% [#                                                                       ]          400K / 16M\r",
      "  2% [#                                                                       ]          408K / 16M\r",
      "  2% [#                                                                       ]          416K / 16M\r",
      "  2% [#                                                                       ]          424K / 16M\r",
      "  2% [#                                                                       ]          432K / 16M\r",
      "  2% [#                                                                       ]          440K / 16M\r",
      "  2% [#                                                                       ]          448K / 16M\r",
      "  2% [#                                                                       ]          456K / 16M\r",
      "  2% [#                                                                       ]          464K / 16M\r",
      "  2% [#                                                                       ]          472K / 16M\r",
      "  2% [##                                                                      ]          480K / 16M\r",
      "  2% [##                                                                      ]          488K / 16M\r",
      "  2% [##                                                                      ]          496K / 16M\r",
      "  2% [##                                                                      ]          504K / 16M\r",
      "  2% [##                                                                      ]          512K / 16M\r",
      "  3% [##                                                                      ]          520K / 16M\r",
      "  3% [##                                                                      ]          528K / 16M\r",
      "  3% [##                                                                      ]          536K / 16M\r",
      "  3% [##                                                                      ]          544K / 16M\r",
      "  3% [##                                                                      ]          552K / 16M\r",
      "  3% [##                                                                      ]          560K / 16M\r",
      "  3% [##                                                                      ]          568K / 16M\r",
      "  3% [##                                                                      ]          576K / 16M\r",
      "  3% [##                                                                      ]          584K / 16M\r",
      "  3% [##                                                                      ]          592K / 16M\r",
      "  3% [##                                                                      ]          600K / 16M\r",
      "  3% [##                                                                      ]          608K / 16M\r",
      "  3% [##                                                                      ]          616K / 16M\r",
      "  3% [##                                                                      ]          624K / 16M\r",
      "  3% [##                                                                      ]          632K / 16M\r",
      "  3% [##                                                                      ]          640K / 16M\r",
      "  3% [##                                                                      ]          648K / 16M\r",
      "  3% [##                                                                      ]          656K / 16M\r",
      "  3% [##                                                                      ]          664K / 16M"
     ]
    },
    {
     "name": "stdout",
     "output_type": "stream",
     "text": [
      "\r",
      "  3% [##                                                                      ]          672K / 16M\r",
      "  3% [##                                                                      ]          680K / 16M\r",
      "  4% [##                                                                      ]          688K / 16M\r",
      "  4% [##                                                                      ]          696K / 16M\r",
      "  4% [##                                                                      ]          704K / 16M\r",
      "  4% [##                                                                      ]          712K / 16M\r",
      "  4% [###                                                                     ]          720K / 16M\r",
      "  4% [###                                                                     ]          728K / 16M\r",
      "  4% [###                                                                     ]          736K / 16M\r",
      "  4% [###                                                                     ]          744K / 16M\r",
      "  4% [###                                                                     ]          752K / 16M\r",
      "  4% [###                                                                     ]          760K / 16M\r",
      "  4% [###                                                                     ]          768K / 16M\r",
      "  4% [###                                                                     ]          776K / 16M\r",
      "  4% [###                                                                     ]          784K / 16M\r",
      "  4% [###                                                                     ]          792K / 16M\r",
      "  4% [###                                                                     ]          800K / 16M\r",
      "  4% [###                                                                     ]          808K / 16M\r",
      "  4% [###                                                                     ]          816K / 16M\r",
      "  4% [###                                                                     ]          824K / 16M\r",
      "  4% [###                                                                     ]          832K / 16M\r",
      "  4% [###                                                                     ]          840K / 16M\r",
      "  4% [###                                                                     ]          848K / 16M\r",
      "  4% [###                                                                     ]          856K / 16M\r",
      "  5% [###                                                                     ]          864K / 16M\r",
      "  5% [###                                                                     ]          872K / 16M\r",
      "  5% [###                                                                     ]          880K / 16M\r",
      "  5% [###                                                                     ]          888K / 16M\r",
      "  5% [###                                                                     ]          896K / 16M\r",
      "  5% [###                                                                     ]          904K / 16M\r",
      "  5% [###                                                                     ]          912K / 16M\r",
      "  5% [###                                                                     ]          920K / 16M\r",
      "  5% [###                                                                     ]          928K / 16M\r",
      "  5% [###                                                                     ]          936K / 16M\r",
      "  5% [###                                                                     ]          944K / 16M\r",
      "  5% [###                                                                     ]          952K / 16M\r",
      "  5% [####                                                                    ]          960K / 16M\r",
      "  5% [####                                                                    ]          968K / 16M\r",
      "  5% [####                                                                    ]          976K / 16M\r",
      "  5% [####                                                                    ]          984K / 16M\r",
      "  5% [####                                                                    ]          992K / 16M\r",
      "  5% [####                                                                    ]         1000K / 16M\r",
      "  5% [####                                                                    ]         1008K / 16M\r",
      "  5% [####                                                                    ]         1016K / 16M\r",
      "  5% [####                                                                    ]            1M / 16M\r",
      "  6% [####                                                                    ]            1M / 16M\r",
      "  6% [####                                                                    ]            1M / 16M\r",
      "  6% [####                                                                    ]            1M / 16M\r",
      "  6% [####                                                                    ]            1M / 16M\r",
      "  6% [####                                                                    ]            1M / 16M\r",
      "  6% [####                                                                    ]            1M / 16M\r",
      "  6% [####                                                                    ]            1M / 16M\r",
      "  6% [####                                                                    ]            1M / 16M\r",
      "  6% [####                                                                    ]            1M / 16M\r",
      "  6% [####                                                                    ]            1M / 16M\r",
      "  6% [####                                                                    ]            1M / 16M\r",
      "  6% [####                                                                    ]            1M / 16M\r",
      "  6% [####                                                                    ]            1M / 16M\r",
      "  6% [####                                                                    ]            1M / 16M\r",
      "  6% [####                                                                    ]            1M / 16M\r",
      "  6% [####                                                                    ]            1M / 16M\r",
      "  6% [####                                                                    ]            1M / 16M\r",
      "  6% [####                                                                    ]            1M / 16M\r",
      "  6% [####                                                                    ]            1M / 16M\r",
      "  6% [####                                                                    ]            1M / 16M\r",
      "  6% [####                                                                    ]            1M / 16M\r",
      "  6% [#####                                                                   ]            1M / 16M\r",
      "  7% [#####                                                                   ]            1M / 16M\r",
      "  7% [#####                                                                   ]            1M / 16M\r",
      "  7% [#####                                                                   ]            1M / 16M\r",
      "  7% [#####                                                                   ]            1M / 16M\r",
      "  7% [#####                                                                   ]            1M / 16M\r",
      "  7% [#####                                                                   ]            1M / 16M\r",
      "  7% [#####                                                                   ]            1M / 16M\r",
      "  7% [#####                                                                   ]            1M / 16M\r",
      "  7% [#####                                                                   ]            1M / 16M\r",
      "  7% [#####                                                                   ]            1M / 16M\r",
      "  7% [#####                                                                   ]            1M / 16M\r",
      "  7% [#####                                                                   ]            1M / 16M\r",
      "  7% [#####                                                                   ]            1M / 16M\r",
      "  7% [#####                                                                   ]            1M / 16M\r",
      "  7% [#####                                                                   ]            1M / 16M\r",
      "  7% [#####                                                                   ]            1M / 16M\r",
      "  7% [#####                                                                   ]            1M / 16M\r",
      "  7% [#####                                                                   ]            1M / 16M\r",
      "  7% [#####                                                                   ]            1M / 16M\r",
      "  7% [#####                                                                   ]            1M / 16M\r",
      "  7% [#####                                                                   ]            1M / 16M\r",
      "  8% [#####                                                                   ]            1M / 16M\r",
      "  8% [#####                                                                   ]            1M / 16M\r",
      "  8% [#####                                                                   ]            1M / 16M\r",
      "  8% [#####                                                                   ]            1M / 16M\r",
      "  8% [#####                                                                   ]            1M / 16M\r",
      "  8% [#####                                                                   ]            1M / 16M\r",
      "  8% [#####                                                                   ]            1M / 16M\r",
      "  8% [#####                                                                   ]            1M / 16M\r",
      "  8% [######                                                                  ]            1M / 16M\r",
      "  8% [######                                                                  ]            1M / 16M"
     ]
    },
    {
     "name": "stdout",
     "output_type": "stream",
     "text": [
      "\r",
      "  8% [######                                                                  ]            1M / 16M\r",
      "  8% [######                                                                  ]            1M / 16M\r",
      "  8% [######                                                                  ]            1M / 16M\r",
      "  8% [######                                                                  ]            1M / 16M\r",
      "  8% [######                                                                  ]            1M / 16M\r",
      "  8% [######                                                                  ]            1M / 16M\r",
      "  8% [######                                                                  ]            1M / 16M\r",
      "  8% [######                                                                  ]            1M / 16M\r",
      "  8% [######                                                                  ]            1M / 16M\r",
      "  8% [######                                                                  ]            1M / 16M\r",
      "  8% [######                                                                  ]            1M / 16M\r",
      "  8% [######                                                                  ]            1M / 16M\r",
      "  9% [######                                                                  ]            1M / 16M\r",
      "  9% [######                                                                  ]            1M / 16M\r",
      "  9% [######                                                                  ]            1M / 16M\r",
      "  9% [######                                                                  ]            1M / 16M\r",
      "  9% [######                                                                  ]            1M / 16M\r",
      "  9% [######                                                                  ]            1M / 16M\r",
      "  9% [######                                                                  ]            1M / 16M\r",
      "  9% [######                                                                  ]            1M / 16M\r",
      "  9% [######                                                                  ]            1M / 16M\r",
      "  9% [######                                                                  ]            1M / 16M\r",
      "  9% [######                                                                  ]            1M / 16M\r",
      "  9% [######                                                                  ]            1M / 16M\r",
      "  9% [######                                                                  ]            1M / 16M\r",
      "  9% [######                                                                  ]            1M / 16M\r",
      "  9% [######                                                                  ]            1M / 16M\r",
      "  9% [######                                                                  ]            1M / 16M\r",
      "  9% [#######                                                                 ]            1M / 16M\r",
      "  9% [#######                                                                 ]            1M / 16M\r",
      "  9% [#######                                                                 ]            1M / 16M\r",
      "  9% [#######                                                                 ]            1M / 16M\r",
      "  9% [#######                                                                 ]            1M / 16M\r",
      " 10% [#######                                                                 ]            1M / 16M\r",
      " 10% [#######                                                                 ]            1M / 16M\r",
      " 10% [#######                                                                 ]            1M / 16M\r",
      " 10% [#######                                                                 ]            1M / 16M\r",
      " 10% [#######                                                                 ]            1M / 16M\r",
      " 10% [#######                                                                 ]            1M / 16M\r",
      " 10% [#######                                                                 ]            1M / 16M\r",
      " 10% [#######                                                                 ]            1M / 16M\r",
      " 10% [#######                                                                 ]            1M / 16M\r",
      " 10% [#######                                                                 ]            1M / 16M\r",
      " 10% [#######                                                                 ]            1M / 16M\r",
      " 10% [#######                                                                 ]            1M / 16M\r",
      " 10% [#######                                                                 ]            1M / 16M\r",
      " 10% [#######                                                                 ]            1M / 16M\r",
      " 10% [#######                                                                 ]            1M / 16M\r",
      " 10% [#######                                                                 ]            1M / 16M\r",
      " 10% [#######                                                                 ]            1M / 16M\r",
      " 10% [#######                                                                 ]            1M / 16M\r",
      " 10% [#######                                                                 ]            1M / 16M\r",
      " 10% [#######                                                                 ]            1M / 16M\r",
      " 10% [#######                                                                 ]            1M / 16M\r",
      " 10% [#######                                                                 ]            1M / 16M\r",
      " 11% [#######                                                                 ]            1M / 16M\r",
      " 11% [#######                                                                 ]            1M / 16M\r",
      " 11% [########                                                                ]            1M / 16M\r",
      " 11% [########                                                                ]            1M / 16M\r",
      " 11% [########                                                                ]            1M / 16M\r",
      " 11% [########                                                                ]            1M / 16M\r",
      " 11% [########                                                                ]            1M / 16M\r",
      " 11% [########                                                                ]            1M / 16M\r",
      " 11% [########                                                                ]            1M / 16M\r",
      " 11% [########                                                                ]            1M / 16M\r",
      " 11% [########                                                                ]            1M / 16M\r",
      " 11% [########                                                                ]            1M / 16M\r",
      " 11% [########                                                                ]            1M / 16M\r",
      " 11% [########                                                                ]            1M / 16M\r",
      " 11% [########                                                                ]            1M / 16M\r",
      " 11% [########                                                                ]            1M / 16M\r",
      " 11% [########                                                                ]            1M / 16M\r",
      " 11% [########                                                                ]            1M / 16M\r",
      " 11% [########                                                                ]            1M / 16M\r",
      " 11% [########                                                                ]            2M / 16M\r",
      " 11% [########                                                                ]            2M / 16M\r",
      " 12% [########                                                                ]            2M / 16M\r",
      " 12% [########                                                                ]            2M / 16M\r",
      " 12% [########                                                                ]            2M / 16M\r",
      " 12% [########                                                                ]            2M / 16M\r",
      " 12% [########                                                                ]            2M / 16M\r",
      " 12% [########                                                                ]            2M / 16M\r",
      " 12% [########                                                                ]            2M / 16M\r",
      " 12% [########                                                                ]            2M / 16M\r",
      " 12% [########                                                                ]            2M / 16M\r",
      " 12% [########                                                                ]            2M / 16M\r",
      " 12% [########                                                                ]            2M / 16M\r",
      " 12% [#########                                                               ]            2M / 16M\r",
      " 12% [#########                                                               ]            2M / 16M\r",
      " 12% [#########                                                               ]            2M / 16M\r",
      " 12% [#########                                                               ]            2M / 16M\r",
      " 12% [#########                                                               ]            2M / 16M\r",
      " 12% [#########                                                               ]            2M / 16M\r",
      " 12% [#########                                                               ]            2M / 16M\r",
      " 12% [#########                                                               ]            2M / 16M\r",
      " 12% [#########                                                               ]            2M / 16M\r",
      " 12% [#########                                                               ]            2M / 16M\r",
      " 12% [#########                                                               ]            2M / 16M\r",
      " 13% [#########                                                               ]            2M / 16M\r",
      " 13% [#########                                                               ]            2M / 16M\r",
      " 13% [#########                                                               ]            2M / 16M\r",
      " 13% [#########                                                               ]            2M / 16M\r",
      " 13% [#########                                                               ]            2M / 16M\r",
      " 13% [#########                                                               ]            2M / 16M\r",
      " 13% [#########                                                               ]            2M / 16M\r",
      " 13% [#########                                                               ]            2M / 16M\r",
      " 13% [#########                                                               ]            2M / 16M\r",
      " 13% [#########                                                               ]            2M / 16M\r",
      " 13% [#########                                                               ]            2M / 16M\r",
      " 13% [#########                                                               ]            2M / 16M\r",
      " 13% [#########                                                               ]            2M / 16M\r",
      " 13% [#########                                                               ]            2M / 16M\r",
      " 13% [#########                                                               ]            2M / 16M\r",
      " 13% [#########                                                               ]            2M / 16M\r",
      " 13% [#########                                                               ]            2M / 16M\r",
      " 13% [#########                                                               ]            2M / 16M\r",
      " 13% [#########                                                               ]            2M / 16M\r",
      " 13% [##########                                                              ]            2M / 16M\r",
      " 13% [##########                                                              ]            2M / 16M\r",
      " 14% [##########                                                              ]            2M / 16M\r",
      " 14% [##########                                                              ]            2M / 16M\r",
      " 14% [##########                                                              ]            2M / 16M\r",
      " 14% [##########                                                              ]            2M / 16M\r",
      " 14% [##########                                                              ]            2M / 16M\r",
      " 14% [##########                                                              ]            2M / 16M\r",
      " 14% [##########                                                              ]            2M / 16M\r",
      " 14% [##########                                                              ]            2M / 16M\r",
      " 14% [##########                                                              ]            2M / 16M\r",
      " 14% [##########                                                              ]            2M / 16M\r",
      " 14% [##########                                                              ]            2M / 16M\r",
      " 14% [##########                                                              ]            2M / 16M\r",
      " 14% [##########                                                              ]            2M / 16M\r",
      " 14% [##########                                                              ]            2M / 16M\r",
      " 14% [##########                                                              ]            2M / 16M\r",
      " 14% [##########                                                              ]            2M / 16M\r",
      " 14% [##########                                                              ]            2M / 16M\r",
      " 14% [##########                                                              ]            2M / 16M\r",
      " 14% [##########                                                              ]            2M / 16M\r",
      " 14% [##########                                                              ]            2M / 16M\r",
      " 14% [##########                                                              ]            2M / 16M\r",
      " 14% [##########                                                              ]            2M / 16M\r",
      " 15% [##########                                                              ]            2M / 16M\r",
      " 15% [##########                                                              ]            2M / 16M\r",
      " 15% [##########                                                              ]            2M / 16M\r",
      " 15% [##########                                                              ]            2M / 16M\r",
      " 15% [##########                                                              ]            2M / 16M\r",
      " 15% [##########                                                              ]            2M / 16M\r",
      " 15% [###########                                                             ]            2M / 16M\r",
      " 15% [###########                                                             ]            2M / 16M\r",
      " 15% [###########                                                             ]            2M / 16M\r",
      " 15% [###########                                                             ]            2M / 16M\r",
      " 15% [###########                                                             ]            2M / 16M\r",
      " 15% [###########                                                             ]            2M / 16M\r",
      " 15% [###########                                                             ]            2M / 16M\r",
      " 15% [###########                                                             ]            2M / 16M\r",
      " 15% [###########                                                             ]            2M / 16M\r",
      " 15% [###########                                                             ]            2M / 16M\r",
      " 15% [###########                                                             ]            2M / 16M\r",
      " 15% [###########                                                             ]            2M / 16M\r",
      " 15% [###########                                                             ]            2M / 16M\r",
      " 15% [###########                                                             ]            2M / 16M\r",
      " 15% [###########                                                             ]            2M / 16M\r",
      " 16% [###########                                                             ]            2M / 16M\r",
      " 16% [###########                                                             ]            2M / 16M\r",
      " 16% [###########                                                             ]            2M / 16M\r",
      " 16% [###########                                                             ]            2M / 16M\r",
      " 16% [###########                                                             ]            2M / 16M\r",
      " 16% [###########                                                             ]            2M / 16M\r",
      " 16% [###########                                                             ]            2M / 16M\r",
      " 16% [###########                                                             ]            2M / 16M\r",
      " 16% [###########                                                             ]            2M / 16M\r",
      " 16% [###########                                                             ]            2M / 16M\r",
      " 16% [###########                                                             ]            2M / 16M\r",
      " 16% [###########                                                             ]            2M / 16M\r",
      " 16% [###########                                                             ]            2M / 16M\r",
      " 16% [###########                                                             ]            2M / 16M\r",
      " 16% [###########                                                             ]            2M / 16M\r",
      " 16% [############                                                            ]            2M / 16M\r",
      " 16% [############                                                            ]            2M / 16M\r",
      " 16% [############                                                            ]            2M / 16M\r",
      " 16% [############                                                            ]            2M / 16M\r",
      " 16% [############                                                            ]            2M / 16M\r",
      " 16% [############                                                            ]            2M / 16M\r",
      " 16% [############                                                            ]            2M / 16M\r",
      " 17% [############                                                            ]            2M / 16M\r",
      " 17% [############                                                            ]            2M / 16M\r",
      " 17% [############                                                            ]            2M / 16M\r",
      " 17% [############                                                            ]            2M / 16M\r",
      " 17% [############                                                            ]            2M / 16M\r",
      " 17% [############                                                            ]            2M / 16M\r",
      " 17% [############                                                            ]            2M / 16M\r",
      " 17% [############                                                            ]            2M / 16M\r",
      " 17% [############                                                            ]            2M / 16M\r",
      " 17% [############                                                            ]            2M / 16M\r",
      " 17% [############                                                            ]            2M / 16M\r",
      " 17% [############                                                            ]            2M / 16M\r",
      " 17% [############                                                            ]            2M / 16M\r",
      " 17% [############                                                            ]            2M / 16M\r",
      " 17% [############                                                            ]            2M / 16M\r",
      " 17% [############                                                            ]            2M / 16M\r",
      " 17% [############                                                            ]            2M / 16M\r",
      " 17% [############                                                            ]            2M / 16M\r",
      " 17% [############                                                            ]            3M / 16M\r",
      " 17% [############                                                            ]            3M / 16M\r",
      " 17% [############                                                            ]            3M / 16M\r",
      " 18% [############                                                            ]            3M / 16M\r",
      " 18% [############                                                            ]            3M / 16M\r",
      " 18% [#############                                                           ]            3M / 16M\r",
      " 18% [#############                                                           ]            3M / 16M\r",
      " 18% [#############                                                           ]            3M / 16M\r",
      " 18% [#############                                                           ]            3M / 16M\r",
      " 18% [#############                                                           ]            3M / 16M\r",
      " 18% [#############                                                           ]            3M / 16M\r",
      " 18% [#############                                                           ]            3M / 16M\r",
      " 18% [#############                                                           ]            3M / 16M\r",
      " 18% [#############                                                           ]            3M / 16M\r",
      " 18% [#############                                                           ]            3M / 16M\r",
      " 18% [#############                                                           ]            3M / 16M\r",
      " 18% [#############                                                           ]            3M / 16M\r",
      " 18% [#############                                                           ]            3M / 16M\r",
      " 18% [#############                                                           ]            3M / 16M\r",
      " 18% [#############                                                           ]            3M / 16M\r",
      " 18% [#############                                                           ]            3M / 16M\r",
      " 18% [#############                                                           ]            3M / 16M\r",
      " 18% [#############                                                           ]            3M / 16M\r",
      " 18% [#############                                                           ]            3M / 16M\r",
      " 18% [#############                                                           ]            3M / 16M\r",
      " 19% [#############                                                           ]            3M / 16M\r",
      " 19% [#############                                                           ]            3M / 16M\r",
      " 19% [#############                                                           ]            3M / 16M\r",
      " 19% [#############                                                           ]            3M / 16M\r",
      " 19% [#############                                                           ]            3M / 16M\r",
      " 19% [#############                                                           ]            3M / 16M\r",
      " 19% [#############                                                           ]            3M / 16M\r",
      " 19% [#############                                                           ]            3M / 16M\r",
      " 19% [#############                                                           ]            3M / 16M\r",
      " 19% [#############                                                           ]            3M / 16M\r",
      " 19% [##############                                                          ]            3M / 16M\r",
      " 19% [##############                                                          ]            3M / 16M\r",
      " 19% [##############                                                          ]            3M / 16M\r",
      " 19% [##############                                                          ]            3M / 16M\r",
      " 19% [##############                                                          ]            3M / 16M\r",
      " 19% [##############                                                          ]            3M / 16M\r",
      " 19% [##############                                                          ]            3M / 16M\r",
      " 19% [##############                                                          ]            3M / 16M\r",
      " 19% [##############                                                          ]            3M / 16M\r",
      " 19% [##############                                                          ]            3M / 16M\r",
      " 19% [##############                                                          ]            3M / 16M\r",
      " 20% [##############                                                          ]            3M / 16M\r",
      " 20% [##############                                                          ]            3M / 16M\r",
      " 20% [##############                                                          ]            3M / 16M\r",
      " 20% [##############                                                          ]            3M / 16M\r",
      " 20% [##############                                                          ]            3M / 16M\r",
      " 20% [##############                                                          ]            3M / 16M\r",
      " 20% [##############                                                          ]            3M / 16M\r",
      " 20% [##############                                                          ]            3M / 16M\r",
      " 20% [##############                                                          ]            3M / 16M\r",
      " 20% [##############                                                          ]            3M / 16M\r",
      " 20% [##############                                                          ]            3M / 16M\r",
      " 20% [##############                                                          ]            3M / 16M\r",
      " 20% [##############                                                          ]            3M / 16M\r",
      " 20% [##############                                                          ]            3M / 16M\r",
      " 20% [##############                                                          ]            3M / 16M\r",
      " 20% [##############                                                          ]            3M / 16M\r",
      " 20% [##############                                                          ]            3M / 16M\r",
      " 20% [##############                                                          ]            3M / 16M\r",
      " 20% [###############                                                         ]            3M / 16M\r",
      " 20% [###############                                                         ]            3M / 16M\r",
      " 20% [###############                                                         ]            3M / 16M\r",
      " 20% [###############                                                         ]            3M / 16M\r",
      " 21% [###############                                                         ]            3M / 16M\r",
      " 21% [###############                                                         ]            3M / 16M\r",
      " 21% [###############                                                         ]            3M / 16M\r",
      " 21% [###############                                                         ]            3M / 16M\r",
      " 21% [###############                                                         ]            3M / 16M\r",
      " 21% [###############                                                         ]            3M / 16M\r",
      " 21% [###############                                                         ]            3M / 16M\r",
      " 21% [###############                                                         ]            3M / 16M\r",
      " 21% [###############                                                         ]            3M / 16M\r",
      " 21% [###############                                                         ]            3M / 16M\r",
      " 21% [###############                                                         ]            3M / 16M\r",
      " 21% [###############                                                         ]            3M / 16M\r",
      " 21% [###############                                                         ]            3M / 16M\r",
      " 21% [###############                                                         ]            3M / 16M\r",
      " 21% [###############                                                         ]            3M / 16M\r",
      " 21% [###############                                                         ]            3M / 16M\r",
      " 21% [###############                                                         ]            3M / 16M\r",
      " 21% [###############                                                         ]            3M / 16M\r",
      " 21% [###############                                                         ]            3M / 16M\r",
      " 21% [###############                                                         ]            3M / 16M\r",
      " 21% [###############                                                         ]            3M / 16M\r",
      " 22% [###############                                                         ]            3M / 16M\r",
      " 22% [###############                                                         ]            3M / 16M\r",
      " 22% [###############                                                         ]            3M / 16M\r",
      " 22% [###############                                                         ]            3M / 16M\r",
      " 22% [###############                                                         ]            3M / 16M\r",
      " 22% [################                                                        ]            3M / 16M\r",
      " 22% [################                                                        ]            3M / 16M\r",
      " 22% [################                                                        ]            3M / 16M\r",
      " 22% [################                                                        ]            3M / 16M\r",
      " 22% [################                                                        ]            3M / 16M\r",
      " 22% [################                                                        ]            3M / 16M\r",
      " 22% [################                                                        ]            3M / 16M\r",
      " 22% [################                                                        ]            3M / 16M\r",
      " 22% [################                                                        ]            3M / 16M\r",
      " 22% [################                                                        ]            3M / 16M\r",
      " 22% [################                                                        ]            3M / 16M\r",
      " 22% [################                                                        ]            3M / 16M\r",
      " 22% [################                                                        ]            3M / 16M\r",
      " 22% [################                                                        ]            3M / 16M\r",
      " 22% [################                                                        ]            3M / 16M\r",
      " 22% [################                                                        ]            3M / 16M"
     ]
    },
    {
     "name": "stdout",
     "output_type": "stream",
     "text": [
      "\r",
      " 22% [################                                                        ]            3M / 16M\r",
      " 23% [################                                                        ]            3M / 16M\r",
      " 23% [################                                                        ]            3M / 16M\r",
      " 23% [################                                                        ]            3M / 16M\r",
      " 23% [################                                                        ]            3M / 16M\r",
      " 23% [################                                                        ]            3M / 16M\r",
      " 23% [################                                                        ]            3M / 16M\r",
      " 23% [################                                                        ]            3M / 16M\r",
      " 23% [################                                                        ]            3M / 16M\r",
      " 23% [################                                                        ]            3M / 16M\r",
      " 23% [################                                                        ]            3M / 16M\r",
      " 23% [################                                                        ]            3M / 16M\r",
      " 23% [################                                                        ]            3M / 16M\r",
      " 23% [################                                                        ]            3M / 16M\r",
      " 23% [#################                                                       ]            3M / 16M\r",
      " 23% [#################                                                       ]            3M / 16M\r",
      " 23% [#################                                                       ]            3M / 16M\r",
      " 23% [#################                                                       ]            3M / 16M\r",
      " 23% [#################                                                       ]            4M / 16M\r",
      " 23% [#################                                                       ]            4M / 16M\r",
      " 23% [#################                                                       ]            4M / 16M\r",
      " 23% [#################                                                       ]            4M / 16M\r",
      " 24% [#################                                                       ]            4M / 16M\r",
      " 24% [#################                                                       ]            4M / 16M\r",
      " 24% [#################                                                       ]            4M / 16M\r",
      " 24% [#################                                                       ]            4M / 16M\r",
      " 24% [#################                                                       ]            4M / 16M\r",
      " 24% [#################                                                       ]            4M / 16M\r",
      " 24% [#################                                                       ]            4M / 16M\r",
      " 24% [#################                                                       ]            4M / 16M\r",
      " 24% [#################                                                       ]            4M / 16M\r",
      " 24% [#################                                                       ]            4M / 16M\r",
      " 24% [#################                                                       ]            4M / 16M\r",
      " 24% [#################                                                       ]            4M / 16M\r",
      " 24% [#################                                                       ]            4M / 16M\r",
      " 24% [#################                                                       ]            4M / 16M\r",
      " 24% [#################                                                       ]            4M / 16M\r",
      " 24% [#################                                                       ]            4M / 16M\r",
      " 24% [#################                                                       ]            4M / 16M\r",
      " 24% [#################                                                       ]            4M / 16M\r",
      " 24% [#################                                                       ]            4M / 16M\r",
      " 24% [#################                                                       ]            4M / 16M\r",
      " 24% [#################                                                       ]            4M / 16M\r",
      " 24% [#################                                                       ]            4M / 16M\r",
      " 25% [##################                                                      ]            4M / 16M\r",
      " 25% [##################                                                      ]            4M / 16M\r",
      " 25% [##################                                                      ]            4M / 16M\r",
      " 25% [##################                                                      ]            4M / 16M\r",
      " 25% [##################                                                      ]            4M / 16M\r",
      " 25% [##################                                                      ]            4M / 16M\r",
      " 25% [##################                                                      ]            4M / 16M\r",
      " 25% [##################                                                      ]            4M / 16M\r",
      " 25% [##################                                                      ]            4M / 16M\r",
      " 25% [##################                                                      ]            4M / 16M\r",
      " 25% [##################                                                      ]            4M / 16M\r",
      " 25% [##################                                                      ]            4M / 16M\r",
      " 25% [##################                                                      ]            4M / 16M\r",
      " 25% [##################                                                      ]            4M / 16M\r",
      " 25% [##################                                                      ]            4M / 16M\r",
      " 25% [##################                                                      ]            4M / 16M\r",
      " 25% [##################                                                      ]            4M / 16M\r",
      " 25% [##################                                                      ]            4M / 16M\r",
      " 25% [##################                                                      ]            4M / 16M\r",
      " 25% [##################                                                      ]            4M / 16M\r",
      " 25% [##################                                                      ]            4M / 16M\r",
      " 26% [##################                                                      ]            4M / 16M\r",
      " 26% [##################                                                      ]            4M / 16M\r",
      " 26% [##################                                                      ]            4M / 16M\r",
      " 26% [##################                                                      ]            4M / 16M\r",
      " 26% [##################                                                      ]            4M / 16M\r",
      " 26% [##################                                                      ]            4M / 16M\r",
      " 26% [##################                                                      ]            4M / 16M\r",
      " 26% [##################                                                      ]            4M / 16M\r",
      " 26% [##################                                                      ]            4M / 16M\r",
      " 26% [###################                                                     ]            4M / 16M\r",
      " 26% [###################                                                     ]            4M / 16M\r",
      " 26% [###################                                                     ]            4M / 16M\r",
      " 26% [###################                                                     ]            4M / 16M\r",
      " 26% [###################                                                     ]            4M / 16M\r",
      " 26% [###################                                                     ]            4M / 16M\r",
      " 26% [###################                                                     ]            4M / 16M\r",
      " 26% [###################                                                     ]            4M / 16M\r",
      " 26% [###################                                                     ]            4M / 16M\r",
      " 26% [###################                                                     ]            4M / 16M\r",
      " 26% [###################                                                     ]            4M / 16M\r",
      " 26% [###################                                                     ]            4M / 16M\r",
      " 26% [###################                                                     ]            4M / 16M\r",
      " 27% [###################                                                     ]            4M / 16M\r",
      " 27% [###################                                                     ]            4M / 16M\r",
      " 27% [###################                                                     ]            4M / 16M\r",
      " 27% [###################                                                     ]            4M / 16M\r",
      " 27% [###################                                                     ]            4M / 16M\r",
      " 27% [###################                                                     ]            4M / 16M\r",
      " 27% [###################                                                     ]            4M / 16M\r",
      " 27% [###################                                                     ]            4M / 16M\r",
      " 27% [###################                                                     ]            4M / 16M\r",
      " 27% [###################                                                     ]            4M / 16M\r",
      " 27% [###################                                                     ]            4M / 16M\r",
      " 27% [###################                                                     ]            4M / 16M\r",
      " 27% [###################                                                     ]            4M / 16M\r",
      " 27% [###################                                                     ]            4M / 16M\r",
      " 27% [###################                                                     ]            4M / 16M\r",
      " 27% [###################                                                     ]            4M / 16M\r",
      " 27% [###################                                                     ]            4M / 16M\r",
      " 27% [####################                                                    ]            4M / 16M\r",
      " 27% [####################                                                    ]            4M / 16M\r",
      " 27% [####################                                                    ]            4M / 16M\r",
      " 27% [####################                                                    ]            4M / 16M\r",
      " 28% [####################                                                    ]            4M / 16M\r",
      " 28% [####################                                                    ]            4M / 16M\r",
      " 28% [####################                                                    ]            4M / 16M\r",
      " 28% [####################                                                    ]            4M / 16M\r",
      " 28% [####################                                                    ]            4M / 16M\r",
      " 28% [####################                                                    ]            4M / 16M\r",
      " 28% [####################                                                    ]            4M / 16M\r",
      " 28% [####################                                                    ]            4M / 16M\r",
      " 28% [####################                                                    ]            4M / 16M\r",
      " 28% [####################                                                    ]            4M / 16M\r",
      " 28% [####################                                                    ]            4M / 16M\r",
      " 28% [####################                                                    ]            4M / 16M\r",
      " 28% [####################                                                    ]            4M / 16M\r",
      " 28% [####################                                                    ]            4M / 16M\r",
      " 28% [####################                                                    ]            4M / 16M\r",
      " 28% [####################                                                    ]            4M / 16M\r",
      " 28% [####################                                                    ]            4M / 16M\r",
      " 28% [####################                                                    ]            4M / 16M\r",
      " 28% [####################                                                    ]            4M / 16M\r",
      " 28% [####################                                                    ]            4M / 16M\r",
      " 28% [####################                                                    ]            4M / 16M\r",
      " 28% [####################                                                    ]            4M / 16M\r",
      " 29% [####################                                                    ]            4M / 16M\r",
      " 29% [####################                                                    ]            4M / 16M\r",
      " 29% [####################                                                    ]            4M / 16M\r",
      " 29% [####################                                                    ]            4M / 16M\r",
      " 29% [#####################                                                   ]            4M / 16M\r",
      " 29% [#####################                                                   ]            4M / 16M\r",
      " 29% [#####################                                                   ]            4M / 16M\r",
      " 29% [#####################                                                   ]            4M / 16M\r",
      " 29% [#####################                                                   ]            4M / 16M\r",
      " 29% [#####################                                                   ]            4M / 16M\r",
      " 29% [#####################                                                   ]            4M / 16M\r",
      " 29% [#####################                                                   ]            4M / 16M\r",
      " 29% [#####################                                                   ]            4M / 16M\r",
      " 29% [#####################                                                   ]            4M / 16M\r",
      " 29% [#####################                                                   ]            4M / 16M\r",
      " 29% [#####################                                                   ]            4M / 16M\r",
      " 29% [#####################                                                   ]            5M / 16M\r",
      " 29% [#####################                                                   ]            5M / 16M\r",
      " 29% [#####################                                                   ]            5M / 16M\r",
      " 29% [#####################                                                   ]            5M / 16M\r",
      " 29% [#####################                                                   ]            5M / 16M\r",
      " 30% [#####################                                                   ]            5M / 16M\r",
      " 30% [#####################                                                   ]            5M / 16M\r",
      " 30% [#####################                                                   ]            5M / 16M\r",
      " 30% [#####################                                                   ]            5M / 16M\r",
      " 30% [#####################                                                   ]            5M / 16M\r",
      " 30% [#####################                                                   ]            5M / 16M\r",
      " 30% [#####################                                                   ]            5M / 16M"
     ]
    },
    {
     "name": "stdout",
     "output_type": "stream",
     "text": [
      "\r",
      " 30% [#####################                                                   ]            5M / 16M\r",
      " 30% [#####################                                                   ]            5M / 16M\r",
      " 30% [#####################                                                   ]            5M / 16M\r",
      " 30% [#####################                                                   ]            5M / 16M\r",
      " 30% [#####################                                                   ]            5M / 16M\r",
      " 30% [######################                                                  ]            5M / 16M\r",
      " 30% [######################                                                  ]            5M / 16M\r",
      " 30% [######################                                                  ]            5M / 16M\r",
      " 30% [######################                                                  ]            5M / 16M\r",
      " 30% [######################                                                  ]            5M / 16M\r",
      " 30% [######################                                                  ]            5M / 16M\r",
      " 30% [######################                                                  ]            5M / 16M\r",
      " 30% [######################                                                  ]            5M / 16M\r",
      " 30% [######################                                                  ]            5M / 16M\r",
      " 30% [######################                                                  ]            5M / 16M\r",
      " 31% [######################                                                  ]            5M / 16M\r",
      " 31% [######################                                                  ]            5M / 16M\r",
      " 31% [######################                                                  ]            5M / 16M\r",
      " 31% [######################                                                  ]            5M / 16M\r",
      " 31% [######################                                                  ]            5M / 16M\r",
      " 31% [######################                                                  ]            5M / 16M\r",
      " 31% [######################                                                  ]            5M / 16M\r",
      " 31% [######################                                                  ]            5M / 16M\r",
      " 31% [######################                                                  ]            5M / 16M\r",
      " 31% [######################                                                  ]            5M / 16M\r",
      " 31% [######################                                                  ]            5M / 16M\r",
      " 31% [######################                                                  ]            5M / 16M\r",
      " 31% [######################                                                  ]            5M / 16M\r",
      " 31% [######################                                                  ]            5M / 16M\r",
      " 31% [######################                                                  ]            5M / 16M\r",
      " 31% [######################                                                  ]            5M / 16M\r",
      " 31% [######################                                                  ]            5M / 16M\r",
      " 31% [######################                                                  ]            5M / 16M\r",
      " 31% [######################                                                  ]            5M / 16M\r",
      " 31% [######################                                                  ]            5M / 16M\r",
      " 31% [#######################                                                 ]            5M / 16M\r",
      " 32% [#######################                                                 ]            5M / 16M\r",
      " 32% [#######################                                                 ]            5M / 16M\r",
      " 32% [#######################                                                 ]            5M / 16M\r",
      " 32% [#######################                                                 ]            5M / 16M\r",
      " 32% [#######################                                                 ]            5M / 16M\r",
      " 32% [#######################                                                 ]            5M / 16M\r",
      " 32% [#######################                                                 ]            5M / 16M\r",
      " 32% [#######################                                                 ]            5M / 16M\r",
      " 32% [#######################                                                 ]            5M / 16M\r",
      " 32% [#######################                                                 ]            5M / 16M\r",
      " 32% [#######################                                                 ]            5M / 16M\r",
      " 32% [#######################                                                 ]            5M / 16M\r",
      " 32% [#######################                                                 ]            5M / 16M\r",
      " 32% [#######################                                                 ]            5M / 16M\r",
      " 32% [#######################                                                 ]            5M / 16M\r",
      " 32% [#######################                                                 ]            5M / 16M\r",
      " 32% [#######################                                                 ]            5M / 16M\r",
      " 32% [#######################                                                 ]            5M / 16M\r",
      " 32% [#######################                                                 ]            5M / 16M\r",
      " 32% [#######################                                                 ]            5M / 16M\r",
      " 32% [#######################                                                 ]            5M / 16M\r",
      " 32% [#######################                                                 ]            5M / 16M\r",
      " 33% [#######################                                                 ]            5M / 16M\r",
      " 33% [#######################                                                 ]            5M / 16M\r",
      " 33% [#######################                                                 ]            5M / 16M\r",
      " 33% [#######################                                                 ]            5M / 16M\r",
      " 33% [#######################                                                 ]            5M / 16M\r",
      " 33% [#######################                                                 ]            5M / 16M\r",
      " 33% [#######################                                                 ]            5M / 16M\r",
      " 33% [########################                                                ]            5M / 16M\r",
      " 33% [########################                                                ]            5M / 16M\r",
      " 33% [########################                                                ]            5M / 16M\r",
      " 33% [########################                                                ]            5M / 16M\r",
      " 33% [########################                                                ]            5M / 16M\r",
      " 33% [########################                                                ]            5M / 16M\r",
      " 33% [########################                                                ]            5M / 16M\r",
      " 33% [########################                                                ]            5M / 16M\r",
      " 33% [########################                                                ]            5M / 16M\r",
      " 33% [########################                                                ]            5M / 16M\r",
      " 33% [########################                                                ]            5M / 16M\r",
      " 33% [########################                                                ]            5M / 16M\r",
      " 33% [########################                                                ]            5M / 16M\r",
      " 33% [########################                                                ]            5M / 16M\r",
      " 34% [########################                                                ]            5M / 16M\r",
      " 34% [########################                                                ]            5M / 16M\r",
      " 34% [########################                                                ]            5M / 16M\r",
      " 34% [########################                                                ]            5M / 16M\r",
      " 34% [########################                                                ]            5M / 16M\r",
      " 34% [########################                                                ]            5M / 16M\r",
      " 34% [########################                                                ]            5M / 16M\r",
      " 34% [########################                                                ]            5M / 16M\r",
      " 34% [########################                                                ]            5M / 16M\r",
      " 34% [########################                                                ]            5M / 16M\r",
      " 34% [########################                                                ]            5M / 16M\r",
      " 34% [########################                                                ]            5M / 16M\r",
      " 34% [########################                                                ]            5M / 16M\r",
      " 34% [########################                                                ]            5M / 16M\r",
      " 34% [########################                                                ]            5M / 16M\r",
      " 34% [########################                                                ]            5M / 16M\r",
      " 34% [#########################                                               ]            5M / 16M\r",
      " 34% [#########################                                               ]            5M / 16M\r",
      " 34% [#########################                                               ]            5M / 16M\r",
      " 34% [#########################                                               ]            5M / 16M\r",
      " 34% [#########################                                               ]            5M / 16M\r",
      " 34% [#########################                                               ]            5M / 16M\r",
      " 35% [#########################                                               ]            5M / 16M\r",
      " 35% [#########################                                               ]            5M / 16M\r",
      " 35% [#########################                                               ]            5M / 16M\r",
      " 35% [#########################                                               ]            5M / 16M\r",
      " 35% [#########################                                               ]            5M / 16M\r",
      " 35% [#########################                                               ]            5M / 16M\r",
      " 35% [#########################                                               ]            5M / 16M\r",
      " 35% [#########################                                               ]            5M / 16M\r",
      " 35% [#########################                                               ]            5M / 16M\r",
      " 35% [#########################                                               ]            5M / 16M\r",
      " 35% [#########################                                               ]            5M / 16M\r",
      " 35% [#########################                                               ]            5M / 16M\r",
      " 35% [#########################                                               ]            5M / 16M\r",
      " 35% [#########################                                               ]            5M / 16M\r",
      " 35% [#########################                                               ]            5M / 16M\r",
      " 35% [#########################                                               ]            6M / 16M\r",
      " 35% [#########################                                               ]            6M / 16M\r",
      " 35% [#########################                                               ]            6M / 16M\r",
      " 35% [#########################                                               ]            6M / 16M\r",
      " 35% [#########################                                               ]            6M / 16M\r",
      " 35% [#########################                                               ]            6M / 16M\r",
      " 36% [#########################                                               ]            6M / 16M\r",
      " 36% [#########################                                               ]            6M / 16M\r",
      " 36% [#########################                                               ]            6M / 16M\r",
      " 36% [##########################                                              ]            6M / 16M\r",
      " 36% [##########################                                              ]            6M / 16M\r",
      " 36% [##########################                                              ]            6M / 16M\r",
      " 36% [##########################                                              ]            6M / 16M\r",
      " 36% [##########################                                              ]            6M / 16M\r",
      " 36% [##########################                                              ]            6M / 16M\r",
      " 36% [##########################                                              ]            6M / 16M\r",
      " 36% [##########################                                              ]            6M / 16M\r",
      " 36% [##########################                                              ]            6M / 16M\r",
      " 36% [##########################                                              ]            6M / 16M\r",
      " 36% [##########################                                              ]            6M / 16M\r",
      " 36% [##########################                                              ]            6M / 16M\r",
      " 36% [##########################                                              ]            6M / 16M\r",
      " 36% [##########################                                              ]            6M / 16M\r",
      " 36% [##########################                                              ]            6M / 16M\r",
      " 36% [##########################                                              ]            6M / 16M\r",
      " 36% [##########################                                              ]            6M / 16M\r",
      " 36% [##########################                                              ]            6M / 16M\r",
      " 36% [##########################                                              ]            6M / 16M\r",
      " 37% [##########################                                              ]            6M / 16M\r",
      " 37% [##########################                                              ]            6M / 16M\r",
      " 37% [##########################                                              ]            6M / 16M\r",
      " 37% [##########################                                              ]            6M / 16M\r",
      " 37% [##########################                                              ]            6M / 16M\r",
      " 37% [##########################                                              ]            6M / 16M\r",
      " 37% [##########################                                              ]            6M / 16M\r",
      " 37% [##########################                                              ]            6M / 16M\r",
      " 37% [##########################                                              ]            6M / 16M\r",
      " 37% [##########################                                              ]            6M / 16M\r",
      " 37% [##########################                                              ]            6M / 16M\r",
      " 37% [###########################                                             ]            6M / 16M\r",
      " 37% [###########################                                             ]            6M / 16M\r",
      " 37% [###########################                                             ]            6M / 16M\r",
      " 37% [###########################                                             ]            6M / 16M\r",
      " 37% [###########################                                             ]            6M / 16M\r",
      " 37% [###########################                                             ]            6M / 16M\r",
      " 37% [###########################                                             ]            6M / 16M\r",
      " 37% [###########################                                             ]            6M / 16M\r",
      " 37% [###########################                                             ]            6M / 16M\r",
      " 37% [###########################                                             ]            6M / 16M\r",
      " 38% [###########################                                             ]            6M / 16M\r",
      " 38% [###########################                                             ]            6M / 16M\r",
      " 38% [###########################                                             ]            6M / 16M\r",
      " 38% [###########################                                             ]            6M / 16M\r",
      " 38% [###########################                                             ]            6M / 16M\r",
      " 38% [###########################                                             ]            6M / 16M\r",
      " 38% [###########################                                             ]            6M / 16M\r",
      " 38% [###########################                                             ]            6M / 16M\r",
      " 38% [###########################                                             ]            6M / 16M\r",
      " 38% [###########################                                             ]            6M / 16M\r",
      " 38% [###########################                                             ]            6M / 16M\r",
      " 38% [###########################                                             ]            6M / 16M\r",
      " 38% [###########################                                             ]            6M / 16M\r",
      " 38% [###########################                                             ]            6M / 16M\r",
      " 38% [###########################                                             ]            6M / 16M\r",
      " 38% [###########################                                             ]            6M / 16M\r",
      " 38% [###########################                                             ]            6M / 16M\r",
      " 38% [###########################                                             ]            6M / 16M\r",
      " 38% [###########################                                             ]            6M / 16M\r",
      " 38% [###########################                                             ]            6M / 16M\r",
      " 38% [############################                                            ]            6M / 16M\r",
      " 38% [############################                                            ]            6M / 16M\r",
      " 39% [############################                                            ]            6M / 16M\r",
      " 39% [############################                                            ]            6M / 16M\r",
      " 39% [############################                                            ]            6M / 16M\r",
      " 39% [############################                                            ]            6M / 16M\r",
      " 39% [############################                                            ]            6M / 16M\r",
      " 39% [############################                                            ]            6M / 16M\r",
      " 39% [############################                                            ]            6M / 16M\r",
      " 39% [############################                                            ]            6M / 16M\r",
      " 39% [############################                                            ]            6M / 16M\r",
      " 39% [############################                                            ]            6M / 16M\r",
      " 39% [############################                                            ]            6M / 16M\r",
      " 39% [############################                                            ]            6M / 16M\r",
      " 39% [############################                                            ]            6M / 16M\r",
      " 39% [############################                                            ]            6M / 16M\r",
      " 39% [############################                                            ]            6M / 16M\r",
      " 39% [############################                                            ]            6M / 16M\r",
      " 39% [############################                                            ]            6M / 16M\r",
      " 39% [############################                                            ]            6M / 16M\r",
      " 39% [############################                                            ]            6M / 16M\r",
      " 39% [############################                                            ]            6M / 16M\r",
      " 39% [############################                                            ]            6M / 16M\r",
      " 40% [############################                                            ]            6M / 16M\r",
      " 40% [############################                                            ]            6M / 16M\r",
      " 40% [############################                                            ]            6M / 16M\r",
      " 40% [############################                                            ]            6M / 16M"
     ]
    },
    {
     "name": "stdout",
     "output_type": "stream",
     "text": [
      "\r",
      " 40% [############################                                            ]            6M / 16M\r",
      " 40% [############################                                            ]            6M / 16M\r",
      " 40% [#############################                                           ]            6M / 16M\r",
      " 40% [#############################                                           ]            6M / 16M\r",
      " 40% [#############################                                           ]            6M / 16M\r",
      " 40% [#############################                                           ]            6M / 16M\r",
      " 40% [#############################                                           ]            6M / 16M\r",
      " 40% [#############################                                           ]            6M / 16M\r",
      " 40% [#############################                                           ]            6M / 16M\r",
      " 40% [#############################                                           ]            6M / 16M\r",
      " 40% [#############################                                           ]            6M / 16M\r",
      " 40% [#############################                                           ]            6M / 16M\r",
      " 40% [#############################                                           ]            6M / 16M\r",
      " 40% [#############################                                           ]            6M / 16M\r",
      " 40% [#############################                                           ]            6M / 16M\r",
      " 40% [#############################                                           ]            6M / 16M\r",
      " 40% [#############################                                           ]            6M / 16M\r",
      " 40% [#############################                                           ]            6M / 16M\r",
      " 41% [#############################                                           ]            6M / 16M\r",
      " 41% [#############################                                           ]            6M / 16M\r",
      " 41% [#############################                                           ]            6M / 16M\r",
      " 41% [#############################                                           ]            6M / 16M\r",
      " 41% [#############################                                           ]            6M / 16M\r",
      " 41% [#############################                                           ]            6M / 16M\r",
      " 41% [#############################                                           ]            6M / 16M\r",
      " 41% [#############################                                           ]            6M / 16M\r",
      " 41% [#############################                                           ]            6M / 16M\r",
      " 41% [#############################                                           ]            6M / 16M\r",
      " 41% [#############################                                           ]            6M / 16M\r",
      " 41% [#############################                                           ]            6M / 16M\r",
      " 41% [#############################                                           ]            6M / 16M\r",
      " 41% [#############################                                           ]            6M / 16M\r",
      " 41% [##############################                                          ]            7M / 16M\r",
      " 41% [##############################                                          ]            7M / 16M\r",
      " 41% [##############################                                          ]            7M / 16M\r",
      " 41% [##############################                                          ]            7M / 16M\r",
      " 41% [##############################                                          ]            7M / 16M\r",
      " 41% [##############################                                          ]            7M / 16M\r",
      " 41% [##############################                                          ]            7M / 16M\r",
      " 42% [##############################                                          ]            7M / 16M\r",
      " 42% [##############################                                          ]            7M / 16M\r",
      " 42% [##############################                                          ]            7M / 16M\r",
      " 42% [##############################                                          ]            7M / 16M\r",
      " 42% [##############################                                          ]            7M / 16M\r",
      " 42% [##############################                                          ]            7M / 16M\r",
      " 42% [##############################                                          ]            7M / 16M\r",
      " 42% [##############################                                          ]            7M / 16M\r",
      " 42% [##############################                                          ]            7M / 16M\r",
      " 42% [##############################                                          ]            7M / 16M\r",
      " 42% [##############################                                          ]            7M / 16M\r",
      " 42% [##############################                                          ]            7M / 16M\r",
      " 42% [##############################                                          ]            7M / 16M\r",
      " 42% [##############################                                          ]            7M / 16M\r",
      " 42% [##############################                                          ]            7M / 16M\r",
      " 42% [##############################                                          ]            7M / 16M\r",
      " 42% [##############################                                          ]            7M / 16M\r",
      " 42% [##############################                                          ]            7M / 16M\r",
      " 42% [##############################                                          ]            7M / 16M\r",
      " 42% [##############################                                          ]            7M / 16M\r",
      " 42% [##############################                                          ]            7M / 16M\r",
      " 42% [##############################                                          ]            7M / 16M\r",
      " 43% [##############################                                          ]            7M / 16M\r",
      " 43% [###############################                                         ]            7M / 16M\r",
      " 43% [###############################                                         ]            7M / 16M\r",
      " 43% [###############################                                         ]            7M / 16M\r",
      " 43% [###############################                                         ]            7M / 16M\r",
      " 43% [###############################                                         ]            7M / 16M\r",
      " 43% [###############################                                         ]            7M / 16M\r",
      " 43% [###############################                                         ]            7M / 16M\r",
      " 43% [###############################                                         ]            7M / 16M\r",
      " 43% [###############################                                         ]            7M / 16M\r",
      " 43% [###############################                                         ]            7M / 16M\r",
      " 43% [###############################                                         ]            7M / 16M\r",
      " 43% [###############################                                         ]            7M / 16M\r",
      " 43% [###############################                                         ]            7M / 16M\r",
      " 43% [###############################                                         ]            7M / 16M\r",
      " 43% [###############################                                         ]            7M / 16M\r",
      " 43% [###############################                                         ]            7M / 16M\r",
      " 43% [###############################                                         ]            7M / 16M\r",
      " 43% [###############################                                         ]            7M / 16M\r",
      " 43% [###############################                                         ]            7M / 16M\r",
      " 43% [###############################                                         ]            7M / 16M\r",
      " 44% [###############################                                         ]            7M / 16M\r",
      " 44% [###############################                                         ]            7M / 16M\r",
      " 44% [###############################                                         ]            7M / 16M\r",
      " 44% [###############################                                         ]            7M / 16M\r",
      " 44% [###############################                                         ]            7M / 16M\r",
      " 44% [###############################                                         ]            7M / 16M\r",
      " 44% [###############################                                         ]            7M / 16M\r",
      " 44% [###############################                                         ]            7M / 16M\r",
      " 44% [###############################                                         ]            7M / 16M\r",
      " 44% [###############################                                         ]            7M / 16M\r",
      " 44% [################################                                        ]            7M / 16M\r",
      " 44% [################################                                        ]            7M / 16M\r",
      " 44% [################################                                        ]            7M / 16M\r",
      " 44% [################################                                        ]            7M / 16M\r",
      " 44% [################################                                        ]            7M / 16M\r",
      " 44% [################################                                        ]            7M / 16M\r",
      " 44% [################################                                        ]            7M / 16M\r",
      " 44% [################################                                        ]            7M / 16M\r",
      " 44% [################################                                        ]            7M / 16M\r",
      " 44% [################################                                        ]            7M / 16M\r",
      " 44% [################################                                        ]            7M / 16M\r",
      " 44% [################################                                        ]            7M / 16M\r",
      " 45% [################################                                        ]            7M / 16M\r",
      " 45% [################################                                        ]            7M / 16M\r",
      " 45% [################################                                        ]            7M / 16M\r",
      " 45% [################################                                        ]            7M / 16M\r",
      " 45% [################################                                        ]            7M / 16M\r",
      " 45% [################################                                        ]            7M / 16M\r",
      " 45% [################################                                        ]            7M / 16M\r",
      " 45% [################################                                        ]            7M / 16M\r",
      " 45% [################################                                        ]            7M / 16M\r",
      " 45% [################################                                        ]            7M / 16M\r",
      " 45% [################################                                        ]            7M / 16M\r",
      " 45% [################################                                        ]            7M / 16M\r",
      " 45% [################################                                        ]            7M / 16M\r",
      " 45% [################################                                        ]            7M / 16M\r",
      " 45% [################################                                        ]            7M / 16M\r",
      " 45% [################################                                        ]            7M / 16M\r",
      " 45% [################################                                        ]            7M / 16M\r",
      " 45% [################################                                        ]            7M / 16M\r",
      " 45% [#################################                                       ]            7M / 16M\r",
      " 45% [#################################                                       ]            7M / 16M\r",
      " 45% [#################################                                       ]            7M / 16M\r",
      " 46% [#################################                                       ]            7M / 16M\r",
      " 46% [#################################                                       ]            7M / 16M\r",
      " 46% [#################################                                       ]            7M / 16M\r",
      " 46% [#################################                                       ]            7M / 16M\r",
      " 46% [#################################                                       ]            7M / 16M\r",
      " 46% [#################################                                       ]            7M / 16M\r",
      " 46% [#################################                                       ]            7M / 16M\r",
      " 46% [#################################                                       ]            7M / 16M\r",
      " 46% [#################################                                       ]            7M / 16M"
     ]
    },
    {
     "name": "stdout",
     "output_type": "stream",
     "text": [
      "\r",
      " 46% [#################################                                       ]            7M / 16M\r",
      " 46% [#################################                                       ]            7M / 16M\r",
      " 46% [#################################                                       ]            7M / 16M\r",
      " 46% [#################################                                       ]            7M / 16M\r",
      " 46% [#################################                                       ]            7M / 16M\r",
      " 46% [#################################                                       ]            7M / 16M\r",
      " 46% [#################################                                       ]            7M / 16M\r",
      " 46% [#################################                                       ]            7M / 16M\r",
      " 46% [#################################                                       ]            7M / 16M\r",
      " 46% [#################################                                       ]            7M / 16M\r",
      " 46% [#################################                                       ]            7M / 16M\r",
      " 46% [#################################                                       ]            7M / 16M\r",
      " 46% [#################################                                       ]            7M / 16M\r",
      " 47% [#################################                                       ]            7M / 16M\r",
      " 47% [#################################                                       ]            7M / 16M\r",
      " 47% [#################################                                       ]            7M / 16M\r",
      " 47% [#################################                                       ]            7M / 16M\r",
      " 47% [#################################                                       ]            7M / 16M\r",
      " 47% [##################################                                      ]            7M / 16M\r",
      " 47% [##################################                                      ]            7M / 16M\r",
      " 47% [##################################                                      ]            7M / 16M\r",
      " 47% [##################################                                      ]            7M / 16M\r",
      " 47% [##################################                                      ]            7M / 16M\r",
      " 47% [##################################                                      ]            7M / 16M\r",
      " 47% [##################################                                      ]            7M / 16M\r",
      " 47% [##################################                                      ]            7M / 16M\r",
      " 47% [##################################                                      ]            8M / 16M\r",
      " 47% [##################################                                      ]            8M / 16M\r",
      " 47% [##################################                                      ]            8M / 16M\r",
      " 47% [##################################                                      ]            8M / 16M\r",
      " 47% [##################################                                      ]            8M / 16M\r",
      " 47% [##################################                                      ]            8M / 16M\r",
      " 47% [##################################                                      ]            8M / 16M\r",
      " 47% [##################################                                      ]            8M / 16M\r",
      " 48% [##################################                                      ]            8M / 16M\r",
      " 48% [##################################                                      ]            8M / 16M\r",
      " 48% [##################################                                      ]            8M / 16M\r",
      " 48% [##################################                                      ]            8M / 16M\r",
      " 48% [##################################                                      ]            8M / 16M\r",
      " 48% [##################################                                      ]            8M / 16M\r",
      " 48% [##################################                                      ]            8M / 16M\r",
      " 48% [##################################                                      ]            8M / 16M\r",
      " 48% [##################################                                      ]            8M / 16M\r",
      " 48% [##################################                                      ]            8M / 16M\r",
      " 48% [##################################                                      ]            8M / 16M\r",
      " 48% [##################################                                      ]            8M / 16M\r",
      " 48% [##################################                                      ]            8M / 16M\r",
      " 48% [##################################                                      ]            8M / 16M\r",
      " 48% [###################################                                     ]            8M / 16M\r",
      " 48% [###################################                                     ]            8M / 16M\r",
      " 48% [###################################                                     ]            8M / 16M\r",
      " 48% [###################################                                     ]            8M / 16M\r",
      " 48% [###################################                                     ]            8M / 16M\r",
      " 48% [###################################                                     ]            8M / 16M\r",
      " 48% [###################################                                     ]            8M / 16M\r",
      " 48% [###################################                                     ]            8M / 16M\r",
      " 49% [###################################                                     ]            8M / 16M\r",
      " 49% [###################################                                     ]            8M / 16M\r",
      " 49% [###################################                                     ]            8M / 16M\r",
      " 49% [###################################                                     ]            8M / 16M\r",
      " 49% [###################################                                     ]            8M / 16M\r",
      " 49% [###################################                                     ]            8M / 16M\r",
      " 49% [###################################                                     ]            8M / 16M\r",
      " 49% [###################################                                     ]            8M / 16M\r",
      " 49% [###################################                                     ]            8M / 16M\r",
      " 49% [###################################                                     ]            8M / 16M\r",
      " 49% [###################################                                     ]            8M / 16M\r",
      " 49% [###################################                                     ]            8M / 16M\r",
      " 49% [###################################                                     ]            8M / 16M\r",
      " 49% [###################################                                     ]            8M / 16M\r",
      " 49% [###################################                                     ]            8M / 16M\r",
      " 49% [###################################                                     ]            8M / 16M\r",
      " 49% [###################################                                     ]            8M / 16M\r",
      " 49% [###################################                                     ]            8M / 16M\r",
      " 49% [###################################                                     ]            8M / 16M\r",
      " 49% [###################################                                     ]            8M / 16M\r",
      " 49% [###################################                                     ]            8M / 16M\r",
      " 50% [####################################                                    ]            8M / 16M\r",
      " 50% [####################################                                    ]            8M / 16M\r",
      " 50% [####################################                                    ]            8M / 16M\r",
      " 50% [####################################                                    ]            8M / 16M\r",
      " 50% [####################################                                    ]            8M / 16M\r",
      " 50% [####################################                                    ]            8M / 16M\r",
      " 50% [####################################                                    ]            8M / 16M\r",
      " 50% [####################################                                    ]            8M / 16M\r",
      " 50% [####################################                                    ]            8M / 16M\r",
      " 50% [####################################                                    ]            8M / 16M\r",
      " 50% [####################################                                    ]            8M / 16M\r",
      " 50% [####################################                                    ]            8M / 16M\r",
      " 50% [####################################                                    ]            8M / 16M\r",
      " 50% [####################################                                    ]            8M / 16M\r",
      " 50% [####################################                                    ]            8M / 16M\r",
      " 50% [####################################                                    ]            8M / 16M\r",
      " 50% [####################################                                    ]            8M / 16M\r",
      " 50% [####################################                                    ]            8M / 16M\r",
      " 50% [####################################                                    ]            8M / 16M\r",
      " 50% [####################################                                    ]            8M / 16M\r",
      " 50% [####################################                                    ]            8M / 16M\r",
      " 50% [####################################                                    ]            8M / 16M\r",
      " 51% [####################################                                    ]            8M / 16M\r",
      " 51% [####################################                                    ]            8M / 16M\r",
      " 51% [####################################                                    ]            8M / 16M\r",
      " 51% [####################################                                    ]            8M / 16M\r",
      " 51% [####################################                                    ]            8M / 16M\r",
      " 51% [####################################                                    ]            8M / 16M\r",
      " 51% [####################################                                    ]            8M / 16M\r",
      " 51% [####################################                                    ]            8M / 16M\r",
      " 51% [#####################################                                   ]            8M / 16M\r",
      " 51% [#####################################                                   ]            8M / 16M\r",
      " 51% [#####################################                                   ]            8M / 16M\r",
      " 51% [#####################################                                   ]            8M / 16M\r",
      " 51% [#####################################                                   ]            8M / 16M\r",
      " 51% [#####################################                                   ]            8M / 16M\r",
      " 51% [#####################################                                   ]            8M / 16M\r",
      " 51% [#####################################                                   ]            8M / 16M\r",
      " 51% [#####################################                                   ]            8M / 16M\r",
      " 51% [#####################################                                   ]            8M / 16M\r",
      " 51% [#####################################                                   ]            8M / 16M\r",
      " 51% [#####################################                                   ]            8M / 16M\r",
      " 51% [#####################################                                   ]            8M / 16M\r",
      " 52% [#####################################                                   ]            8M / 16M\r",
      " 52% [#####################################                                   ]            8M / 16M\r",
      " 52% [#####################################                                   ]            8M / 16M\r",
      " 52% [#####################################                                   ]            8M / 16M\r",
      " 52% [#####################################                                   ]            8M / 16M\r",
      " 52% [#####################################                                   ]            8M / 16M"
     ]
    },
    {
     "name": "stdout",
     "output_type": "stream",
     "text": [
      "\r",
      " 52% [#####################################                                   ]            8M / 16M\r",
      " 52% [#####################################                                   ]            8M / 16M\r",
      " 52% [#####################################                                   ]            8M / 16M\r",
      " 52% [#####################################                                   ]            8M / 16M\r",
      " 52% [#####################################                                   ]            8M / 16M\r",
      " 52% [#####################################                                   ]            8M / 16M\r",
      " 52% [#####################################                                   ]            8M / 16M\r",
      " 52% [#####################################                                   ]            8M / 16M\r",
      " 52% [#####################################                                   ]            8M / 16M\r",
      " 52% [#####################################                                   ]            8M / 16M\r",
      " 52% [#####################################                                   ]            8M / 16M\r",
      " 52% [######################################                                  ]            8M / 16M\r",
      " 52% [######################################                                  ]            8M / 16M\r",
      " 52% [######################################                                  ]            8M / 16M\r",
      " 52% [######################################                                  ]            8M / 16M\r",
      " 52% [######################################                                  ]            8M / 16M\r",
      " 53% [######################################                                  ]            8M / 16M\r",
      " 53% [######################################                                  ]            8M / 16M\r",
      " 53% [######################################                                  ]            8M / 16M\r",
      " 53% [######################################                                  ]            8M / 16M\r",
      " 53% [######################################                                  ]            8M / 16M\r",
      " 53% [######################################                                  ]            8M / 16M\r",
      " 53% [######################################                                  ]            8M / 16M\r",
      " 53% [######################################                                  ]            8M / 16M\r",
      " 53% [######################################                                  ]            8M / 16M\r",
      " 53% [######################################                                  ]            8M / 16M\r",
      " 53% [######################################                                  ]            8M / 16M\r",
      " 53% [######################################                                  ]            8M / 16M\r",
      " 53% [######################################                                  ]            9M / 16M\r",
      " 53% [######################################                                  ]            9M / 16M\r",
      " 53% [######################################                                  ]            9M / 16M\r",
      " 53% [######################################                                  ]            9M / 16M\r",
      " 53% [######################################                                  ]            9M / 16M\r",
      " 53% [######################################                                  ]            9M / 16M\r",
      " 53% [######################################                                  ]            9M / 16M\r",
      " 53% [######################################                                  ]            9M / 16M\r",
      " 53% [######################################                                  ]            9M / 16M\r",
      " 54% [######################################                                  ]            9M / 16M\r",
      " 54% [######################################                                  ]            9M / 16M\r",
      " 54% [######################################                                  ]            9M / 16M\r",
      " 54% [######################################                                  ]            9M / 16M\r",
      " 54% [#######################################                                 ]            9M / 16M\r",
      " 54% [#######################################                                 ]            9M / 16M\r",
      " 54% [#######################################                                 ]            9M / 16M\r",
      " 54% [#######################################                                 ]            9M / 16M\r",
      " 54% [#######################################                                 ]            9M / 16M\r",
      " 54% [#######################################                                 ]            9M / 16M\r",
      " 54% [#######################################                                 ]            9M / 16M\r",
      " 54% [#######################################                                 ]            9M / 16M\r",
      " 54% [#######################################                                 ]            9M / 16M\r",
      " 54% [#######################################                                 ]            9M / 16M\r",
      " 54% [#######################################                                 ]            9M / 16M\r",
      " 54% [#######################################                                 ]            9M / 16M\r",
      " 54% [#######################################                                 ]            9M / 16M\r",
      " 54% [#######################################                                 ]            9M / 16M\r",
      " 54% [#######################################                                 ]            9M / 16M\r",
      " 54% [#######################################                                 ]            9M / 16M\r",
      " 54% [#######################################                                 ]            9M / 16M\r",
      " 54% [#######################################                                 ]            9M / 16M\r",
      " 55% [#######################################                                 ]            9M / 16M\r",
      " 55% [#######################################                                 ]            9M / 16M\r",
      " 55% [#######################################                                 ]            9M / 16M\r",
      " 55% [#######################################                                 ]            9M / 16M\r",
      " 55% [#######################################                                 ]            9M / 16M\r",
      " 55% [#######################################                                 ]            9M / 16M\r",
      " 55% [#######################################                                 ]            9M / 16M\r",
      " 55% [#######################################                                 ]            9M / 16M\r",
      " 55% [#######################################                                 ]            9M / 16M\r",
      " 55% [#######################################                                 ]            9M / 16M\r",
      " 55% [#######################################                                 ]            9M / 16M\r",
      " 55% [#######################################                                 ]            9M / 16M\r",
      " 55% [########################################                                ]            9M / 16M\r",
      " 55% [########################################                                ]            9M / 16M\r",
      " 55% [########################################                                ]            9M / 16M\r",
      " 55% [########################################                                ]            9M / 16M\r",
      " 55% [########################################                                ]            9M / 16M\r",
      " 55% [########################################                                ]            9M / 16M\r",
      " 55% [########################################                                ]            9M / 16M\r",
      " 55% [########################################                                ]            9M / 16M\r",
      " 55% [########################################                                ]            9M / 16M\r",
      " 56% [########################################                                ]            9M / 16M\r",
      " 56% [########################################                                ]            9M / 16M\r",
      " 56% [########################################                                ]            9M / 16M\r",
      " 56% [########################################                                ]            9M / 16M\r",
      " 56% [########################################                                ]            9M / 16M\r",
      " 56% [########################################                                ]            9M / 16M\r",
      " 56% [########################################                                ]            9M / 16M\r",
      " 56% [########################################                                ]            9M / 16M\r",
      " 56% [########################################                                ]            9M / 16M\r",
      " 56% [########################################                                ]            9M / 16M\r",
      " 56% [########################################                                ]            9M / 16M\r",
      " 56% [########################################                                ]            9M / 16M\r",
      " 56% [########################################                                ]            9M / 16M\r",
      " 56% [########################################                                ]            9M / 16M\r",
      " 56% [########################################                                ]            9M / 16M\r",
      " 56% [########################################                                ]            9M / 16M\r",
      " 56% [########################################                                ]            9M / 16M\r",
      " 56% [########################################                                ]            9M / 16M\r",
      " 56% [########################################                                ]            9M / 16M\r",
      " 56% [########################################                                ]            9M / 16M\r",
      " 56% [########################################                                ]            9M / 16M\r",
      " 56% [#########################################                               ]            9M / 16M\r",
      " 57% [#########################################                               ]            9M / 16M\r",
      " 57% [#########################################                               ]            9M / 16M\r",
      " 57% [#########################################                               ]            9M / 16M\r",
      " 57% [#########################################                               ]            9M / 16M\r",
      " 57% [#########################################                               ]            9M / 16M\r",
      " 57% [#########################################                               ]            9M / 16M"
     ]
    },
    {
     "name": "stdout",
     "output_type": "stream",
     "text": [
      "\r",
      " 57% [#########################################                               ]            9M / 16M\r",
      " 57% [#########################################                               ]            9M / 16M\r",
      " 57% [#########################################                               ]            9M / 16M\r",
      " 57% [#########################################                               ]            9M / 16M\r",
      " 57% [#########################################                               ]            9M / 16M\r",
      " 57% [#########################################                               ]            9M / 16M\r",
      " 57% [#########################################                               ]            9M / 16M\r",
      " 57% [#########################################                               ]            9M / 16M\r",
      " 57% [#########################################                               ]            9M / 16M\r",
      " 57% [#########################################                               ]            9M / 16M\r",
      " 57% [#########################################                               ]            9M / 16M\r",
      " 57% [#########################################                               ]            9M / 16M\r",
      " 57% [#########################################                               ]            9M / 16M\r",
      " 57% [#########################################                               ]            9M / 16M\r",
      " 57% [#########################################                               ]            9M / 16M\r",
      " 58% [#########################################                               ]            9M / 16M\r",
      " 58% [#########################################                               ]            9M / 16M\r",
      " 58% [#########################################                               ]            9M / 16M\r",
      " 58% [#########################################                               ]            9M / 16M\r",
      " 58% [#########################################                               ]            9M / 16M\r",
      " 58% [#########################################                               ]            9M / 16M\r",
      " 58% [#########################################                               ]            9M / 16M\r",
      " 58% [#########################################                               ]            9M / 16M\r",
      " 58% [##########################################                              ]            9M / 16M\r",
      " 58% [##########################################                              ]            9M / 16M\r",
      " 58% [##########################################                              ]            9M / 16M\r",
      " 58% [##########################################                              ]            9M / 16M\r",
      " 58% [##########################################                              ]            9M / 16M\r",
      " 58% [##########################################                              ]            9M / 16M\r",
      " 58% [##########################################                              ]            9M / 16M\r",
      " 58% [##########################################                              ]            9M / 16M\r",
      " 58% [##########################################                              ]            9M / 16M\r",
      " 58% [##########################################                              ]            9M / 16M\r",
      " 58% [##########################################                              ]            9M / 16M\r",
      " 58% [##########################################                              ]            9M / 16M\r",
      " 58% [##########################################                              ]            9M / 16M\r",
      " 58% [##########################################                              ]            9M / 16M\r",
      " 59% [##########################################                              ]            9M / 16M\r",
      " 59% [##########################################                              ]            9M / 16M\r",
      " 59% [##########################################                              ]            9M / 16M\r",
      " 59% [##########################################                              ]            9M / 16M\r",
      " 59% [##########################################                              ]            9M / 16M\r",
      " 59% [##########################################                              ]            9M / 16M\r",
      " 59% [##########################################                              ]            9M / 16M\r",
      " 59% [##########################################                              ]            9M / 16M\r",
      " 59% [##########################################                              ]            9M / 16M\r",
      " 59% [##########################################                              ]            9M / 16M\r",
      " 59% [##########################################                              ]            9M / 16M\r",
      " 59% [##########################################                              ]           10M / 16M\r",
      " 59% [##########################################                              ]           10M / 16M\r",
      " 59% [##########################################                              ]           10M / 16M\r",
      " 59% [##########################################                              ]           10M / 16M\r",
      " 59% [###########################################                             ]           10M / 16M\r",
      " 59% [###########################################                             ]           10M / 16M\r",
      " 59% [###########################################                             ]           10M / 16M\r",
      " 59% [###########################################                             ]           10M / 16M\r",
      " 59% [###########################################                             ]           10M / 16M\r",
      " 59% [###########################################                             ]           10M / 16M\r",
      " 60% [###########################################                             ]           10M / 16M\r",
      " 60% [###########################################                             ]           10M / 16M\r",
      " 60% [###########################################                             ]           10M / 16M\r",
      " 60% [###########################################                             ]           10M / 16M\r",
      " 60% [###########################################                             ]           10M / 16M\r",
      " 60% [###########################################                             ]           10M / 16M\r",
      " 60% [###########################################                             ]           10M / 16M\r",
      " 60% [###########################################                             ]           10M / 16M\r",
      " 60% [###########################################                             ]           10M / 16M\r",
      " 60% [###########################################                             ]           10M / 16M\r",
      " 60% [###########################################                             ]           10M / 16M\r",
      " 60% [###########################################                             ]           10M / 16M\r",
      " 60% [###########################################                             ]           10M / 16M\r",
      " 60% [###########################################                             ]           10M / 16M\r",
      " 60% [###########################################                             ]           10M / 16M\r",
      " 60% [###########################################                             ]           10M / 16M\r",
      " 60% [###########################################                             ]           10M / 16M\r",
      " 60% [###########################################                             ]           10M / 16M\r",
      " 60% [###########################################                             ]           10M / 16M\r",
      " 60% [###########################################                             ]           10M / 16M\r",
      " 60% [###########################################                             ]           10M / 16M\r",
      " 60% [###########################################                             ]           10M / 16M\r",
      " 61% [###########################################                             ]           10M / 16M\r",
      " 61% [###########################################                             ]           10M / 16M\r",
      " 61% [############################################                            ]           10M / 16M\r",
      " 61% [############################################                            ]           10M / 16M\r",
      " 61% [############################################                            ]           10M / 16M\r",
      " 61% [############################################                            ]           10M / 16M\r",
      " 61% [############################################                            ]           10M / 16M\r",
      " 61% [############################################                            ]           10M / 16M\r",
      " 61% [############################################                            ]           10M / 16M\r",
      " 61% [############################################                            ]           10M / 16M\r",
      " 61% [############################################                            ]           10M / 16M\r",
      " 61% [############################################                            ]           10M / 16M\r",
      " 61% [############################################                            ]           10M / 16M"
     ]
    },
    {
     "name": "stdout",
     "output_type": "stream",
     "text": [
      "\r",
      " 61% [############################################                            ]           10M / 16M\r",
      " 61% [############################################                            ]           10M / 16M\r",
      " 61% [############################################                            ]           10M / 16M\r",
      " 61% [############################################                            ]           10M / 16M\r",
      " 61% [############################################                            ]           10M / 16M\r",
      " 61% [############################################                            ]           10M / 16M\r",
      " 61% [############################################                            ]           10M / 16M\r",
      " 61% [############################################                            ]           10M / 16M\r",
      " 62% [############################################                            ]           10M / 16M\r",
      " 62% [############################################                            ]           10M / 16M\r",
      " 62% [############################################                            ]           10M / 16M\r",
      " 62% [############################################                            ]           10M / 16M\r",
      " 62% [############################################                            ]           10M / 16M\r",
      " 62% [############################################                            ]           10M / 16M\r",
      " 62% [############################################                            ]           10M / 16M\r",
      " 62% [############################################                            ]           10M / 16M\r",
      " 62% [############################################                            ]           10M / 16M\r",
      " 62% [############################################                            ]           10M / 16M\r",
      " 62% [############################################                            ]           10M / 16M\r",
      " 62% [#############################################                           ]           10M / 16M\r",
      " 62% [#############################################                           ]           10M / 16M\r",
      " 62% [#############################################                           ]           10M / 16M\r",
      " 62% [#############################################                           ]           10M / 16M\r",
      " 62% [#############################################                           ]           10M / 16M\r",
      " 62% [#############################################                           ]           10M / 16M\r",
      " 62% [#############################################                           ]           10M / 16M\r",
      " 62% [#############################################                           ]           10M / 16M\r",
      " 62% [#############################################                           ]           10M / 16M\r",
      " 62% [#############################################                           ]           10M / 16M\r",
      " 62% [#############################################                           ]           10M / 16M\r",
      " 63% [#############################################                           ]           10M / 16M\r",
      " 63% [#############################################                           ]           10M / 16M\r",
      " 63% [#############################################                           ]           10M / 16M\r",
      " 63% [#############################################                           ]           10M / 16M\r",
      " 63% [#############################################                           ]           10M / 16M\r",
      " 63% [#############################################                           ]           10M / 16M\r",
      " 63% [#############################################                           ]           10M / 16M\r",
      " 63% [#############################################                           ]           10M / 16M\r",
      " 63% [#############################################                           ]           10M / 16M\r",
      " 63% [#############################################                           ]           10M / 16M\r",
      " 63% [#############################################                           ]           10M / 16M\r",
      " 63% [#############################################                           ]           10M / 16M\r",
      " 63% [#############################################                           ]           10M / 16M\r",
      " 63% [#############################################                           ]           10M / 16M\r",
      " 63% [#############################################                           ]           10M / 16M\r",
      " 63% [#############################################                           ]           10M / 16M\r",
      " 63% [#############################################                           ]           10M / 16M\r",
      " 63% [#############################################                           ]           10M / 16M\r",
      " 63% [#############################################                           ]           10M / 16M\r",
      " 63% [##############################################                          ]           10M / 16M\r",
      " 63% [##############################################                          ]           10M / 16M\r",
      " 64% [##############################################                          ]           10M / 16M\r",
      " 64% [##############################################                          ]           10M / 16M\r",
      " 64% [##############################################                          ]           10M / 16M\r",
      " 64% [##############################################                          ]           10M / 16M\r",
      " 64% [##############################################                          ]           10M / 16M\r",
      " 64% [##############################################                          ]           10M / 16M\r",
      " 64% [##############################################                          ]           10M / 16M\r",
      " 64% [##############################################                          ]           10M / 16M\r",
      " 64% [##############################################                          ]           10M / 16M\r",
      " 64% [##############################################                          ]           10M / 16M\r",
      " 64% [##############################################                          ]           10M / 16M\r",
      " 64% [##############################################                          ]           10M / 16M\r",
      " 64% [##############################################                          ]           10M / 16M\r",
      " 64% [##############################################                          ]           10M / 16M\r",
      " 64% [##############################################                          ]           10M / 16M\r",
      " 64% [##############################################                          ]           10M / 16M\r",
      " 64% [##############################################                          ]           10M / 16M\r",
      " 64% [##############################################                          ]           10M / 16M\r",
      " 64% [##############################################                          ]           10M / 16M\r",
      " 64% [##############################################                          ]           10M / 16M\r",
      " 64% [##############################################                          ]           10M / 16M\r",
      " 64% [##############################################                          ]           10M / 16M\r",
      " 65% [##############################################                          ]           10M / 16M\r",
      " 65% [##############################################                          ]           10M / 16M\r",
      " 65% [##############################################                          ]           10M / 16M\r",
      " 65% [##############################################                          ]           10M / 16M\r",
      " 65% [##############################################                          ]           10M / 16M\r",
      " 65% [##############################################                          ]           10M / 16M\r",
      " 65% [###############################################                         ]           10M / 16M\r",
      " 65% [###############################################                         ]           10M / 16M\r",
      " 65% [###############################################                         ]           10M / 16M\r",
      " 65% [###############################################                         ]           10M / 16M\r",
      " 65% [###############################################                         ]           11M / 16M\r",
      " 65% [###############################################                         ]           11M / 16M\r",
      " 65% [###############################################                         ]           11M / 16M\r",
      " 65% [###############################################                         ]           11M / 16M\r",
      " 65% [###############################################                         ]           11M / 16M\r",
      " 65% [###############################################                         ]           11M / 16M\r",
      " 65% [###############################################                         ]           11M / 16M\r",
      " 65% [###############################################                         ]           11M / 16M\r",
      " 65% [###############################################                         ]           11M / 16M\r",
      " 65% [###############################################                         ]           11M / 16M\r",
      " 65% [###############################################                         ]           11M / 16M\r",
      " 66% [###############################################                         ]           11M / 16M\r",
      " 66% [###############################################                         ]           11M / 16M\r",
      " 66% [###############################################                         ]           11M / 16M\r",
      " 66% [###############################################                         ]           11M / 16M\r",
      " 66% [###############################################                         ]           11M / 16M\r",
      " 66% [###############################################                         ]           11M / 16M\r",
      " 66% [###############################################                         ]           11M / 16M\r",
      " 66% [###############################################                         ]           11M / 16M\r",
      " 66% [###############################################                         ]           11M / 16M\r",
      " 66% [###############################################                         ]           11M / 16M\r",
      " 66% [###############################################                         ]           11M / 16M\r",
      " 66% [###############################################                         ]           11M / 16M\r",
      " 66% [###############################################                         ]           11M / 16M\r",
      " 66% [###############################################                         ]           11M / 16M\r",
      " 66% [###############################################                         ]           11M / 16M\r",
      " 66% [################################################                        ]           11M / 16M\r",
      " 66% [################################################                        ]           11M / 16M\r",
      " 66% [################################################                        ]           11M / 16M\r",
      " 66% [################################################                        ]           11M / 16M\r",
      " 66% [################################################                        ]           11M / 16M\r",
      " 66% [################################################                        ]           11M / 16M\r",
      " 66% [################################################                        ]           11M / 16M\r",
      " 67% [################################################                        ]           11M / 16M\r",
      " 67% [################################################                        ]           11M / 16M\r",
      " 67% [################################################                        ]           11M / 16M\r",
      " 67% [################################################                        ]           11M / 16M\r",
      " 67% [################################################                        ]           11M / 16M\r",
      " 67% [################################################                        ]           11M / 16M\r",
      " 67% [################################################                        ]           11M / 16M\r",
      " 67% [################################################                        ]           11M / 16M\r",
      " 67% [################################################                        ]           11M / 16M\r",
      " 67% [################################################                        ]           11M / 16M\r",
      " 67% [################################################                        ]           11M / 16M\r",
      " 67% [################################################                        ]           11M / 16M\r",
      " 67% [################################################                        ]           11M / 16M\r",
      " 67% [################################################                        ]           11M / 16M\r",
      " 67% [################################################                        ]           11M / 16M\r",
      " 67% [################################################                        ]           11M / 16M\r",
      " 67% [################################################                        ]           11M / 16M\r",
      " 67% [################################################                        ]           11M / 16M\r",
      " 67% [################################################                        ]           11M / 16M\r",
      " 67% [################################################                        ]           11M / 16M\r",
      " 67% [################################################                        ]           11M / 16M\r",
      " 68% [################################################                        ]           11M / 16M\r",
      " 68% [################################################                        ]           11M / 16M\r",
      " 68% [#################################################                       ]           11M / 16M\r",
      " 68% [#################################################                       ]           11M / 16M\r",
      " 68% [#################################################                       ]           11M / 16M\r",
      " 68% [#################################################                       ]           11M / 16M\r",
      " 68% [#################################################                       ]           11M / 16M\r",
      " 68% [#################################################                       ]           11M / 16M\r",
      " 68% [#################################################                       ]           11M / 16M\r",
      " 68% [#################################################                       ]           11M / 16M\r",
      " 68% [#################################################                       ]           11M / 16M\r",
      " 68% [#################################################                       ]           11M / 16M\r",
      " 68% [#################################################                       ]           11M / 16M\r",
      " 68% [#################################################                       ]           11M / 16M\r",
      " 68% [#################################################                       ]           11M / 16M\r",
      " 68% [#################################################                       ]           11M / 16M\r",
      " 68% [#################################################                       ]           11M / 16M\r",
      " 68% [#################################################                       ]           11M / 16M\r",
      " 68% [#################################################                       ]           11M / 16M\r",
      " 68% [#################################################                       ]           11M / 16M\r",
      " 68% [#################################################                       ]           11M / 16M\r",
      " 68% [#################################################                       ]           11M / 16M\r",
      " 69% [#################################################                       ]           11M / 16M\r",
      " 69% [#################################################                       ]           11M / 16M\r",
      " 69% [#################################################                       ]           11M / 16M\r",
      " 69% [#################################################                       ]           11M / 16M\r",
      " 69% [#################################################                       ]           11M / 16M\r",
      " 69% [#################################################                       ]           11M / 16M\r",
      " 69% [#################################################                       ]           11M / 16M\r",
      " 69% [#################################################                       ]           11M / 16M\r",
      " 69% [#################################################                       ]           11M / 16M"
     ]
    },
    {
     "name": "stdout",
     "output_type": "stream",
     "text": [
      "\r",
      " 69% [##################################################                      ]           11M / 16M\r",
      " 69% [##################################################                      ]           11M / 16M\r",
      " 69% [##################################################                      ]           11M / 16M\r",
      " 69% [##################################################                      ]           11M / 16M\r",
      " 69% [##################################################                      ]           11M / 16M\r",
      " 69% [##################################################                      ]           11M / 16M\r",
      " 69% [##################################################                      ]           11M / 16M\r",
      " 69% [##################################################                      ]           11M / 16M\r",
      " 69% [##################################################                      ]           11M / 16M\r",
      " 69% [##################################################                      ]           11M / 16M\r",
      " 69% [##################################################                      ]           11M / 16M\r",
      " 69% [##################################################                      ]           11M / 16M\r",
      " 70% [##################################################                      ]           11M / 16M\r",
      " 70% [##################################################                      ]           11M / 16M\r",
      " 70% [##################################################                      ]           11M / 16M\r",
      " 70% [##################################################                      ]           11M / 16M\r",
      " 70% [##################################################                      ]           11M / 16M\r",
      " 70% [##################################################                      ]           11M / 16M\r",
      " 70% [##################################################                      ]           11M / 16M\r",
      " 70% [##################################################                      ]           11M / 16M\r",
      " 70% [##################################################                      ]           11M / 16M\r",
      " 70% [##################################################                      ]           11M / 16M\r",
      " 70% [##################################################                      ]           11M / 16M\r",
      " 70% [##################################################                      ]           11M / 16M\r",
      " 70% [##################################################                      ]           11M / 16M\r",
      " 70% [##################################################                      ]           11M / 16M\r",
      " 70% [##################################################                      ]           11M / 16M\r",
      " 70% [##################################################                      ]           11M / 16M\r",
      " 70% [##################################################                      ]           11M / 16M\r",
      " 70% [##################################################                      ]           11M / 16M\r",
      " 70% [###################################################                     ]           11M / 16M\r",
      " 70% [###################################################                     ]           11M / 16M\r",
      " 70% [###################################################                     ]           11M / 16M\r",
      " 70% [###################################################                     ]           11M / 16M\r",
      " 71% [###################################################                     ]           11M / 16M\r",
      " 71% [###################################################                     ]           11M / 16M\r",
      " 71% [###################################################                     ]           11M / 16M\r",
      " 71% [###################################################                     ]           11M / 16M\r",
      " 71% [###################################################                     ]           11M / 16M\r",
      " 71% [###################################################                     ]           11M / 16M\r",
      " 71% [###################################################                     ]           11M / 16M\r",
      " 71% [###################################################                     ]           11M / 16M\r",
      " 71% [###################################################                     ]           11M / 16M\r",
      " 71% [###################################################                     ]           12M / 16M\r",
      " 71% [###################################################                     ]           12M / 16M\r",
      " 71% [###################################################                     ]           12M / 16M\r",
      " 71% [###################################################                     ]           12M / 16M\r",
      " 71% [###################################################                     ]           12M / 16M\r",
      " 71% [###################################################                     ]           12M / 16M\r",
      " 71% [###################################################                     ]           12M / 16M\r",
      " 71% [###################################################                     ]           12M / 16M\r",
      " 71% [###################################################                     ]           12M / 16M\r",
      " 71% [###################################################                     ]           12M / 16M\r",
      " 71% [###################################################                     ]           12M / 16M\r",
      " 71% [###################################################                     ]           12M / 16M\r",
      " 72% [###################################################                     ]           12M / 16M\r",
      " 72% [###################################################                     ]           12M / 16M\r",
      " 72% [###################################################                     ]           12M / 16M\r",
      " 72% [###################################################                     ]           12M / 16M\r",
      " 72% [###################################################                     ]           12M / 16M\r",
      " 72% [####################################################                    ]           12M / 16M\r",
      " 72% [####################################################                    ]           12M / 16M\r",
      " 72% [####################################################                    ]           12M / 16M\r",
      " 72% [####################################################                    ]           12M / 16M\r",
      " 72% [####################################################                    ]           12M / 16M\r",
      " 72% [####################################################                    ]           12M / 16M\r",
      " 72% [####################################################                    ]           12M / 16M\r",
      " 72% [####################################################                    ]           12M / 16M\r",
      " 72% [####################################################                    ]           12M / 16M\r",
      " 72% [####################################################                    ]           12M / 16M\r",
      " 72% [####################################################                    ]           12M / 16M\r",
      " 72% [####################################################                    ]           12M / 16M\r",
      " 72% [####################################################                    ]           12M / 16M\r",
      " 72% [####################################################                    ]           12M / 16M\r",
      " 72% [####################################################                    ]           12M / 16M\r",
      " 72% [####################################################                    ]           12M / 16M\r",
      " 72% [####################################################                    ]           12M / 16M\r",
      " 73% [####################################################                    ]           12M / 16M\r",
      " 73% [####################################################                    ]           12M / 16M\r",
      " 73% [####################################################                    ]           12M / 16M\r",
      " 73% [####################################################                    ]           12M / 16M\r",
      " 73% [####################################################                    ]           12M / 16M\r",
      " 73% [####################################################                    ]           12M / 16M\r",
      " 73% [####################################################                    ]           12M / 16M\r",
      " 73% [####################################################                    ]           12M / 16M\r",
      " 73% [####################################################                    ]           12M / 16M\r",
      " 73% [####################################################                    ]           12M / 16M\r",
      " 73% [####################################################                    ]           12M / 16M\r",
      " 73% [####################################################                    ]           12M / 16M\r",
      " 73% [####################################################                    ]           12M / 16M\r",
      " 73% [#####################################################                   ]           12M / 16M\r",
      " 73% [#####################################################                   ]           12M / 16M\r",
      " 73% [#####################################################                   ]           12M / 16M\r",
      " 73% [#####################################################                   ]           12M / 16M\r",
      " 73% [#####################################################                   ]           12M / 16M\r",
      " 73% [#####################################################                   ]           12M / 16M\r",
      " 73% [#####################################################                   ]           12M / 16M\r",
      " 73% [#####################################################                   ]           12M / 16M\r",
      " 74% [#####################################################                   ]           12M / 16M\r",
      " 74% [#####################################################                   ]           12M / 16M\r",
      " 74% [#####################################################                   ]           12M / 16M\r",
      " 74% [#####################################################                   ]           12M / 16M\r",
      " 74% [#####################################################                   ]           12M / 16M\r",
      " 74% [#####################################################                   ]           12M / 16M\r",
      " 74% [#####################################################                   ]           12M / 16M\r",
      " 74% [#####################################################                   ]           12M / 16M\r",
      " 74% [#####################################################                   ]           12M / 16M\r",
      " 74% [#####################################################                   ]           12M / 16M\r",
      " 74% [#####################################################                   ]           12M / 16M\r",
      " 74% [#####################################################                   ]           12M / 16M\r",
      " 74% [#####################################################                   ]           12M / 16M"
     ]
    },
    {
     "name": "stdout",
     "output_type": "stream",
     "text": [
      "\r",
      " 74% [#####################################################                   ]           12M / 16M\r",
      " 74% [#####################################################                   ]           12M / 16M\r",
      " 74% [#####################################################                   ]           12M / 16M\r",
      " 74% [#####################################################                   ]           12M / 16M\r",
      " 74% [#####################################################                   ]           12M / 16M\r",
      " 74% [#####################################################                   ]           12M / 16M\r",
      " 74% [#####################################################                   ]           12M / 16M\r",
      " 74% [#####################################################                   ]           12M / 16M\r",
      " 74% [#####################################################                   ]           12M / 16M\r",
      " 75% [######################################################                  ]           12M / 16M\r",
      " 75% [######################################################                  ]           12M / 16M\r",
      " 75% [######################################################                  ]           12M / 16M\r",
      " 75% [######################################################                  ]           12M / 16M\r",
      " 75% [######################################################                  ]           12M / 16M\r",
      " 75% [######################################################                  ]           12M / 16M\r",
      " 75% [######################################################                  ]           12M / 16M\r",
      " 75% [######################################################                  ]           12M / 16M\r",
      " 75% [######################################################                  ]           12M / 16M\r",
      " 75% [######################################################                  ]           12M / 16M\r",
      " 75% [######################################################                  ]           12M / 16M\r",
      " 75% [######################################################                  ]           12M / 16M\r",
      " 75% [######################################################                  ]           12M / 16M\r",
      " 75% [######################################################                  ]           12M / 16M\r",
      " 75% [######################################################                  ]           12M / 16M\r",
      " 75% [######################################################                  ]           12M / 16M\r",
      " 75% [######################################################                  ]           12M / 16M\r",
      " 75% [######################################################                  ]           12M / 16M\r",
      " 75% [######################################################                  ]           12M / 16M\r",
      " 75% [######################################################                  ]           12M / 16M\r",
      " 75% [######################################################                  ]           12M / 16M\r",
      " 76% [######################################################                  ]           12M / 16M\r",
      " 76% [######################################################                  ]           12M / 16M\r",
      " 76% [######################################################                  ]           12M / 16M\r",
      " 76% [######################################################                  ]           12M / 16M\r",
      " 76% [######################################################                  ]           12M / 16M\r",
      " 76% [######################################################                  ]           12M / 16M\r",
      " 76% [######################################################                  ]           12M / 16M\r",
      " 76% [######################################################                  ]           12M / 16M\r",
      " 76% [######################################################                  ]           12M / 16M\r",
      " 76% [#######################################################                 ]           12M / 16M\r",
      " 76% [#######################################################                 ]           12M / 16M\r",
      " 76% [#######################################################                 ]           12M / 16M\r",
      " 76% [#######################################################                 ]           12M / 16M\r",
      " 76% [#######################################################                 ]           12M / 16M\r",
      " 76% [#######################################################                 ]           12M / 16M\r",
      " 76% [#######################################################                 ]           12M / 16M\r",
      " 76% [#######################################################                 ]           12M / 16M\r",
      " 76% [#######################################################                 ]           12M / 16M\r",
      " 76% [#######################################################                 ]           12M / 16M\r",
      " 76% [#######################################################                 ]           12M / 16M\r",
      " 76% [#######################################################                 ]           12M / 16M\r",
      " 76% [#######################################################                 ]           12M / 16M\r",
      " 77% [#######################################################                 ]           12M / 16M\r",
      " 77% [#######################################################                 ]           12M / 16M\r",
      " 77% [#######################################################                 ]           12M / 16M\r",
      " 77% [#######################################################                 ]           12M / 16M\r",
      " 77% [#######################################################                 ]           12M / 16M\r",
      " 77% [#######################################################                 ]           12M / 16M\r",
      " 77% [#######################################################                 ]           12M / 16M\r",
      " 77% [#######################################################                 ]           12M / 16M\r",
      " 77% [#######################################################                 ]           13M / 16M\r",
      " 77% [#######################################################                 ]           13M / 16M\r",
      " 77% [#######################################################                 ]           13M / 16M\r",
      " 77% [#######################################################                 ]           13M / 16M\r",
      " 77% [#######################################################                 ]           13M / 16M\r",
      " 77% [#######################################################                 ]           13M / 16M\r",
      " 77% [#######################################################                 ]           13M / 16M\r",
      " 77% [#######################################################                 ]           13M / 16M\r",
      " 77% [#######################################################                 ]           13M / 16M\r",
      " 77% [########################################################                ]           13M / 16M\r",
      " 77% [########################################################                ]           13M / 16M\r",
      " 77% [########################################################                ]           13M / 16M\r",
      " 77% [########################################################                ]           13M / 16M\r",
      " 78% [########################################################                ]           13M / 16M\r",
      " 78% [########################################################                ]           13M / 16M\r",
      " 78% [########################################################                ]           13M / 16M\r",
      " 78% [########################################################                ]           13M / 16M\r",
      " 78% [########################################################                ]           13M / 16M\r",
      " 78% [########################################################                ]           13M / 16M\r",
      " 78% [########################################################                ]           13M / 16M\r",
      " 78% [########################################################                ]           13M / 16M\r",
      " 78% [########################################################                ]           13M / 16M\r",
      " 78% [########################################################                ]           13M / 16M\r",
      " 78% [########################################################                ]           13M / 16M\r",
      " 78% [########################################################                ]           13M / 16M\r",
      " 78% [########################################################                ]           13M / 16M\r",
      " 78% [########################################################                ]           13M / 16M\r",
      " 78% [########################################################                ]           13M / 16M\r",
      " 78% [########################################################                ]           13M / 16M\r",
      " 78% [########################################################                ]           13M / 16M\r",
      " 78% [########################################################                ]           13M / 16M\r",
      " 78% [########################################################                ]           13M / 16M\r",
      " 78% [########################################################                ]           13M / 16M\r",
      " 78% [########################################################                ]           13M / 16M\r",
      " 78% [########################################################                ]           13M / 16M\r",
      " 79% [########################################################                ]           13M / 16M\r",
      " 79% [########################################################                ]           13M / 16M\r",
      " 79% [########################################################                ]           13M / 16M"
     ]
    },
    {
     "name": "stdout",
     "output_type": "stream",
     "text": [
      "100% [########################################################################]           16M / 16M"
     ]
    },
    {
     "data": {
      "text/plain": [
       "'regression_weights/data.h5'"
      ]
     },
     "execution_count": 21,
     "metadata": {},
     "output_type": "execute_result"
    }
   ],
   "source": [
    "wget.download(url,\"regression_weights/data.h5\")"
   ]
  },
  {
   "cell_type": "markdown",
   "id": "90091d0a",
   "metadata": {},
   "source": [
    "### download the pretrained model"
   ]
  },
  {
   "cell_type": "code",
   "execution_count": 22,
   "id": "2664c650",
   "metadata": {},
   "outputs": [
    {
     "name": "stdout",
     "output_type": "stream",
     "text": [
      "\r",
      "  0% [                                                                        ]            0B / 16M\r",
      "  0% [                                                                        ]            8K / 16M\r",
      "  0% [                                                                        ]           16K / 16M\r",
      "  0% [                                                                        ]           24K / 16M\r",
      "  0% [                                                                        ]           32K / 16M\r",
      "  0% [                                                                        ]           40K / 16M\r",
      "  0% [                                                                        ]           48K / 16M\r",
      "  0% [                                                                        ]           56K / 16M\r",
      "  0% [                                                                        ]           64K / 16M\r",
      "  0% [                                                                        ]           72K / 16M\r",
      "  0% [                                                                        ]           80K / 16M\r",
      "  0% [                                                                        ]           88K / 16M\r",
      "  0% [                                                                        ]           96K / 16M\r",
      "  0% [                                                                        ]          104K / 16M\r",
      "  0% [                                                                        ]          112K / 16M\r",
      "  0% [                                                                        ]          120K / 16M\r",
      "  0% [                                                                        ]          128K / 16M\r",
      "  0% [                                                                        ]          136K / 16M\r",
      "  0% [                                                                        ]          144K / 16M\r",
      "  0% [                                                                        ]          152K / 16M\r",
      "  0% [                                                                        ]          160K / 16M\r",
      "  0% [                                                                        ]          168K / 16M\r",
      "  1% [                                                                        ]          176K / 16M\r",
      "  1% [                                                                        ]          184K / 16M\r",
      "  1% [                                                                        ]          192K / 16M\r",
      "  1% [                                                                        ]          200K / 16M\r",
      "  1% [                                                                        ]          208K / 16M\r",
      "  1% [                                                                        ]          216K / 16M\r",
      "  1% [                                                                        ]          224K / 16M\r",
      "  1% [                                                                        ]          232K / 16M\r",
      "  1% [#                                                                       ]          240K / 16M\r",
      "  1% [#                                                                       ]          248K / 16M\r",
      "  1% [#                                                                       ]          256K / 16M\r",
      "  1% [#                                                                       ]          264K / 16M\r",
      "  1% [#                                                                       ]          272K / 16M\r",
      "  1% [#                                                                       ]          280K / 16M\r",
      "  1% [#                                                                       ]          288K / 16M\r",
      "  1% [#                                                                       ]          296K / 16M\r",
      "  1% [#                                                                       ]          304K / 16M\r",
      "  1% [#                                                                       ]          312K / 16M\r",
      "  1% [#                                                                       ]          320K / 16M\r",
      "  1% [#                                                                       ]          328K / 16M\r",
      "  1% [#                                                                       ]          336K / 16M\r",
      "  2% [#                                                                       ]          344K / 16M\r",
      "  2% [#                                                                       ]          352K / 16M\r",
      "  2% [#                                                                       ]          360K / 16M\r",
      "  2% [#                                                                       ]          368K / 16M\r",
      "  2% [#                                                                       ]          376K / 16M\r",
      "  2% [#                                                                       ]          384K / 16M\r",
      "  2% [#                                                                       ]          392K / 16M\r",
      "  2% [#                                                                       ]          400K / 16M\r",
      "  2% [#                                                                       ]          408K / 16M\r",
      "  2% [#                                                                       ]          416K / 16M\r",
      "  2% [#                                                                       ]          424K / 16M\r",
      "  2% [#                                                                       ]          432K / 16M\r",
      "  2% [#                                                                       ]          440K / 16M\r",
      "  2% [#                                                                       ]          448K / 16M\r",
      "  2% [#                                                                       ]          456K / 16M\r",
      "  2% [#                                                                       ]          464K / 16M\r",
      "  2% [#                                                                       ]          472K / 16M\r",
      "  2% [##                                                                      ]          480K / 16M\r",
      "  2% [##                                                                      ]          488K / 16M\r",
      "  2% [##                                                                      ]          496K / 16M\r",
      "  2% [##                                                                      ]          504K / 16M\r",
      "  3% [##                                                                      ]          512K / 16M\r",
      "  3% [##                                                                      ]          520K / 16M\r",
      "  3% [##                                                                      ]          528K / 16M\r",
      "  3% [##                                                                      ]          536K / 16M\r",
      "  3% [##                                                                      ]          544K / 16M\r",
      "  3% [##                                                                      ]          552K / 16M\r",
      "  3% [##                                                                      ]          560K / 16M\r",
      "  3% [##                                                                      ]          568K / 16M\r",
      "  3% [##                                                                      ]          576K / 16M\r",
      "  3% [##                                                                      ]          584K / 16M\r",
      "  3% [##                                                                      ]          592K / 16M\r",
      "  3% [##                                                                      ]          600K / 16M\r",
      "  3% [##                                                                      ]          608K / 16M\r",
      "  3% [##                                                                      ]          616K / 16M\r",
      "  3% [##                                                                      ]          624K / 16M\r",
      "  3% [##                                                                      ]          632K / 16M\r",
      "  3% [##                                                                      ]          640K / 16M\r",
      "  3% [##                                                                      ]          648K / 16M\r",
      "  3% [##                                                                      ]          656K / 16M\r",
      "  3% [##                                                                      ]          664K / 16M\r",
      "  3% [##                                                                      ]          672K / 16M\r",
      "  3% [##                                                                      ]          680K / 16M\r",
      "  4% [##                                                                      ]          688K / 16M\r",
      "  4% [##                                                                      ]          696K / 16M\r",
      "  4% [##                                                                      ]          704K / 16M\r",
      "  4% [###                                                                     ]          712K / 16M\r",
      "  4% [###                                                                     ]          720K / 16M\r",
      "  4% [###                                                                     ]          728K / 16M\r",
      "  4% [###                                                                     ]          736K / 16M\r",
      "  4% [###                                                                     ]          744K / 16M\r",
      "  4% [###                                                                     ]          752K / 16M\r",
      "  4% [###                                                                     ]          760K / 16M\r",
      "  4% [###                                                                     ]          768K / 16M\r",
      "  4% [###                                                                     ]          776K / 16M\r",
      "  4% [###                                                                     ]          784K / 16M\r",
      "  4% [###                                                                     ]          792K / 16M"
     ]
    },
    {
     "name": "stdout",
     "output_type": "stream",
     "text": [
      "100% [########################################################################]           16M / 16M"
     ]
    },
    {
     "data": {
      "text/plain": [
       "'medium_weights/bert_weights_encoderMedium_80.h5'"
      ]
     },
     "execution_count": 22,
     "metadata": {},
     "output_type": "execute_result"
    }
   ],
   "source": [
    "url1 = r\"https://github.com/JinYSun/DeepAcceptor/releases/download/v1.0.0/bert_weightsMedium_80.h5\"\n",
    "url2 = r\"https://github.com/JinYSun/DeepAcceptor/releases/download/v1.0.0/bert_weights_encoderMedium_80.h5\"\n",
    "wget.download(url1,\"medium_weights/bert_weightsMedium_80.h5\")\n",
    "wget.download(url2,\"medium_weights/bert_weights_encoderMedium_80.h5\")"
   ]
  },
  {
   "cell_type": "markdown",
   "id": "c5c5c058",
   "metadata": {},
   "source": [
    "## Note: Retraining the model is highly recommended to ensure the accuracy of the model!"
   ]
  },
  {
   "cell_type": "markdown",
   "id": "50634fca",
   "metadata": {},
   "source": [
    "### 2. Dataset preparation"
   ]
  },
  {
   "cell_type": "markdown",
   "id": "e2cadee2",
   "metadata": {},
   "source": [
    "The atom, bond, connection information were calculated by using rdkit.The training,test and validation dataset are preprocess by runing the utils.py\n",
    "\n",
    "The preprocess of test dataset is shown as follows."
   ]
  },
  {
   "cell_type": "code",
   "execution_count": 1,
   "id": "5779cce8",
   "metadata": {},
   "outputs": [],
   "source": [
    "import utils\n",
    "\n",
    "import os\n",
    "from collections import OrderedDict\n",
    "\n",
    "import numpy as np\n",
    "from rdkit import Chem\n",
    "from rdkit.Chem import AllChem\n",
    "from rdkit.Chem import rdchem\n",
    "\n",
    "from compound_constants import DAY_LIGHT_FG_SMARTS_LIST\n",
    "\n",
    "\n",
    "from utils import mol_to_geognn_graph_data_MMFF3d"
   ]
  },
  {
   "cell_type": "code",
   "execution_count": 2,
   "id": "07941952",
   "metadata": {
    "scrolled": false
   },
   "outputs": [
    {
     "name": "stderr",
     "output_type": "stream",
     "text": [
      "  0%|▍                                                                                 | 1/206 [00:08<28:03,  8.21s/it]"
     ]
    },
    {
     "name": "stdout",
     "output_type": "stream",
     "text": [
      "0\n"
     ]
    },
    {
     "name": "stderr",
     "output_type": "stream",
     "text": [
      "\r",
      "  1%|▊                                                                                 | 2/206 [00:09<14:08,  4.16s/it]"
     ]
    },
    {
     "name": "stdout",
     "output_type": "stream",
     "text": [
      "1\n"
     ]
    },
    {
     "name": "stderr",
     "output_type": "stream",
     "text": [
      "\r",
      "  1%|█▏                                                                                | 3/206 [00:13<13:25,  3.97s/it]"
     ]
    },
    {
     "name": "stdout",
     "output_type": "stream",
     "text": [
      "2\n"
     ]
    },
    {
     "name": "stderr",
     "output_type": "stream",
     "text": [
      "\r",
      "  2%|█▌                                                                                | 4/206 [00:27<27:01,  8.03s/it]"
     ]
    },
    {
     "name": "stdout",
     "output_type": "stream",
     "text": [
      "3\n"
     ]
    },
    {
     "name": "stderr",
     "output_type": "stream",
     "text": [
      "\r",
      "  2%|█▉                                                                                | 5/206 [00:36<28:21,  8.46s/it]"
     ]
    },
    {
     "name": "stdout",
     "output_type": "stream",
     "text": [
      "4\n"
     ]
    },
    {
     "name": "stderr",
     "output_type": "stream",
     "text": [
      "\r",
      "  3%|██▍                                                                               | 6/206 [00:40<22:20,  6.70s/it]"
     ]
    },
    {
     "name": "stdout",
     "output_type": "stream",
     "text": [
      "5\n"
     ]
    },
    {
     "name": "stderr",
     "output_type": "stream",
     "text": [
      "\r",
      "  3%|██▋                                                                             | 7/206 [01:52<1:33:07, 28.08s/it]"
     ]
    },
    {
     "name": "stdout",
     "output_type": "stream",
     "text": [
      "6\n"
     ]
    },
    {
     "name": "stderr",
     "output_type": "stream",
     "text": [
      "\r",
      "  4%|███                                                                             | 8/206 [02:01<1:13:05, 22.15s/it]"
     ]
    },
    {
     "name": "stdout",
     "output_type": "stream",
     "text": [
      "7\n"
     ]
    },
    {
     "name": "stderr",
     "output_type": "stream",
     "text": [
      "\r",
      "  4%|███▌                                                                              | 9/206 [02:05<54:24, 16.57s/it]"
     ]
    },
    {
     "name": "stdout",
     "output_type": "stream",
     "text": [
      "8\n"
     ]
    },
    {
     "name": "stderr",
     "output_type": "stream",
     "text": [
      "\r",
      "  5%|███▉                                                                             | 10/206 [02:09<41:19, 12.65s/it]"
     ]
    },
    {
     "name": "stdout",
     "output_type": "stream",
     "text": [
      "9\n"
     ]
    },
    {
     "name": "stderr",
     "output_type": "stream",
     "text": [
      "\r",
      "  5%|████▎                                                                            | 11/206 [02:21<39:44, 12.23s/it]"
     ]
    },
    {
     "name": "stdout",
     "output_type": "stream",
     "text": [
      "10\n"
     ]
    },
    {
     "name": "stderr",
     "output_type": "stream",
     "text": [
      "\r",
      "  6%|████▋                                                                            | 12/206 [02:30<37:13, 11.51s/it]"
     ]
    },
    {
     "name": "stdout",
     "output_type": "stream",
     "text": [
      "11\n"
     ]
    },
    {
     "name": "stderr",
     "output_type": "stream",
     "text": [
      "[09:01:54] UFFTYPER: Unrecognized atom type: Se2+2 (102)\n",
      "  6%|█████                                                                            | 13/206 [02:34<29:41,  9.23s/it]"
     ]
    },
    {
     "name": "stdout",
     "output_type": "stream",
     "text": [
      "12\n"
     ]
    },
    {
     "name": "stderr",
     "output_type": "stream",
     "text": [
      "\r",
      "  7%|█████▌                                                                           | 14/206 [02:37<23:25,  7.32s/it]"
     ]
    },
    {
     "name": "stdout",
     "output_type": "stream",
     "text": [
      "13\n",
      "14\n"
     ]
    },
    {
     "name": "stderr",
     "output_type": "stream",
     "text": [
      "  8%|██████▎                                                                          | 16/206 [02:44<17:28,  5.52s/it]"
     ]
    },
    {
     "name": "stdout",
     "output_type": "stream",
     "text": [
      "15\n"
     ]
    },
    {
     "name": "stderr",
     "output_type": "stream",
     "text": [
      "\r",
      "  8%|██████▋                                                                          | 17/206 [02:50<17:24,  5.52s/it]"
     ]
    },
    {
     "name": "stdout",
     "output_type": "stream",
     "text": [
      "16\n"
     ]
    },
    {
     "name": "stderr",
     "output_type": "stream",
     "text": [
      "\r",
      "  9%|███████                                                                          | 18/206 [02:55<17:08,  5.47s/it]"
     ]
    },
    {
     "name": "stdout",
     "output_type": "stream",
     "text": [
      "17\n"
     ]
    },
    {
     "name": "stderr",
     "output_type": "stream",
     "text": [
      "\r",
      "  9%|███████▍                                                                         | 19/206 [02:59<15:26,  4.95s/it]"
     ]
    },
    {
     "name": "stdout",
     "output_type": "stream",
     "text": [
      "18\n"
     ]
    },
    {
     "name": "stderr",
     "output_type": "stream",
     "text": [
      "\r",
      " 10%|███████▊                                                                         | 20/206 [03:00<11:38,  3.75s/it]"
     ]
    },
    {
     "name": "stdout",
     "output_type": "stream",
     "text": [
      "19\n"
     ]
    },
    {
     "name": "stderr",
     "output_type": "stream",
     "text": [
      "\r",
      " 10%|████████▎                                                                        | 21/206 [03:05<13:01,  4.22s/it]"
     ]
    },
    {
     "name": "stdout",
     "output_type": "stream",
     "text": [
      "20\n"
     ]
    },
    {
     "name": "stderr",
     "output_type": "stream",
     "text": [
      "\r",
      " 11%|████████▋                                                                        | 22/206 [03:13<16:21,  5.33s/it]"
     ]
    },
    {
     "name": "stdout",
     "output_type": "stream",
     "text": [
      "21\n"
     ]
    },
    {
     "name": "stderr",
     "output_type": "stream",
     "text": [
      "\r",
      " 11%|█████████                                                                        | 23/206 [03:18<15:37,  5.13s/it]"
     ]
    },
    {
     "name": "stdout",
     "output_type": "stream",
     "text": [
      "22\n"
     ]
    },
    {
     "name": "stderr",
     "output_type": "stream",
     "text": [
      "\r",
      " 12%|█████████▍                                                                       | 24/206 [03:24<16:29,  5.43s/it]"
     ]
    },
    {
     "name": "stdout",
     "output_type": "stream",
     "text": [
      "23\n"
     ]
    },
    {
     "name": "stderr",
     "output_type": "stream",
     "text": [
      "\r",
      " 12%|█████████▊                                                                       | 25/206 [03:31<17:55,  5.94s/it]"
     ]
    },
    {
     "name": "stdout",
     "output_type": "stream",
     "text": [
      "24\n"
     ]
    },
    {
     "name": "stderr",
     "output_type": "stream",
     "text": [
      "\r",
      " 13%|██████████▏                                                                      | 26/206 [03:40<20:06,  6.70s/it]"
     ]
    },
    {
     "name": "stdout",
     "output_type": "stream",
     "text": [
      "25\n"
     ]
    },
    {
     "name": "stderr",
     "output_type": "stream",
     "text": [
      "\r",
      " 13%|██████████▌                                                                      | 27/206 [03:43<17:30,  5.87s/it]"
     ]
    },
    {
     "name": "stdout",
     "output_type": "stream",
     "text": [
      "26\n"
     ]
    },
    {
     "name": "stderr",
     "output_type": "stream",
     "text": [
      "\r",
      " 14%|███████████                                                                      | 28/206 [03:48<15:53,  5.36s/it]"
     ]
    },
    {
     "name": "stdout",
     "output_type": "stream",
     "text": [
      "27\n"
     ]
    },
    {
     "name": "stderr",
     "output_type": "stream",
     "text": [
      "\r",
      " 14%|███████████▍                                                                     | 29/206 [04:05<26:51,  9.10s/it]"
     ]
    },
    {
     "name": "stdout",
     "output_type": "stream",
     "text": [
      "28\n"
     ]
    },
    {
     "name": "stderr",
     "output_type": "stream",
     "text": [
      "\r",
      " 15%|███████████▊                                                                     | 30/206 [04:16<27:34,  9.40s/it]"
     ]
    },
    {
     "name": "stdout",
     "output_type": "stream",
     "text": [
      "29\n"
     ]
    },
    {
     "name": "stderr",
     "output_type": "stream",
     "text": [
      "\r",
      " 15%|████████████▏                                                                    | 31/206 [04:38<38:34, 13.23s/it]"
     ]
    },
    {
     "name": "stdout",
     "output_type": "stream",
     "text": [
      "30\n"
     ]
    },
    {
     "name": "stderr",
     "output_type": "stream",
     "text": [
      "\r",
      " 16%|████████████▌                                                                    | 32/206 [04:42<30:52, 10.65s/it]"
     ]
    },
    {
     "name": "stdout",
     "output_type": "stream",
     "text": [
      "31\n"
     ]
    },
    {
     "name": "stderr",
     "output_type": "stream",
     "text": [
      "\r",
      " 16%|████████████▉                                                                    | 33/206 [04:46<24:47,  8.60s/it]"
     ]
    },
    {
     "name": "stdout",
     "output_type": "stream",
     "text": [
      "32\n"
     ]
    },
    {
     "name": "stderr",
     "output_type": "stream",
     "text": [
      "\r",
      " 17%|█████████████▎                                                                   | 34/206 [04:56<25:27,  8.88s/it]"
     ]
    },
    {
     "name": "stdout",
     "output_type": "stream",
     "text": [
      "33\n"
     ]
    },
    {
     "name": "stderr",
     "output_type": "stream",
     "text": [
      "\r",
      " 17%|█████████████▊                                                                   | 35/206 [05:00<21:33,  7.56s/it]"
     ]
    },
    {
     "name": "stdout",
     "output_type": "stream",
     "text": [
      "34\n"
     ]
    },
    {
     "name": "stderr",
     "output_type": "stream",
     "text": [
      "\r",
      " 17%|██████████████▏                                                                  | 36/206 [05:06<20:15,  7.15s/it]"
     ]
    },
    {
     "name": "stdout",
     "output_type": "stream",
     "text": [
      "35\n"
     ]
    },
    {
     "name": "stderr",
     "output_type": "stream",
     "text": [
      "\r",
      " 18%|██████████████▌                                                                  | 37/206 [05:14<20:19,  7.21s/it]"
     ]
    },
    {
     "name": "stdout",
     "output_type": "stream",
     "text": [
      "36\n"
     ]
    },
    {
     "name": "stderr",
     "output_type": "stream",
     "text": [
      "\r",
      " 18%|██████████████▉                                                                  | 38/206 [05:17<17:11,  6.14s/it]"
     ]
    },
    {
     "name": "stdout",
     "output_type": "stream",
     "text": [
      "37\n"
     ]
    },
    {
     "name": "stderr",
     "output_type": "stream",
     "text": [
      "\r",
      " 19%|███████████████▎                                                                 | 39/206 [05:26<18:59,  6.82s/it]"
     ]
    },
    {
     "name": "stdout",
     "output_type": "stream",
     "text": [
      "38\n"
     ]
    },
    {
     "name": "stderr",
     "output_type": "stream",
     "text": [
      "\r",
      " 19%|███████████████▋                                                                 | 40/206 [05:31<17:42,  6.40s/it]"
     ]
    },
    {
     "name": "stdout",
     "output_type": "stream",
     "text": [
      "39\n"
     ]
    },
    {
     "name": "stderr",
     "output_type": "stream",
     "text": [
      "\r",
      " 20%|████████████████                                                                 | 41/206 [05:34<14:13,  5.17s/it]"
     ]
    },
    {
     "name": "stdout",
     "output_type": "stream",
     "text": [
      "40\n"
     ]
    },
    {
     "name": "stderr",
     "output_type": "stream",
     "text": [
      "\r",
      " 20%|████████████████▌                                                                | 42/206 [05:39<14:30,  5.31s/it]"
     ]
    },
    {
     "name": "stdout",
     "output_type": "stream",
     "text": [
      "41\n"
     ]
    },
    {
     "name": "stderr",
     "output_type": "stream",
     "text": [
      "\r",
      " 21%|████████████████▉                                                                | 43/206 [05:46<15:47,  5.81s/it]"
     ]
    },
    {
     "name": "stdout",
     "output_type": "stream",
     "text": [
      "42\n"
     ]
    },
    {
     "name": "stderr",
     "output_type": "stream",
     "text": [
      "\r",
      " 21%|█████████████████▎                                                               | 44/206 [05:50<14:19,  5.30s/it]"
     ]
    },
    {
     "name": "stdout",
     "output_type": "stream",
     "text": [
      "43\n",
      "44\n"
     ]
    },
    {
     "name": "stderr",
     "output_type": "stream",
     "text": [
      " 22%|██████████████████                                                               | 46/206 [06:01<13:46,  5.16s/it]"
     ]
    },
    {
     "name": "stdout",
     "output_type": "stream",
     "text": [
      "45\n"
     ]
    },
    {
     "name": "stderr",
     "output_type": "stream",
     "text": [
      "\r",
      " 23%|██████████████████                                                             | 47/206 [07:39<1:28:03, 33.23s/it]"
     ]
    },
    {
     "name": "stdout",
     "output_type": "stream",
     "text": [
      "46\n"
     ]
    },
    {
     "name": "stderr",
     "output_type": "stream",
     "text": [
      "\r",
      " 23%|██████████████████▍                                                            | 48/206 [07:47<1:07:05, 25.48s/it]"
     ]
    },
    {
     "name": "stdout",
     "output_type": "stream",
     "text": [
      "47\n"
     ]
    },
    {
     "name": "stderr",
     "output_type": "stream",
     "text": [
      "\r",
      " 24%|███████████████████▎                                                             | 49/206 [07:51<49:55, 19.08s/it]"
     ]
    },
    {
     "name": "stdout",
     "output_type": "stream",
     "text": [
      "48\n"
     ]
    },
    {
     "name": "stderr",
     "output_type": "stream",
     "text": [
      "\r",
      " 24%|███████████████████▋                                                             | 50/206 [07:58<40:42, 15.66s/it]"
     ]
    },
    {
     "name": "stdout",
     "output_type": "stream",
     "text": [
      "49\n"
     ]
    },
    {
     "name": "stderr",
     "output_type": "stream",
     "text": [
      "\r",
      " 25%|████████████████████                                                             | 51/206 [08:05<33:06, 12.82s/it]"
     ]
    },
    {
     "name": "stdout",
     "output_type": "stream",
     "text": [
      "50\n"
     ]
    },
    {
     "name": "stderr",
     "output_type": "stream",
     "text": [
      "\r",
      " 25%|████████████████████▍                                                            | 52/206 [08:12<28:47, 11.21s/it]"
     ]
    },
    {
     "name": "stdout",
     "output_type": "stream",
     "text": [
      "51\n"
     ]
    },
    {
     "name": "stderr",
     "output_type": "stream",
     "text": [
      "\r",
      " 26%|████████████████████▊                                                            | 53/206 [08:16<22:54,  8.98s/it]"
     ]
    },
    {
     "name": "stdout",
     "output_type": "stream",
     "text": [
      "52\n"
     ]
    },
    {
     "name": "stderr",
     "output_type": "stream",
     "text": [
      "\r",
      " 26%|█████████████████████▏                                                           | 54/206 [08:22<20:13,  7.98s/it]"
     ]
    },
    {
     "name": "stdout",
     "output_type": "stream",
     "text": [
      "53\n"
     ]
    },
    {
     "name": "stderr",
     "output_type": "stream",
     "text": [
      "\r",
      " 27%|█████████████████████▋                                                           | 55/206 [08:36<24:42,  9.82s/it]"
     ]
    },
    {
     "name": "stdout",
     "output_type": "stream",
     "text": [
      "54\n"
     ]
    },
    {
     "name": "stderr",
     "output_type": "stream",
     "text": [
      "\r",
      " 27%|██████████████████████                                                           | 56/206 [08:40<20:45,  8.30s/it]"
     ]
    },
    {
     "name": "stdout",
     "output_type": "stream",
     "text": [
      "55\n"
     ]
    },
    {
     "name": "stderr",
     "output_type": "stream",
     "text": [
      "\r",
      " 28%|██████████████████████▍                                                          | 57/206 [08:42<15:19,  6.17s/it]"
     ]
    },
    {
     "name": "stdout",
     "output_type": "stream",
     "text": [
      "56\n"
     ]
    },
    {
     "name": "stderr",
     "output_type": "stream",
     "text": [
      "\r",
      " 28%|██████████████████████▊                                                          | 58/206 [08:48<15:05,  6.11s/it]"
     ]
    },
    {
     "name": "stdout",
     "output_type": "stream",
     "text": [
      "57\n"
     ]
    },
    {
     "name": "stderr",
     "output_type": "stream",
     "text": [
      "\r",
      " 29%|███████████████████████▏                                                         | 59/206 [08:52<13:38,  5.56s/it]"
     ]
    },
    {
     "name": "stdout",
     "output_type": "stream",
     "text": [
      "58\n"
     ]
    },
    {
     "name": "stderr",
     "output_type": "stream",
     "text": [
      "\r",
      " 29%|███████████████████████▌                                                         | 60/206 [09:04<18:28,  7.59s/it]"
     ]
    },
    {
     "name": "stdout",
     "output_type": "stream",
     "text": [
      "59\n"
     ]
    },
    {
     "name": "stderr",
     "output_type": "stream",
     "text": [
      "\r",
      " 30%|███████████████████████▉                                                         | 61/206 [09:11<17:37,  7.29s/it]"
     ]
    },
    {
     "name": "stdout",
     "output_type": "stream",
     "text": [
      "60\n"
     ]
    },
    {
     "name": "stderr",
     "output_type": "stream",
     "text": [
      "\r",
      " 30%|████████████████████████▍                                                        | 62/206 [09:15<15:28,  6.45s/it]"
     ]
    },
    {
     "name": "stdout",
     "output_type": "stream",
     "text": [
      "61\n"
     ]
    },
    {
     "name": "stderr",
     "output_type": "stream",
     "text": [
      "\r",
      " 31%|████████████████████████▊                                                        | 63/206 [09:24<17:07,  7.19s/it]"
     ]
    },
    {
     "name": "stdout",
     "output_type": "stream",
     "text": [
      "62\n"
     ]
    },
    {
     "name": "stderr",
     "output_type": "stream",
     "text": [
      "\r",
      " 31%|█████████████████████████▏                                                       | 64/206 [09:37<20:45,  8.77s/it]"
     ]
    },
    {
     "name": "stdout",
     "output_type": "stream",
     "text": [
      "63\n"
     ]
    },
    {
     "name": "stderr",
     "output_type": "stream",
     "text": [
      "\r",
      " 32%|█████████████████████████▌                                                       | 65/206 [09:42<18:01,  7.67s/it]"
     ]
    },
    {
     "name": "stdout",
     "output_type": "stream",
     "text": [
      "64\n"
     ]
    },
    {
     "name": "stderr",
     "output_type": "stream",
     "text": [
      "\r",
      " 32%|█████████████████████████▉                                                       | 66/206 [09:51<18:56,  8.11s/it]"
     ]
    },
    {
     "name": "stdout",
     "output_type": "stream",
     "text": [
      "65\n"
     ]
    },
    {
     "name": "stderr",
     "output_type": "stream",
     "text": [
      "\r",
      " 33%|██████████████████████████▎                                                      | 67/206 [09:59<18:35,  8.03s/it]"
     ]
    },
    {
     "name": "stdout",
     "output_type": "stream",
     "text": [
      "66\n"
     ]
    },
    {
     "name": "stderr",
     "output_type": "stream",
     "text": [
      "\r",
      " 33%|██████████████████████████▋                                                      | 68/206 [10:03<15:48,  6.87s/it]"
     ]
    },
    {
     "name": "stdout",
     "output_type": "stream",
     "text": [
      "67\n"
     ]
    },
    {
     "name": "stderr",
     "output_type": "stream",
     "text": [
      "\r",
      " 33%|███████████████████████████▏                                                     | 69/206 [10:10<15:39,  6.86s/it]"
     ]
    },
    {
     "name": "stdout",
     "output_type": "stream",
     "text": [
      "68\n"
     ]
    },
    {
     "name": "stderr",
     "output_type": "stream",
     "text": [
      "\r",
      " 34%|███████████████████████████▌                                                     | 70/206 [10:13<13:23,  5.91s/it]"
     ]
    },
    {
     "name": "stdout",
     "output_type": "stream",
     "text": [
      "69\n"
     ]
    },
    {
     "name": "stderr",
     "output_type": "stream",
     "text": [
      "\r",
      " 34%|███████████████████████████▉                                                     | 71/206 [10:22<15:18,  6.80s/it]"
     ]
    },
    {
     "name": "stdout",
     "output_type": "stream",
     "text": [
      "70\n"
     ]
    },
    {
     "name": "stderr",
     "output_type": "stream",
     "text": [
      "\r",
      " 35%|████████████████████████████▎                                                    | 72/206 [10:27<13:48,  6.18s/it]"
     ]
    },
    {
     "name": "stdout",
     "output_type": "stream",
     "text": [
      "71\n"
     ]
    },
    {
     "name": "stderr",
     "output_type": "stream",
     "text": [
      "\r",
      " 35%|████████████████████████████▋                                                    | 73/206 [10:28<10:20,  4.67s/it]"
     ]
    },
    {
     "name": "stdout",
     "output_type": "stream",
     "text": [
      "72\n"
     ]
    },
    {
     "name": "stderr",
     "output_type": "stream",
     "text": [
      "\r",
      " 36%|█████████████████████████████                                                    | 74/206 [10:33<10:14,  4.65s/it]"
     ]
    },
    {
     "name": "stdout",
     "output_type": "stream",
     "text": [
      "73\n"
     ]
    },
    {
     "name": "stderr",
     "output_type": "stream",
     "text": [
      "\r",
      " 36%|█████████████████████████████▍                                                   | 75/206 [10:36<09:25,  4.32s/it]"
     ]
    },
    {
     "name": "stdout",
     "output_type": "stream",
     "text": [
      "74\n"
     ]
    },
    {
     "name": "stderr",
     "output_type": "stream",
     "text": [
      "\r",
      " 37%|█████████████████████████████▉                                                   | 76/206 [10:51<15:49,  7.31s/it]"
     ]
    },
    {
     "name": "stdout",
     "output_type": "stream",
     "text": [
      "75\n"
     ]
    },
    {
     "name": "stderr",
     "output_type": "stream",
     "text": [
      "\r",
      " 37%|██████████████████████████████▎                                                  | 77/206 [10:53<12:32,  5.83s/it]"
     ]
    },
    {
     "name": "stdout",
     "output_type": "stream",
     "text": [
      "76\n"
     ]
    },
    {
     "name": "stderr",
     "output_type": "stream",
     "text": [
      "\r",
      " 38%|██████████████████████████████▋                                                  | 78/206 [10:55<09:57,  4.66s/it]"
     ]
    },
    {
     "name": "stdout",
     "output_type": "stream",
     "text": [
      "77\n"
     ]
    },
    {
     "name": "stderr",
     "output_type": "stream",
     "text": [
      "\r",
      " 38%|███████████████████████████████                                                  | 79/206 [11:01<10:26,  4.93s/it]"
     ]
    },
    {
     "name": "stdout",
     "output_type": "stream",
     "text": [
      "78\n"
     ]
    },
    {
     "name": "stderr",
     "output_type": "stream",
     "text": [
      "\r",
      " 39%|███████████████████████████████▍                                                 | 80/206 [11:35<28:47, 13.71s/it]"
     ]
    },
    {
     "name": "stdout",
     "output_type": "stream",
     "text": [
      "79\n"
     ]
    },
    {
     "name": "stderr",
     "output_type": "stream",
     "text": [
      "\r",
      " 39%|███████████████████████████████▊                                                 | 81/206 [11:39<22:46, 10.93s/it]"
     ]
    },
    {
     "name": "stdout",
     "output_type": "stream",
     "text": [
      "80\n"
     ]
    },
    {
     "name": "stderr",
     "output_type": "stream",
     "text": [
      "\r",
      " 40%|████████████████████████████████▏                                                | 82/206 [12:01<29:06, 14.09s/it]"
     ]
    },
    {
     "name": "stdout",
     "output_type": "stream",
     "text": [
      "81\n"
     ]
    },
    {
     "name": "stderr",
     "output_type": "stream",
     "text": [
      "\r",
      " 40%|████████████████████████████████▋                                                | 83/206 [12:04<22:12, 10.83s/it]"
     ]
    },
    {
     "name": "stdout",
     "output_type": "stream",
     "text": [
      "82\n"
     ]
    },
    {
     "name": "stderr",
     "output_type": "stream",
     "text": [
      "\r",
      " 41%|█████████████████████████████████                                                | 84/206 [12:05<16:07,  7.93s/it]"
     ]
    },
    {
     "name": "stdout",
     "output_type": "stream",
     "text": [
      "83\n"
     ]
    },
    {
     "name": "stderr",
     "output_type": "stream",
     "text": [
      "\r",
      " 41%|█████████████████████████████████▍                                               | 85/206 [12:11<15:01,  7.45s/it]"
     ]
    },
    {
     "name": "stdout",
     "output_type": "stream",
     "text": [
      "84\n"
     ]
    },
    {
     "name": "stderr",
     "output_type": "stream",
     "text": [
      "\r",
      " 42%|█████████████████████████████████▊                                               | 86/206 [12:21<16:16,  8.14s/it]"
     ]
    },
    {
     "name": "stdout",
     "output_type": "stream",
     "text": [
      "85\n"
     ]
    },
    {
     "name": "stderr",
     "output_type": "stream",
     "text": [
      "\r",
      " 42%|██████████████████████████████████▏                                              | 87/206 [12:25<13:47,  6.95s/it]"
     ]
    },
    {
     "name": "stdout",
     "output_type": "stream",
     "text": [
      "86\n"
     ]
    },
    {
     "name": "stderr",
     "output_type": "stream",
     "text": [
      "\r",
      " 43%|██████████████████████████████████▌                                              | 88/206 [12:49<23:34, 11.99s/it]"
     ]
    },
    {
     "name": "stdout",
     "output_type": "stream",
     "text": [
      "87\n"
     ]
    },
    {
     "name": "stderr",
     "output_type": "stream",
     "text": [
      "\r",
      " 43%|██████████████████████████████████▉                                              | 89/206 [12:52<18:21,  9.42s/it]"
     ]
    },
    {
     "name": "stdout",
     "output_type": "stream",
     "text": [
      "88\n"
     ]
    },
    {
     "name": "stderr",
     "output_type": "stream",
     "text": [
      "\r",
      " 44%|███████████████████████████████████▍                                             | 90/206 [12:55<14:02,  7.27s/it]"
     ]
    },
    {
     "name": "stdout",
     "output_type": "stream",
     "text": [
      "89\n"
     ]
    },
    {
     "name": "stderr",
     "output_type": "stream",
     "text": [
      "\r",
      " 44%|███████████████████████████████████▊                                             | 91/206 [12:57<11:14,  5.87s/it]"
     ]
    },
    {
     "name": "stdout",
     "output_type": "stream",
     "text": [
      "90\n"
     ]
    },
    {
     "name": "stderr",
     "output_type": "stream",
     "text": [
      "\r",
      " 45%|████████████████████████████████████▏                                            | 92/206 [13:02<10:14,  5.39s/it]"
     ]
    },
    {
     "name": "stdout",
     "output_type": "stream",
     "text": [
      "91\n"
     ]
    },
    {
     "name": "stderr",
     "output_type": "stream",
     "text": [
      "\r",
      " 45%|████████████████████████████████████▌                                            | 93/206 [13:06<09:48,  5.21s/it]"
     ]
    },
    {
     "name": "stdout",
     "output_type": "stream",
     "text": [
      "92\n"
     ]
    },
    {
     "name": "stderr",
     "output_type": "stream",
     "text": [
      "\r",
      " 46%|████████████████████████████████████▉                                            | 94/206 [13:17<12:57,  6.94s/it]"
     ]
    },
    {
     "name": "stdout",
     "output_type": "stream",
     "text": [
      "93\n"
     ]
    },
    {
     "name": "stderr",
     "output_type": "stream",
     "text": [
      "\r",
      " 46%|█████████████████████████████████████▎                                           | 95/206 [13:22<11:28,  6.20s/it]"
     ]
    },
    {
     "name": "stdout",
     "output_type": "stream",
     "text": [
      "94\n"
     ]
    },
    {
     "name": "stderr",
     "output_type": "stream",
     "text": [
      "\r",
      " 47%|█████████████████████████████████████▋                                           | 96/206 [13:27<11:03,  6.03s/it]"
     ]
    },
    {
     "name": "stdout",
     "output_type": "stream",
     "text": [
      "95\n"
     ]
    },
    {
     "name": "stderr",
     "output_type": "stream",
     "text": [
      "\r",
      " 47%|██████████████████████████████████████▏                                          | 97/206 [13:33<10:38,  5.86s/it]"
     ]
    },
    {
     "name": "stdout",
     "output_type": "stream",
     "text": [
      "96\n"
     ]
    },
    {
     "name": "stderr",
     "output_type": "stream",
     "text": [
      "\r",
      " 48%|██████████████████████████████████████▌                                          | 98/206 [13:47<14:54,  8.28s/it]"
     ]
    },
    {
     "name": "stdout",
     "output_type": "stream",
     "text": [
      "97\n"
     ]
    },
    {
     "name": "stderr",
     "output_type": "stream",
     "text": [
      "\r",
      " 48%|██████████████████████████████████████▉                                          | 99/206 [13:51<12:46,  7.17s/it]"
     ]
    },
    {
     "name": "stdout",
     "output_type": "stream",
     "text": [
      "98\n"
     ]
    },
    {
     "name": "stderr",
     "output_type": "stream",
     "text": [
      "\r",
      " 49%|██████████████████████████████████████▊                                         | 100/206 [14:02<14:27,  8.19s/it]"
     ]
    },
    {
     "name": "stdout",
     "output_type": "stream",
     "text": [
      "99\n"
     ]
    },
    {
     "name": "stderr",
     "output_type": "stream",
     "text": [
      "\r",
      " 49%|███████████████████████████████████████▏                                        | 101/206 [14:14<16:21,  9.35s/it]"
     ]
    },
    {
     "name": "stdout",
     "output_type": "stream",
     "text": [
      "100\n"
     ]
    },
    {
     "name": "stderr",
     "output_type": "stream",
     "text": [
      "\r",
      " 50%|███████████████████████████████████████▌                                        | 102/206 [14:18<13:33,  7.82s/it]"
     ]
    },
    {
     "name": "stdout",
     "output_type": "stream",
     "text": [
      "101\n"
     ]
    },
    {
     "name": "stderr",
     "output_type": "stream",
     "text": [
      "\r",
      " 50%|████████████████████████████████████████                                        | 103/206 [14:22<11:10,  6.51s/it]"
     ]
    },
    {
     "name": "stdout",
     "output_type": "stream",
     "text": [
      "102\n"
     ]
    },
    {
     "name": "stderr",
     "output_type": "stream",
     "text": [
      "\r",
      " 50%|████████████████████████████████████████▍                                       | 104/206 [14:26<09:50,  5.79s/it]"
     ]
    },
    {
     "name": "stdout",
     "output_type": "stream",
     "text": [
      "103\n"
     ]
    },
    {
     "name": "stderr",
     "output_type": "stream",
     "text": [
      "\r",
      " 51%|████████████████████████████████████████▊                                       | 105/206 [14:31<09:41,  5.75s/it]"
     ]
    },
    {
     "name": "stdout",
     "output_type": "stream",
     "text": [
      "104\n"
     ]
    },
    {
     "name": "stderr",
     "output_type": "stream",
     "text": [
      "\r",
      " 51%|█████████████████████████████████████                                   | 106/206 [8:14:38<240:09:43, 8645.84s/it]"
     ]
    },
    {
     "name": "stdout",
     "output_type": "stream",
     "text": [
      "105\n"
     ]
    },
    {
     "name": "stderr",
     "output_type": "stream",
     "text": [
      "\r",
      " 52%|█████████████████████████████████████▍                                  | 107/206 [8:14:54<166:33:57, 6056.95s/it]"
     ]
    },
    {
     "name": "stdout",
     "output_type": "stream",
     "text": [
      "106\n"
     ]
    },
    {
     "name": "stderr",
     "output_type": "stream",
     "text": [
      "\r",
      " 52%|█████████████████████████████████████▋                                  | 108/206 [8:14:59<115:27:29, 4241.32s/it]"
     ]
    },
    {
     "name": "stdout",
     "output_type": "stream",
     "text": [
      "107\n"
     ]
    },
    {
     "name": "stderr",
     "output_type": "stream",
     "text": [
      "\r",
      " 53%|██████████████████████████████████████▋                                  | 109/206 [8:15:21<80:10:46, 2975.74s/it]"
     ]
    },
    {
     "name": "stdout",
     "output_type": "stream",
     "text": [
      "108\n"
     ]
    },
    {
     "name": "stderr",
     "output_type": "stream",
     "text": [
      "\r",
      " 53%|██████████████████████████████████████▉                                  | 110/206 [8:15:32<55:37:58, 2086.23s/it]"
     ]
    },
    {
     "name": "stdout",
     "output_type": "stream",
     "text": [
      "109\n"
     ]
    },
    {
     "name": "stderr",
     "output_type": "stream",
     "text": [
      "\r",
      " 54%|███████████████████████████████████████▎                                 | 111/206 [8:15:47<38:39:14, 1464.78s/it]"
     ]
    },
    {
     "name": "stdout",
     "output_type": "stream",
     "text": [
      "110\n"
     ]
    },
    {
     "name": "stderr",
     "output_type": "stream",
     "text": [
      "\r",
      " 54%|███████████████████████████████████████▋                                 | 112/206 [8:16:03<26:54:12, 1030.35s/it]"
     ]
    },
    {
     "name": "stdout",
     "output_type": "stream",
     "text": [
      "111\n"
     ]
    },
    {
     "name": "stderr",
     "output_type": "stream",
     "text": [
      "\r",
      " 55%|████████████████████████████████████████▌                                 | 113/206 [8:16:16<18:44:00, 725.16s/it]"
     ]
    },
    {
     "name": "stdout",
     "output_type": "stream",
     "text": [
      "112\n"
     ]
    },
    {
     "name": "stderr",
     "output_type": "stream",
     "text": [
      "\r",
      " 55%|████████████████████████████████████████▉                                 | 114/206 [8:16:30<13:04:30, 511.63s/it]"
     ]
    },
    {
     "name": "stdout",
     "output_type": "stream",
     "text": [
      "113\n"
     ]
    },
    {
     "name": "stderr",
     "output_type": "stream",
     "text": [
      "\r",
      " 56%|█████████████████████████████████████████▊                                 | 115/206 [8:16:33<9:04:37, 359.09s/it]"
     ]
    },
    {
     "name": "stdout",
     "output_type": "stream",
     "text": [
      "114\n"
     ]
    },
    {
     "name": "stderr",
     "output_type": "stream",
     "text": [
      "\r",
      " 56%|██████████████████████████████████████████▏                                | 116/206 [8:16:35<6:18:01, 252.01s/it]"
     ]
    },
    {
     "name": "stdout",
     "output_type": "stream",
     "text": [
      "115\n"
     ]
    },
    {
     "name": "stderr",
     "output_type": "stream",
     "text": [
      "\r",
      " 57%|██████████████████████████████████████████▌                                | 117/206 [8:16:41<4:24:18, 178.19s/it]"
     ]
    },
    {
     "name": "stdout",
     "output_type": "stream",
     "text": [
      "116\n"
     ]
    },
    {
     "name": "stderr",
     "output_type": "stream",
     "text": [
      "\r",
      " 57%|██████████████████████████████████████████▉                                | 118/206 [8:16:51<3:07:28, 127.83s/it]"
     ]
    },
    {
     "name": "stdout",
     "output_type": "stream",
     "text": [
      "117\n"
     ]
    },
    {
     "name": "stderr",
     "output_type": "stream",
     "text": [
      "\r",
      " 58%|███████████████████████████████████████████▉                                | 119/206 [8:16:56<2:11:40, 90.81s/it]"
     ]
    },
    {
     "name": "stdout",
     "output_type": "stream",
     "text": [
      "118\n"
     ]
    },
    {
     "name": "stderr",
     "output_type": "stream",
     "text": [
      "[17:16:20] UFFTYPER: Unrecognized atom type: Se2+2 (25)\n",
      "[17:16:20] UFFTYPER: Unrecognized atom type: Se2+2 (72)\n",
      " 58%|████████████████████████████████████████████▎                               | 120/206 [8:17:00<1:32:45, 64.72s/it]"
     ]
    },
    {
     "name": "stdout",
     "output_type": "stream",
     "text": [
      "119\n"
     ]
    },
    {
     "name": "stderr",
     "output_type": "stream",
     "text": [
      "\r",
      " 59%|████████████████████████████████████████████▋                               | 121/206 [8:17:05<1:06:14, 46.76s/it]"
     ]
    },
    {
     "name": "stdout",
     "output_type": "stream",
     "text": [
      "120\n"
     ]
    },
    {
     "name": "stderr",
     "output_type": "stream",
     "text": [
      "\r",
      " 59%|██████████████████████████████████████████████▏                               | 122/206 [8:17:12<48:44, 34.82s/it]"
     ]
    },
    {
     "name": "stdout",
     "output_type": "stream",
     "text": [
      "121\n"
     ]
    },
    {
     "name": "stderr",
     "output_type": "stream",
     "text": [
      "\r",
      " 60%|██████████████████████████████████████████████▌                               | 123/206 [8:17:18<36:32, 26.42s/it]"
     ]
    },
    {
     "name": "stdout",
     "output_type": "stream",
     "text": [
      "122\n"
     ]
    },
    {
     "name": "stderr",
     "output_type": "stream",
     "text": [
      "\r",
      " 60%|██████████████████████████████████████████████▉                               | 124/206 [8:17:23<27:12, 19.91s/it]"
     ]
    },
    {
     "name": "stdout",
     "output_type": "stream",
     "text": [
      "123\n"
     ]
    },
    {
     "name": "stderr",
     "output_type": "stream",
     "text": [
      "\r",
      " 61%|███████████████████████████████████████████████▎                              | 125/206 [8:17:27<20:21, 15.08s/it]"
     ]
    },
    {
     "name": "stdout",
     "output_type": "stream",
     "text": [
      "124\n"
     ]
    },
    {
     "name": "stderr",
     "output_type": "stream",
     "text": [
      "\r",
      " 61%|███████████████████████████████████████████████▋                              | 126/206 [8:17:38<18:28, 13.86s/it]"
     ]
    },
    {
     "name": "stdout",
     "output_type": "stream",
     "text": [
      "125\n"
     ]
    },
    {
     "name": "stderr",
     "output_type": "stream",
     "text": [
      "\r",
      " 62%|████████████████████████████████████████████████                              | 127/206 [8:17:42<14:12, 10.79s/it]"
     ]
    },
    {
     "name": "stdout",
     "output_type": "stream",
     "text": [
      "126\n"
     ]
    },
    {
     "name": "stderr",
     "output_type": "stream",
     "text": [
      "\r",
      " 62%|████████████████████████████████████████████████▍                             | 128/206 [8:17:46<11:25,  8.79s/it]"
     ]
    },
    {
     "name": "stdout",
     "output_type": "stream",
     "text": [
      "127\n"
     ]
    },
    {
     "name": "stderr",
     "output_type": "stream",
     "text": [
      "\r",
      " 63%|████████████████████████████████████████████████▊                             | 129/206 [8:17:55<11:19,  8.82s/it]"
     ]
    },
    {
     "name": "stdout",
     "output_type": "stream",
     "text": [
      "128\n"
     ]
    },
    {
     "name": "stderr",
     "output_type": "stream",
     "text": [
      "\r",
      " 63%|█████████████████████████████████████████████████▏                            | 130/206 [8:18:00<09:46,  7.72s/it]"
     ]
    },
    {
     "name": "stdout",
     "output_type": "stream",
     "text": [
      "129\n"
     ]
    },
    {
     "name": "stderr",
     "output_type": "stream",
     "text": [
      "\r",
      " 64%|█████████████████████████████████████████████████▌                            | 131/206 [8:18:11<11:06,  8.89s/it]"
     ]
    },
    {
     "name": "stdout",
     "output_type": "stream",
     "text": [
      "130\n"
     ]
    },
    {
     "name": "stderr",
     "output_type": "stream",
     "text": [
      "\r",
      " 64%|█████████████████████████████████████████████████▉                            | 132/206 [8:18:24<12:26, 10.08s/it]"
     ]
    },
    {
     "name": "stdout",
     "output_type": "stream",
     "text": [
      "131\n"
     ]
    },
    {
     "name": "stderr",
     "output_type": "stream",
     "text": [
      "\r",
      " 65%|██████████████████████████████████████████████████▎                           | 133/206 [8:18:27<09:38,  7.92s/it]"
     ]
    },
    {
     "name": "stdout",
     "output_type": "stream",
     "text": [
      "132\n"
     ]
    },
    {
     "name": "stderr",
     "output_type": "stream",
     "text": [
      "\r",
      " 65%|██████████████████████████████████████████████████▋                           | 134/206 [8:18:35<09:39,  8.04s/it]"
     ]
    },
    {
     "name": "stdout",
     "output_type": "stream",
     "text": [
      "133\n"
     ]
    },
    {
     "name": "stderr",
     "output_type": "stream",
     "text": [
      "\r",
      " 66%|███████████████████████████████████████████████████                           | 135/206 [8:18:47<10:38,  8.99s/it]"
     ]
    },
    {
     "name": "stdout",
     "output_type": "stream",
     "text": [
      "134\n"
     ]
    },
    {
     "name": "stderr",
     "output_type": "stream",
     "text": [
      "\r",
      " 66%|███████████████████████████████████████████████████▍                          | 136/206 [8:18:55<10:14,  8.78s/it]"
     ]
    },
    {
     "name": "stdout",
     "output_type": "stream",
     "text": [
      "135\n"
     ]
    },
    {
     "name": "stderr",
     "output_type": "stream",
     "text": [
      "\r",
      " 67%|███████████████████████████████████████████████████▊                          | 137/206 [8:18:58<08:18,  7.23s/it]"
     ]
    },
    {
     "name": "stdout",
     "output_type": "stream",
     "text": [
      "136\n"
     ]
    },
    {
     "name": "stderr",
     "output_type": "stream",
     "text": [
      "\r",
      " 67%|████████████████████████████████████████████████████▎                         | 138/206 [8:19:04<07:35,  6.70s/it]"
     ]
    },
    {
     "name": "stdout",
     "output_type": "stream",
     "text": [
      "137\n"
     ]
    },
    {
     "name": "stderr",
     "output_type": "stream",
     "text": [
      "\r",
      " 67%|████████████████████████████████████████████████████▋                         | 139/206 [8:19:12<07:58,  7.15s/it]"
     ]
    },
    {
     "name": "stdout",
     "output_type": "stream",
     "text": [
      "138\n"
     ]
    },
    {
     "name": "stderr",
     "output_type": "stream",
     "text": [
      "\r",
      " 68%|█████████████████████████████████████████████████████                         | 140/206 [8:19:16<06:37,  6.02s/it]"
     ]
    },
    {
     "name": "stdout",
     "output_type": "stream",
     "text": [
      "139\n"
     ]
    },
    {
     "name": "stderr",
     "output_type": "stream",
     "text": [
      "\r",
      " 68%|█████████████████████████████████████████████████████▍                        | 141/206 [8:19:23<06:54,  6.38s/it]"
     ]
    },
    {
     "name": "stdout",
     "output_type": "stream",
     "text": [
      "140\n"
     ]
    },
    {
     "name": "stderr",
     "output_type": "stream",
     "text": [
      "\r",
      " 69%|█████████████████████████████████████████████████████▊                        | 142/206 [8:19:32<07:38,  7.16s/it]"
     ]
    },
    {
     "name": "stdout",
     "output_type": "stream",
     "text": [
      "141\n"
     ]
    },
    {
     "name": "stderr",
     "output_type": "stream",
     "text": [
      "\r",
      " 69%|██████████████████████████████████████████████████████▏                       | 143/206 [8:19:37<06:46,  6.45s/it]"
     ]
    },
    {
     "name": "stdout",
     "output_type": "stream",
     "text": [
      "142\n"
     ]
    },
    {
     "name": "stderr",
     "output_type": "stream",
     "text": [
      "\r",
      " 70%|██████████████████████████████████████████████████████▌                       | 144/206 [8:19:41<06:10,  5.98s/it]"
     ]
    },
    {
     "name": "stdout",
     "output_type": "stream",
     "text": [
      "143\n"
     ]
    },
    {
     "name": "stderr",
     "output_type": "stream",
     "text": [
      "\r",
      " 70%|██████████████████████████████████████████████████████▉                       | 145/206 [8:19:46<05:33,  5.47s/it]"
     ]
    },
    {
     "name": "stdout",
     "output_type": "stream",
     "text": [
      "144\n"
     ]
    },
    {
     "name": "stderr",
     "output_type": "stream",
     "text": [
      "\r",
      " 71%|███████████████████████████████████████████████████████▎                      | 146/206 [8:19:51<05:19,  5.33s/it]"
     ]
    },
    {
     "name": "stdout",
     "output_type": "stream",
     "text": [
      "145\n"
     ]
    },
    {
     "name": "stderr",
     "output_type": "stream",
     "text": [
      "\r",
      " 71%|███████████████████████████████████████████████████████▋                      | 147/206 [8:19:58<05:53,  5.99s/it]"
     ]
    },
    {
     "name": "stdout",
     "output_type": "stream",
     "text": [
      "146\n"
     ]
    },
    {
     "name": "stderr",
     "output_type": "stream",
     "text": [
      "\r",
      " 72%|████████████████████████████████████████████████████████                      | 148/206 [8:20:08<06:58,  7.22s/it]"
     ]
    },
    {
     "name": "stdout",
     "output_type": "stream",
     "text": [
      "147\n"
     ]
    },
    {
     "name": "stderr",
     "output_type": "stream",
     "text": [
      "\r",
      " 72%|████████████████████████████████████████████████████████▍                     | 149/206 [8:20:15<06:45,  7.12s/it]"
     ]
    },
    {
     "name": "stdout",
     "output_type": "stream",
     "text": [
      "148\n"
     ]
    },
    {
     "name": "stderr",
     "output_type": "stream",
     "text": [
      "[17:19:39] UFFTYPER: Unrecognized atom type: Se2+2 (53)\n",
      "[17:19:39] UFFTYPER: Unrecognized atom type: Se2+2 (85)\n",
      " 73%|████████████████████████████████████████████████████████▊                     | 150/206 [8:20:19<05:48,  6.23s/it]"
     ]
    },
    {
     "name": "stdout",
     "output_type": "stream",
     "text": [
      "149\n"
     ]
    },
    {
     "name": "stderr",
     "output_type": "stream",
     "text": [
      "\r",
      " 73%|█████████████████████████████████████████████████████████▏                    | 151/206 [8:20:24<05:12,  5.68s/it]"
     ]
    },
    {
     "name": "stdout",
     "output_type": "stream",
     "text": [
      "150\n"
     ]
    },
    {
     "name": "stderr",
     "output_type": "stream",
     "text": [
      "\r",
      " 74%|█████████████████████████████████████████████████████████▌                    | 152/206 [8:20:28<04:43,  5.25s/it]"
     ]
    },
    {
     "name": "stdout",
     "output_type": "stream",
     "text": [
      "151\n"
     ]
    },
    {
     "name": "stderr",
     "output_type": "stream",
     "text": [
      "\r",
      " 74%|█████████████████████████████████████████████████████████▉                    | 153/206 [8:20:37<05:45,  6.52s/it]"
     ]
    },
    {
     "name": "stdout",
     "output_type": "stream",
     "text": [
      "152\n"
     ]
    },
    {
     "name": "stderr",
     "output_type": "stream",
     "text": [
      "\r",
      " 75%|██████████████████████████████████████████████████████████▎                   | 154/206 [8:20:46<06:08,  7.08s/it]"
     ]
    },
    {
     "name": "stdout",
     "output_type": "stream",
     "text": [
      "153\n"
     ]
    },
    {
     "name": "stderr",
     "output_type": "stream",
     "text": [
      "\r",
      " 75%|██████████████████████████████████████████████████████████▋                   | 155/206 [8:21:00<07:46,  9.15s/it]"
     ]
    },
    {
     "name": "stdout",
     "output_type": "stream",
     "text": [
      "154\n"
     ]
    },
    {
     "name": "stderr",
     "output_type": "stream",
     "text": [
      "\r",
      " 76%|███████████████████████████████████████████████████████████                   | 156/206 [8:21:08<07:15,  8.71s/it]"
     ]
    },
    {
     "name": "stdout",
     "output_type": "stream",
     "text": [
      "155\n"
     ]
    },
    {
     "name": "stderr",
     "output_type": "stream",
     "text": [
      "\r",
      " 76%|███████████████████████████████████████████████████████████▍                  | 157/206 [8:21:14<06:26,  7.89s/it]"
     ]
    },
    {
     "name": "stdout",
     "output_type": "stream",
     "text": [
      "156\n"
     ]
    },
    {
     "name": "stderr",
     "output_type": "stream",
     "text": [
      "\r",
      " 77%|███████████████████████████████████████████████████████████▊                  | 158/206 [8:22:52<28:06, 35.14s/it]"
     ]
    },
    {
     "name": "stdout",
     "output_type": "stream",
     "text": [
      "157\n"
     ]
    },
    {
     "name": "stderr",
     "output_type": "stream",
     "text": [
      "\r",
      " 77%|████████████████████████████████████████████████████████████▏                 | 159/206 [8:22:57<20:17, 25.90s/it]"
     ]
    },
    {
     "name": "stdout",
     "output_type": "stream",
     "text": [
      "158\n"
     ]
    },
    {
     "name": "stderr",
     "output_type": "stream",
     "text": [
      "\r",
      " 78%|████████████████████████████████████████████████████████████▌                 | 160/206 [8:23:02<15:03, 19.64s/it]"
     ]
    },
    {
     "name": "stdout",
     "output_type": "stream",
     "text": [
      "159\n"
     ]
    },
    {
     "name": "stderr",
     "output_type": "stream",
     "text": [
      "\r",
      " 78%|████████████████████████████████████████████████████████████▉                 | 161/206 [8:23:07<11:24, 15.22s/it]"
     ]
    },
    {
     "name": "stdout",
     "output_type": "stream",
     "text": [
      "160\n"
     ]
    },
    {
     "name": "stderr",
     "output_type": "stream",
     "text": [
      "\r",
      " 79%|█████████████████████████████████████████████████████████████▎                | 162/206 [8:23:19<10:33, 14.40s/it]"
     ]
    },
    {
     "name": "stdout",
     "output_type": "stream",
     "text": [
      "161\n"
     ]
    },
    {
     "name": "stderr",
     "output_type": "stream",
     "text": [
      "\r",
      " 79%|█████████████████████████████████████████████████████████████▋                | 163/206 [8:23:26<08:47, 12.27s/it]"
     ]
    },
    {
     "name": "stdout",
     "output_type": "stream",
     "text": [
      "162\n"
     ]
    },
    {
     "name": "stderr",
     "output_type": "stream",
     "text": [
      "\r",
      " 80%|██████████████████████████████████████████████████████████████                | 164/206 [8:23:36<07:58, 11.40s/it]"
     ]
    },
    {
     "name": "stdout",
     "output_type": "stream",
     "text": [
      "163\n"
     ]
    },
    {
     "name": "stderr",
     "output_type": "stream",
     "text": [
      "\r",
      " 80%|██████████████████████████████████████████████████████████████▍               | 165/206 [8:23:44<07:14, 10.59s/it]"
     ]
    },
    {
     "name": "stdout",
     "output_type": "stream",
     "text": [
      "164\n"
     ]
    },
    {
     "name": "stderr",
     "output_type": "stream",
     "text": [
      "\r",
      " 81%|██████████████████████████████████████████████████████████████▊               | 166/206 [8:23:50<05:59,  8.98s/it]"
     ]
    },
    {
     "name": "stdout",
     "output_type": "stream",
     "text": [
      "165\n"
     ]
    },
    {
     "name": "stderr",
     "output_type": "stream",
     "text": [
      "\r",
      " 81%|███████████████████████████████████████████████████████████████▏              | 167/206 [8:24:19<09:49, 15.12s/it]"
     ]
    },
    {
     "name": "stdout",
     "output_type": "stream",
     "text": [
      "166\n"
     ]
    },
    {
     "name": "stderr",
     "output_type": "stream",
     "text": [
      "\r",
      " 82%|███████████████████████████████████████████████████████████████▌              | 168/206 [8:24:23<07:24, 11.69s/it]"
     ]
    },
    {
     "name": "stdout",
     "output_type": "stream",
     "text": [
      "167\n"
     ]
    },
    {
     "name": "stderr",
     "output_type": "stream",
     "text": [
      "\r",
      " 82%|███████████████████████████████████████████████████████████████▉              | 169/206 [8:24:33<06:59, 11.33s/it]"
     ]
    },
    {
     "name": "stdout",
     "output_type": "stream",
     "text": [
      "168\n"
     ]
    },
    {
     "name": "stderr",
     "output_type": "stream",
     "text": [
      "\r",
      " 83%|████████████████████████████████████████████████████████████████▎             | 170/206 [8:24:38<05:33,  9.27s/it]"
     ]
    },
    {
     "name": "stdout",
     "output_type": "stream",
     "text": [
      "169\n"
     ]
    },
    {
     "name": "stderr",
     "output_type": "stream",
     "text": [
      "\r",
      " 83%|████████████████████████████████████████████████████████████████▋             | 171/206 [8:25:36<13:56, 23.91s/it]"
     ]
    },
    {
     "name": "stdout",
     "output_type": "stream",
     "text": [
      "170\n"
     ]
    },
    {
     "name": "stderr",
     "output_type": "stream",
     "text": [
      "\r",
      " 83%|█████████████████████████████████████████████████████████████████▏            | 172/206 [8:25:37<09:39, 17.04s/it]"
     ]
    },
    {
     "name": "stdout",
     "output_type": "stream",
     "text": [
      "171\n"
     ]
    },
    {
     "name": "stderr",
     "output_type": "stream",
     "text": [
      "\r",
      " 84%|█████████████████████████████████████████████████████████████████▌            | 173/206 [8:25:53<09:17, 16.89s/it]"
     ]
    },
    {
     "name": "stdout",
     "output_type": "stream",
     "text": [
      "172\n"
     ]
    },
    {
     "name": "stderr",
     "output_type": "stream",
     "text": [
      "\r",
      " 84%|█████████████████████████████████████████████████████████████████▉            | 174/206 [8:26:17<10:05, 18.94s/it]"
     ]
    },
    {
     "name": "stdout",
     "output_type": "stream",
     "text": [
      "173\n"
     ]
    },
    {
     "name": "stderr",
     "output_type": "stream",
     "text": [
      "\r",
      " 85%|██████████████████████████████████████████████████████████████████▎           | 175/206 [8:26:24<07:58, 15.42s/it]"
     ]
    },
    {
     "name": "stdout",
     "output_type": "stream",
     "text": [
      "174\n"
     ]
    },
    {
     "name": "stderr",
     "output_type": "stream",
     "text": [
      "\r",
      " 85%|██████████████████████████████████████████████████████████████████▋           | 176/206 [8:26:28<05:59, 11.99s/it]"
     ]
    },
    {
     "name": "stdout",
     "output_type": "stream",
     "text": [
      "175\n"
     ]
    },
    {
     "name": "stderr",
     "output_type": "stream",
     "text": [
      "\r",
      " 86%|███████████████████████████████████████████████████████████████████           | 177/206 [8:26:40<05:45, 11.92s/it]"
     ]
    },
    {
     "name": "stdout",
     "output_type": "stream",
     "text": [
      "176\n"
     ]
    },
    {
     "name": "stderr",
     "output_type": "stream",
     "text": [
      "\r",
      " 86%|███████████████████████████████████████████████████████████████████▍          | 178/206 [8:27:11<08:12, 17.59s/it]"
     ]
    },
    {
     "name": "stdout",
     "output_type": "stream",
     "text": [
      "177\n"
     ]
    },
    {
     "name": "stderr",
     "output_type": "stream",
     "text": [
      "\r",
      " 87%|███████████████████████████████████████████████████████████████████▊          | 179/206 [8:27:18<06:34, 14.63s/it]"
     ]
    },
    {
     "name": "stdout",
     "output_type": "stream",
     "text": [
      "178\n"
     ]
    },
    {
     "name": "stderr",
     "output_type": "stream",
     "text": [
      "\r",
      " 87%|████████████████████████████████████████████████████████████████████▏         | 180/206 [8:27:20<04:41, 10.82s/it]"
     ]
    },
    {
     "name": "stdout",
     "output_type": "stream",
     "text": [
      "179\n"
     ]
    },
    {
     "name": "stderr",
     "output_type": "stream",
     "text": [
      "\r",
      " 88%|████████████████████████████████████████████████████████████████████▌         | 181/206 [8:27:24<03:37,  8.69s/it]"
     ]
    },
    {
     "name": "stdout",
     "output_type": "stream",
     "text": [
      "180\n"
     ]
    },
    {
     "name": "stderr",
     "output_type": "stream",
     "text": [
      "\r",
      " 88%|████████████████████████████████████████████████████████████████████▉         | 182/206 [8:27:29<02:58,  7.45s/it]"
     ]
    },
    {
     "name": "stdout",
     "output_type": "stream",
     "text": [
      "181\n",
      "182\n"
     ]
    },
    {
     "name": "stderr",
     "output_type": "stream",
     "text": [
      " 89%|█████████████████████████████████████████████████████████████████████▋        | 184/206 [8:27:36<02:06,  5.76s/it]"
     ]
    },
    {
     "name": "stdout",
     "output_type": "stream",
     "text": [
      "183\n"
     ]
    },
    {
     "name": "stderr",
     "output_type": "stream",
     "text": [
      "\r",
      " 90%|██████████████████████████████████████████████████████████████████████        | 185/206 [8:27:44<02:13,  6.38s/it]"
     ]
    },
    {
     "name": "stdout",
     "output_type": "stream",
     "text": [
      "184\n"
     ]
    },
    {
     "name": "stderr",
     "output_type": "stream",
     "text": [
      "\r",
      " 90%|██████████████████████████████████████████████████████████████████████▍       | 186/206 [8:27:52<02:16,  6.84s/it]"
     ]
    },
    {
     "name": "stdout",
     "output_type": "stream",
     "text": [
      "185\n"
     ]
    },
    {
     "name": "stderr",
     "output_type": "stream",
     "text": [
      "\r",
      " 91%|██████████████████████████████████████████████████████████████████████▊       | 187/206 [8:27:57<01:59,  6.32s/it]"
     ]
    },
    {
     "name": "stdout",
     "output_type": "stream",
     "text": [
      "186\n"
     ]
    },
    {
     "name": "stderr",
     "output_type": "stream",
     "text": [
      "\r",
      " 91%|███████████████████████████████████████████████████████████████████████▏      | 188/206 [8:28:04<01:59,  6.65s/it]"
     ]
    },
    {
     "name": "stdout",
     "output_type": "stream",
     "text": [
      "187\n"
     ]
    },
    {
     "name": "stderr",
     "output_type": "stream",
     "text": [
      "\r",
      " 92%|███████████████████████████████████████████████████████████████████████▌      | 189/206 [8:28:13<02:04,  7.32s/it]"
     ]
    },
    {
     "name": "stdout",
     "output_type": "stream",
     "text": [
      "188\n"
     ]
    },
    {
     "name": "stderr",
     "output_type": "stream",
     "text": [
      "\r",
      " 92%|███████████████████████████████████████████████████████████████████████▉      | 190/206 [8:28:27<02:29,  9.33s/it]"
     ]
    },
    {
     "name": "stdout",
     "output_type": "stream",
     "text": [
      "189\n"
     ]
    },
    {
     "name": "stderr",
     "output_type": "stream",
     "text": [
      "\r",
      " 93%|████████████████████████████████████████████████████████████████████████▎     | 191/206 [8:28:31<01:56,  7.77s/it]"
     ]
    },
    {
     "name": "stdout",
     "output_type": "stream",
     "text": [
      "190\n"
     ]
    },
    {
     "name": "stderr",
     "output_type": "stream",
     "text": [
      "\r",
      " 93%|████████████████████████████████████████████████████████████████████████▋     | 192/206 [8:28:36<01:34,  6.76s/it]"
     ]
    },
    {
     "name": "stdout",
     "output_type": "stream",
     "text": [
      "191\n"
     ]
    },
    {
     "name": "stderr",
     "output_type": "stream",
     "text": [
      "\r",
      " 94%|█████████████████████████████████████████████████████████████████████████     | 193/206 [8:28:40<01:16,  5.87s/it]"
     ]
    },
    {
     "name": "stdout",
     "output_type": "stream",
     "text": [
      "192\n"
     ]
    },
    {
     "name": "stderr",
     "output_type": "stream",
     "text": [
      "\r",
      " 94%|█████████████████████████████████████████████████████████████████████████▍    | 194/206 [8:28:43<01:02,  5.20s/it]"
     ]
    },
    {
     "name": "stdout",
     "output_type": "stream",
     "text": [
      "193\n"
     ]
    },
    {
     "name": "stderr",
     "output_type": "stream",
     "text": [
      "\r",
      " 95%|█████████████████████████████████████████████████████████████████████████▊    | 195/206 [8:28:50<01:01,  5.61s/it]"
     ]
    },
    {
     "name": "stdout",
     "output_type": "stream",
     "text": [
      "194\n"
     ]
    },
    {
     "name": "stderr",
     "output_type": "stream",
     "text": [
      "\r",
      " 95%|██████████████████████████████████████████████████████████████████████████▏   | 196/206 [8:28:54<00:52,  5.26s/it]"
     ]
    },
    {
     "name": "stdout",
     "output_type": "stream",
     "text": [
      "195\n"
     ]
    },
    {
     "name": "stderr",
     "output_type": "stream",
     "text": [
      "\r",
      " 96%|██████████████████████████████████████████████████████████████████████████▌   | 197/206 [8:28:58<00:42,  4.71s/it]"
     ]
    },
    {
     "name": "stdout",
     "output_type": "stream",
     "text": [
      "196\n"
     ]
    },
    {
     "name": "stderr",
     "output_type": "stream",
     "text": [
      "\r",
      " 96%|██████████████████████████████████████████████████████████████████████████▉   | 198/206 [8:29:03<00:38,  4.78s/it]"
     ]
    },
    {
     "name": "stdout",
     "output_type": "stream",
     "text": [
      "197\n"
     ]
    },
    {
     "name": "stderr",
     "output_type": "stream",
     "text": [
      "\r",
      " 97%|███████████████████████████████████████████████████████████████████████████▎  | 199/206 [8:29:08<00:34,  4.93s/it]"
     ]
    },
    {
     "name": "stdout",
     "output_type": "stream",
     "text": [
      "198\n"
     ]
    },
    {
     "name": "stderr",
     "output_type": "stream",
     "text": [
      "\r",
      " 97%|███████████████████████████████████████████████████████████████████████████▋  | 200/206 [8:29:12<00:28,  4.70s/it]"
     ]
    },
    {
     "name": "stdout",
     "output_type": "stream",
     "text": [
      "199\n"
     ]
    },
    {
     "name": "stderr",
     "output_type": "stream",
     "text": [
      "\r",
      " 98%|████████████████████████████████████████████████████████████████████████████  | 201/206 [8:29:19<00:26,  5.26s/it]"
     ]
    },
    {
     "name": "stdout",
     "output_type": "stream",
     "text": [
      "200\n"
     ]
    },
    {
     "name": "stderr",
     "output_type": "stream",
     "text": [
      "\r",
      " 98%|████████████████████████████████████████████████████████████████████████████▍ | 202/206 [8:29:22<00:18,  4.60s/it]"
     ]
    },
    {
     "name": "stdout",
     "output_type": "stream",
     "text": [
      "201\n"
     ]
    },
    {
     "name": "stderr",
     "output_type": "stream",
     "text": [
      "\r",
      " 99%|████████████████████████████████████████████████████████████████████████████▊ | 203/206 [8:29:27<00:14,  4.69s/it]"
     ]
    },
    {
     "name": "stdout",
     "output_type": "stream",
     "text": [
      "202\n"
     ]
    },
    {
     "name": "stderr",
     "output_type": "stream",
     "text": [
      "\r",
      " 99%|█████████████████████████████████████████████████████████████████████████████▏| 204/206 [8:29:36<00:12,  6.10s/it]"
     ]
    },
    {
     "name": "stdout",
     "output_type": "stream",
     "text": [
      "203\n"
     ]
    },
    {
     "name": "stderr",
     "output_type": "stream",
     "text": [
      "\r",
      "100%|█████████████████████████████████████████████████████████████████████████████▌| 205/206 [8:29:46<00:07,  7.36s/it]"
     ]
    },
    {
     "name": "stdout",
     "output_type": "stream",
     "text": [
      "204\n"
     ]
    },
    {
     "name": "stderr",
     "output_type": "stream",
     "text": [
      "100%|█████████████████████████████████████████████████████████████████████████████| 206/206 [8:29:53<00:00, 148.51s/it]"
     ]
    },
    {
     "name": "stdout",
     "output_type": "stream",
     "text": [
      "205\n",
      "Done!\n"
     ]
    },
    {
     "name": "stderr",
     "output_type": "stream",
     "text": [
      "\n"
     ]
    }
   ],
   "source": [
    "    import pandas as pd \n",
    "    from tqdm import tqdm\n",
    "    f = pd.read_csv (r\"data/reg/test.csv\")\n",
    "    re = []\n",
    "    pce = f['PCE']\n",
    "    for ind, smile in enumerate (tqdm ( f['SMILES'])):\n",
    "        \n",
    "        atom,adj = mol_to_geognn_graph_data_MMFF3d(smile)\n",
    "        print(ind)\n",
    "        np.save('data/reg/test/adj'+str(ind)+'.npy',np.array(adj))\n",
    "        re.append([atom,'data/reg/test/adj'+str(ind)+'.npy',pce[ind] ])\n",
    "    r = pd.DataFrame(re)\n",
    "    r.to_csv('data/reg/test/test.csv')\n",
    "    print('Done!')\n",
    "    "
   ]
  },
  {
   "cell_type": "markdown",
   "id": "f0109f8d",
   "metadata": {},
   "source": [
    "### It is recommended to retrain and calculate on the supercomputing!"
   ]
  },
  {
   "cell_type": "markdown",
   "id": "b9268bec",
   "metadata": {},
   "source": [
    "### 3. Predict"
   ]
  },
  {
   "cell_type": "code",
   "execution_count": 3,
   "id": "8fcaf781",
   "metadata": {},
   "outputs": [],
   "source": [
    "import predict\n",
    "from predict import *\n"
   ]
  },
  {
   "cell_type": "code",
   "execution_count": 4,
   "id": "cd77adb1",
   "metadata": {},
   "outputs": [
    {
     "name": "stdout",
     "output_type": "stream",
     "text": [
      "data\n",
      "finish!  Results can be find in abcBERT/results.csv\n",
      "[[ 6.32487   ]\n",
      " [ 5.78203   ]\n",
      " [ 9.830467  ]\n",
      " [12.525901  ]\n",
      " [ 7.6848307 ]\n",
      " [ 9.966345  ]\n",
      " [ 7.4933352 ]\n",
      " [ 9.838319  ]\n",
      " [10.137985  ]\n",
      " [ 6.458591  ]\n",
      " [11.027317  ]\n",
      " [ 9.139197  ]\n",
      " [10.781679  ]\n",
      " [ 5.3456764 ]\n",
      " [ 0.9508295 ]\n",
      " [ 3.0816107 ]\n",
      " [14.772552  ]\n",
      " [16.105417  ]\n",
      " [10.978567  ]\n",
      " [12.361264  ]\n",
      " [13.962849  ]\n",
      " [ 9.034893  ]\n",
      " [16.059265  ]\n",
      " [12.31415   ]\n",
      " [ 8.812487  ]\n",
      " [ 8.208516  ]\n",
      " [ 9.085342  ]\n",
      " [ 6.809249  ]\n",
      " [ 8.577834  ]\n",
      " [ 8.696746  ]\n",
      " [ 5.345743  ]\n",
      " [ 8.35626   ]\n",
      " [10.106018  ]\n",
      " [13.07176   ]\n",
      " [15.83292   ]\n",
      " [10.298649  ]\n",
      " [ 2.6678524 ]\n",
      " [ 8.74655   ]\n",
      " [ 8.880405  ]\n",
      " [ 7.25626   ]\n",
      " [ 1.4840568 ]\n",
      " [11.660007  ]\n",
      " [11.361352  ]\n",
      " [ 8.775978  ]\n",
      " [ 6.6474233 ]\n",
      " [11.529257  ]\n",
      " [ 7.156933  ]\n",
      " [ 8.635442  ]\n",
      " [ 9.638616  ]\n",
      " [11.512436  ]\n",
      " [ 9.79162   ]\n",
      " [ 8.898342  ]\n",
      " [ 3.4168417 ]\n",
      " [16.132832  ]\n",
      " [10.257622  ]\n",
      " [ 8.858661  ]\n",
      " [ 5.9179754 ]\n",
      " [10.626143  ]\n",
      " [14.723402  ]\n",
      " [ 9.498344  ]\n",
      " [ 8.2845    ]\n",
      " [ 6.6272154 ]\n",
      " [10.867565  ]\n",
      " [ 1.5781896 ]\n",
      " [13.524793  ]\n",
      " [10.864847  ]\n",
      " [ 8.053201  ]\n",
      " [ 7.9013324 ]\n",
      " [13.750843  ]\n",
      " [16.090443  ]\n",
      " [11.975258  ]\n",
      " [11.690483  ]\n",
      " [ 6.8369255 ]\n",
      " [ 6.071497  ]\n",
      " [10.661373  ]\n",
      " [ 8.836434  ]\n",
      " [ 1.1759577 ]\n",
      " [ 5.1732674 ]\n",
      " [ 7.4553285 ]\n",
      " [ 6.348199  ]\n",
      " [15.825846  ]\n",
      " [ 7.2351437 ]\n",
      " [10.243866  ]\n",
      " [ 1.9514673 ]\n",
      " [16.215023  ]\n",
      " [ 7.2152004 ]\n",
      " [10.460716  ]\n",
      " [ 6.387013  ]\n",
      " [ 5.031377  ]\n",
      " [11.433101  ]\n",
      " [ 2.5773828 ]\n",
      " [10.935158  ]\n",
      " [ 5.1341343 ]\n",
      " [10.48446   ]\n",
      " [15.6419    ]\n",
      " [ 7.24728   ]\n",
      " [ 9.970489  ]\n",
      " [10.111417  ]\n",
      " [ 5.7732034 ]\n",
      " [ 8.086596  ]\n",
      " [ 5.1734285 ]\n",
      " [10.460718  ]\n",
      " [10.567587  ]\n",
      " [ 5.7104826 ]\n",
      " [11.3074665 ]\n",
      " [ 6.4702053 ]\n",
      " [ 6.3264046 ]\n",
      " [ 8.39514   ]\n",
      " [ 2.3157291 ]\n",
      " [ 8.268093  ]\n",
      " [ 9.100977  ]\n",
      " [ 3.477268  ]\n",
      " [ 9.102596  ]\n",
      " [10.454512  ]\n",
      " [ 5.891814  ]\n",
      " [ 7.976277  ]\n",
      " [14.45633   ]\n",
      " [ 6.1762133 ]\n",
      " [12.355339  ]\n",
      " [10.472188  ]\n",
      " [ 9.796099  ]\n",
      " [16.234894  ]\n",
      " [ 2.5819845 ]\n",
      " [12.532336  ]\n",
      " [ 9.510343  ]\n",
      " [10.725885  ]\n",
      " [ 2.8648624 ]\n",
      " [15.438997  ]\n",
      " [11.231212  ]\n",
      " [16.079538  ]\n",
      " [ 5.5755596 ]\n",
      " [10.826919  ]\n",
      " [ 2.378895  ]\n",
      " [11.765689  ]\n",
      " [ 7.0874662 ]\n",
      " [10.933249  ]\n",
      " [ 7.579316  ]\n",
      " [ 8.77361   ]\n",
      " [ 8.165855  ]\n",
      " [ 7.351579  ]\n",
      " [ 2.1926603 ]\n",
      " [13.931528  ]\n",
      " [ 7.1083984 ]\n",
      " [15.158197  ]\n",
      " [12.031284  ]\n",
      " [14.693695  ]\n",
      " [ 9.071697  ]\n",
      " [ 8.979656  ]\n",
      " [12.697592  ]\n",
      " [11.383015  ]\n",
      " [ 9.714364  ]\n",
      " [10.877817  ]\n",
      " [11.793754  ]\n",
      " [ 9.01757   ]\n",
      " [ 7.304463  ]\n",
      " [ 9.796731  ]\n",
      " [11.680361  ]\n",
      " [ 8.665332  ]\n",
      " [11.925945  ]\n",
      " [13.600859  ]\n",
      " [10.469557  ]\n",
      " [ 1.8631781 ]\n",
      " [14.507275  ]\n",
      " [11.394144  ]\n",
      " [ 7.099129  ]\n",
      " [ 8.888866  ]\n",
      " [ 6.5391264 ]\n",
      " [ 9.107687  ]\n",
      " [ 4.512076  ]\n",
      " [15.267718  ]\n",
      " [ 9.100085  ]\n",
      " [ 6.6095634 ]\n",
      " [ 7.228988  ]\n",
      " [ 5.746199  ]\n",
      " [11.036519  ]\n",
      " [ 2.0293646 ]\n",
      " [12.545673  ]\n",
      " [11.673166  ]\n",
      " [10.984367  ]\n",
      " [ 5.979436  ]\n",
      " [10.51698   ]\n",
      " [ 7.919426  ]\n",
      " [ 7.362477  ]\n",
      " [10.929951  ]\n",
      " [ 9.610706  ]\n",
      " [ 9.781566  ]\n",
      " [12.925745  ]\n",
      " [ 9.678762  ]\n",
      " [ 2.1681418 ]\n",
      " [ 9.350327  ]\n",
      " [ 0.29990867]\n",
      " [ 8.985126  ]\n",
      " [ 9.107688  ]\n",
      " [10.095537  ]\n",
      " [10.654359  ]\n",
      " [12.580015  ]\n",
      " [ 9.261367  ]\n",
      " [15.784529  ]\n",
      " [10.90776   ]\n",
      " [ 9.136311  ]\n",
      " [ 8.799751  ]\n",
      " [ 1.6566141 ]\n",
      " [ 6.4414206 ]\n",
      " [ 8.8578415 ]\n",
      " [10.498035  ]\n",
      " [ 8.152869  ]]\n"
     ]
    }
   ],
   "source": [
    "np.set_printoptions(threshold=sys.maxsize)\n",
    "prediction_val= main()\n",
    "print(prediction_val)"
   ]
  },
  {
   "cell_type": "code",
   "execution_count": 7,
   "id": "b67a265d",
   "metadata": {},
   "outputs": [],
   "source": [
    "import predictbysmiles\n",
    "\n",
    "from predictbysmiles import *"
   ]
  },
  {
   "cell_type": "code",
   "execution_count": 9,
   "id": "3b7b3311",
   "metadata": {},
   "outputs": [
    {
     "name": "stdout",
     "output_type": "stream",
     "text": [
      "[6.32487]\n"
     ]
    }
   ],
   "source": [
    "prediction_val = main ('CCCCCCCCC1=CC=C(C2(C3=CC=C(CCCCCCCC)C=C3)C3=CC4=C(C=C3C3=C2C2=C(C=C(C5=CC=C(/C=C6/C(=O)C7=C(C=CC=C7)C6=C(C#N)C#N)C6=NSN=C56)S2)S3)C(C2=CC=C(CCCCCCCC)C=C2)(C2=CC=C(CCCCCCCC)C=C2)C2=C4SC3=C2SC(C2=CC=C(/C=C4\\C(=O)C5=C(C=CC=C5)C4=C(C#N)C#N)C4=NSN=C24)=C3)C=C1')"
   ]
  },
  {
   "cell_type": "markdown",
   "id": "7d7e610c",
   "metadata": {},
   "source": [
    "## Acknowledgement"
   ]
  },
  {
   "cell_type": "markdown",
   "id": "c325417d",
   "metadata": {},
   "source": [
    "Jinyu Sun \n",
    "\n",
    "E-mail: jinyusun@csu.edu.cn"
   ]
  }
 ],
 "metadata": {
  "kernelspec": {
   "display_name": "Python 3 (ipykernel)",
   "language": "python",
   "name": "python3"
  },
  "language_info": {
   "codemirror_mode": {
    "name": "ipython",
    "version": 3
   },
   "file_extension": ".py",
   "mimetype": "text/x-python",
   "name": "python",
   "nbconvert_exporter": "python",
   "pygments_lexer": "ipython3",
   "version": "3.8.8"
  }
 },
 "nbformat": 4,
 "nbformat_minor": 5
}
